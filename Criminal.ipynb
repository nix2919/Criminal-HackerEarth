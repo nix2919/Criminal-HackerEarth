{
 "cells": [
  {
   "cell_type": "code",
   "execution_count": 111,
   "metadata": {
    "collapsed": true
   },
   "outputs": [],
   "source": [
    "%matplotlib inline\n",
    "from pandas import read_csv, DataFrame, get_dummies, Series\n",
    "from numpy import nanmean\n",
    "import matplotlib.pyplot as plt\n",
    "from multiprocessing import Pool, cpu_count\n",
    "from functools import partial\n",
    "from scipy import stats\n",
    "from sklearn.preprocessing import normalize\n",
    "from sklearn.svm import SVC\n",
    "from sklearn.naive_bayes import GaussianNB\n",
    "from sklearn.linear_model import LogisticRegression\n",
    "from sklearn.ensemble import ExtraTreesClassifier, RandomForestClassifier\n",
    "from sklearn.ensemble import AdaBoostClassifier, GradientBoostingClassifier\n",
    "from sklearn.neighbors import KNeighborsClassifier\n",
    "# from boruta import BorutaPy\n",
    "import xgboost as xgb\n",
    "from random import sample\n",
    "from sklearn.pipeline import Pipeline\n",
    "from sklearn.metrics import accuracy_score, matthews_corrcoef, roc_auc_score, confusion_matrix\n",
    "from sklearn.metrics import make_scorer\n",
    "from sklearn.model_selection import train_test_split, GridSearchCV\n",
    "from sklearn.feature_selection import RFE, SelectFromModel, SelectKBest, VarianceThreshold\n",
    "from sklearn.feature_selection import SelectFpr, chi2, mutual_info_classif"
   ]
  },
  {
   "cell_type": "code",
   "execution_count": 112,
   "metadata": {
    "collapsed": true
   },
   "outputs": [],
   "source": [
    "from warnings import simplefilter\n",
    "simplefilter(\"ignore\")"
   ]
  },
  {
   "cell_type": "code",
   "execution_count": 113,
   "metadata": {},
   "outputs": [
    {
     "name": "stdout",
     "output_type": "stream",
     "text": [
      "      PERID  IFATHER  NRCH17_2  IRHHSIZ2  IIHHSIZ2  IRKI17_2  IIKI17_2  \\\n",
      "0  25095143      4.0       2.0       4.0       1.0       3.0       1.0   \n",
      "1  13005143      4.0       1.0       3.0       1.0       2.0       1.0   \n",
      "\n",
      "   IRHH65_2  IIHH65_2  PRXRETRY    ...     TOOLONG  TROUBUND  PDEN10  COUTYP2  \\\n",
      "0       1.0       1.0      99.0    ...         1.0       2.0     1.0      1.0   \n",
      "1       1.0       1.0      99.0    ...         2.0       2.0     2.0      3.0   \n",
      "\n",
      "   MAIIN102  AIIND102     ANALWT_C    VESTR  VEREP  Criminal  \n",
      "0       2.0       2.0  3884.805998  40026.0    1.0         0  \n",
      "1       2.0       2.0  1627.108106  40015.0    2.0         1  \n",
      "\n",
      "[2 rows x 72 columns]\n"
     ]
    }
   ],
   "source": [
    "# Train data\n",
    "train = read_csv('train.csv', na_values=-1)\n",
    "print(train.head(2))"
   ]
  },
  {
   "cell_type": "code",
   "execution_count": 114,
   "metadata": {
    "scrolled": true
   },
   "outputs": [
    {
     "data": {
      "text/plain": [
       "array(['IFATHER', 'NRCH17_2', 'IRHHSIZ2', 'IIHHSIZ2', 'IRKI17_2',\n",
       "       'IIKI17_2', 'IRHH65_2', 'IIHH65_2', 'PRXRETRY', 'PRXYDATA',\n",
       "       'MEDICARE', 'CAIDCHIP', 'CHAMPUS', 'PRVHLTIN', 'GRPHLTIN',\n",
       "       'HLTINNOS', 'HLCNOTYR', 'HLCNOTMO', 'HLCLAST', 'HLLOSRSN',\n",
       "       'HLNVCOST', 'HLNVOFFR', 'HLNVREF', 'HLNVNEED', 'HLNVSOR',\n",
       "       'IRMCDCHP', 'IIMCDCHP', 'IRMEDICR', 'IIMEDICR', 'IRCHMPUS',\n",
       "       'IICHMPUS', 'IRPRVHLT', 'IIPRVHLT', 'IROTHHLT', 'IIOTHHLT',\n",
       "       'HLCALLFG', 'HLCALL99', 'ANYHLTI2', 'IRINSUR4', 'IIINSUR4',\n",
       "       'OTHINS', 'CELLNOTCL', 'CELLWRKNG', 'IRFAMSOC', 'IIFAMSOC',\n",
       "       'IRFAMSSI', 'IIFAMSSI', 'IRFSTAMP', 'IIFSTAMP', 'IRFAMPMT',\n",
       "       'IIFAMPMT', 'IRFAMSVC', 'IIFAMSVC', 'IRWELMOS', 'IIWELMOS',\n",
       "       'IRPINC3', 'IRFAMIN3', 'IIPINC3', 'IIFAMIN3', 'GOVTPROG',\n",
       "       'POVERTY3', 'TOOLONG', 'TROUBUND', 'PDEN10', 'COUTYP2', 'MAIIN102',\n",
       "       'AIIND102', 'ANALWT_C', 'VESTR', 'VEREP', 'Criminal'], dtype=object)"
      ]
     },
     "execution_count": 114,
     "metadata": {},
     "output_type": "execute_result"
    }
   ],
   "source": [
    "train.drop('PERID', axis=1, inplace=True)\n",
    "from numpy import inf, nan\n",
    "train = train.replace([inf, -inf], nan).dropna()\n",
    "train.columns.values"
   ]
  },
  {
   "cell_type": "code",
   "execution_count": null,
   "metadata": {
    "collapsed": true
   },
   "outputs": [],
   "source": []
  },
  {
   "cell_type": "code",
   "execution_count": null,
   "metadata": {
    "collapsed": true,
    "scrolled": true
   },
   "outputs": [],
   "source": []
  },
  {
   "cell_type": "code",
   "execution_count": null,
   "metadata": {
    "collapsed": true
   },
   "outputs": [],
   "source": []
  },
  {
   "cell_type": "code",
   "execution_count": null,
   "metadata": {
    "collapsed": true
   },
   "outputs": [],
   "source": []
  },
  {
   "cell_type": "code",
   "execution_count": null,
   "metadata": {
    "collapsed": true
   },
   "outputs": [],
   "source": []
  },
  {
   "cell_type": "code",
   "execution_count": null,
   "metadata": {
    "collapsed": true
   },
   "outputs": [],
   "source": []
  },
  {
   "cell_type": "code",
   "execution_count": null,
   "metadata": {
    "collapsed": true
   },
   "outputs": [],
   "source": [
    "# Normalization of Train and Test\n",
    "cols = list(X.columns.values)\n",
    "\n",
    "# Train\n",
    "X = DataFrame(normalize(X))\n",
    "X.columns = cols\n",
    "X.head(2)\n",
    "\n",
    "# Test\n",
    "test_xgb_org = DataFrame(normalize(test_xgb_org))\n",
    "test_xgb_org.columns = cols\n",
    "test_xgb_org.head(2)"
   ]
  },
  {
   "cell_type": "markdown",
   "metadata": {},
   "source": [
    "# Data Exploration and prepocessing"
   ]
  },
  {
   "cell_type": "code",
   "execution_count": 115,
   "metadata": {
    "scrolled": true
   },
   "outputs": [
    {
     "name": "stdout",
     "output_type": "stream",
     "text": [
      "Target Class\n",
      " 0    42233\n",
      "1     3060\n",
      "Name: Criminal, dtype: int64\n",
      "\n",
      "Number of unique values in each column\n",
      "\n",
      " IFATHER\n",
      "      Overall  Criminal\n",
      "4.0  0.760758  0.653922\n",
      "1.0  0.171726  0.200000\n",
      "2.0  0.067339  0.145425\n",
      "3.0  0.000177  0.000654\n",
      "\n",
      " NRCH17_2\n",
      "      Overall  Criminal\n",
      "0.0  0.731548  0.889869\n",
      "1.0  0.110370  0.051634\n",
      "2.0  0.101804  0.037582\n",
      "3.0  0.056278  0.020915\n",
      "\n",
      " IRHHSIZ2\n",
      "      Overall  Criminal\n",
      "1.0  0.078489  0.139869\n",
      "2.0  0.222639  0.267974\n",
      "3.0  0.223147  0.217320\n",
      "4.0  0.239309  0.191503\n",
      "5.0  0.136003  0.101634\n",
      "6.0  0.100413  0.081699\n",
      "\n",
      " IIHHSIZ2\n",
      "     Overall  Criminal\n",
      "1.0      1.0       1.0\n",
      "\n",
      " IRKI17_2\n",
      "      Overall  Criminal\n",
      "1.0  0.417084  0.494771\n",
      "2.0  0.223015  0.191176\n",
      "3.0  0.210695  0.176797\n",
      "4.0  0.149206  0.137255\n",
      "\n",
      " IIKI17_2\n",
      "      Overall  Criminal\n",
      "1.0  0.997726  0.997712\n",
      "3.0  0.002274  0.002288\n",
      "\n",
      " IRHH65_2\n",
      "      Overall  Criminal\n",
      "1.0  0.878193  0.741503\n",
      "2.0  0.079725  0.149346\n",
      "3.0  0.042082  0.109150\n",
      "\n",
      " IIHH65_2\n",
      "      Overall  Criminal\n",
      "1.0  0.995474  0.995425\n",
      "3.0  0.004018  0.004248\n",
      "2.0  0.000508  0.000327\n",
      "\n",
      " PRXRETRY\n",
      "       Overall  Criminal\n",
      "2.0   0.016603  0.014706\n",
      "94.0  0.000707  0.000654\n",
      "97.0  0.000110       NaN\n",
      "98.0  0.000221  0.000654\n",
      "99.0  0.982359  0.983987\n",
      "\n",
      " PRXYDATA\n",
      "       Overall  Criminal\n",
      "1.0   0.288676  0.363399\n",
      "2.0   0.000839  0.000654\n",
      "94.0  0.000707  0.000654\n",
      "97.0  0.000066       NaN\n",
      "98.0  0.000221  0.000654\n",
      "99.0  0.709492  0.634641\n",
      "\n",
      " MEDICARE\n",
      "       Overall  Criminal\n",
      "2.0   0.912106  0.750327\n",
      "1.0   0.083567  0.236601\n",
      "94.0  0.003466  0.010131\n",
      "97.0  0.000773  0.002288\n",
      "85.0  0.000088  0.000654\n",
      "\n",
      " CAIDCHIP\n",
      "       Overall  Criminal\n",
      "1.0   0.225377  0.092484\n",
      "2.0   0.765659  0.882353\n",
      "85.0  0.001126  0.001307\n",
      "94.0  0.006911  0.020588\n",
      "97.0  0.000927  0.003268\n",
      "\n",
      " CHAMPUS\n",
      "       Overall  Criminal\n",
      "2.0   0.959817  0.962418\n",
      "1.0   0.037931  0.028105\n",
      "94.0  0.001590  0.006863\n",
      "97.0  0.000574  0.001961\n",
      "85.0  0.000088  0.000654\n",
      "\n",
      " PRVHLTIN\n",
      "       Overall  Criminal\n",
      "1.0   0.607644  0.962418\n",
      "2.0   0.385932       NaN\n",
      "85.0  0.000088  0.000654\n",
      "94.0  0.005431  0.033007\n",
      "97.0  0.000905  0.003922\n",
      "\n",
      " GRPHLTIN\n",
      "       Overall  Criminal\n",
      "1.0   0.535712  0.731373\n",
      "2.0   0.070386  0.224183\n",
      "85.0  0.000066  0.000327\n",
      "94.0  0.001523  0.006536\n",
      "97.0  0.000927  0.004248\n",
      "98.0  0.005453  0.033333\n",
      "99.0  0.385932       NaN\n",
      "\n",
      " HLTINNOS\n",
      "       Overall  Criminal\n",
      "1.0   0.031175       NaN\n",
      "2.0   0.102179       NaN\n",
      "94.0  0.000486       NaN\n",
      "97.0  0.000132       NaN\n",
      "99.0  0.866028       1.0\n",
      "\n",
      " HLCNOTYR\n",
      "       Overall  Criminal\n",
      "1.0   0.071777  0.054575\n",
      "2.0   0.815402  0.914706\n",
      "85.0  0.000464  0.000654\n",
      "94.0  0.001943  0.004902\n",
      "97.0  0.001170  0.003595\n",
      "98.0  0.007065  0.021569\n",
      "99.0  0.102179       NaN\n",
      "\n",
      " HLCLAST\n",
      "       Overall  Criminal\n",
      "1.0   0.019208       NaN\n",
      "2.0   0.012320       NaN\n",
      "3.0   0.021063       NaN\n",
      "4.0   0.028967       NaN\n",
      "5.0   0.019849       NaN\n",
      "94.0  0.000729       NaN\n",
      "97.0  0.001192  0.003268\n",
      "98.0  0.007529  0.022222\n",
      "99.0  0.889144  0.974510\n",
      "\n",
      " HLNVCOST\n",
      "       Overall  Criminal\n",
      "1.0   0.009913       NaN\n",
      "6.0   0.009869       NaN\n",
      "94.0  0.000066       NaN\n",
      "97.0  0.001148  0.003268\n",
      "98.0  0.007750  0.022222\n",
      "99.0  0.971254  0.974510\n",
      "\n",
      " HLNVOFFR\n",
      "       Overall  Criminal\n",
      "1.0   0.002914       NaN\n",
      "6.0   0.016868       NaN\n",
      "94.0  0.000066       NaN\n",
      "97.0  0.001148  0.003268\n",
      "98.0  0.007750  0.022222\n",
      "99.0  0.971254  0.974510\n",
      "\n",
      " HLNVREF\n",
      "       Overall  Criminal\n",
      "1.0   0.000596       NaN\n",
      "6.0   0.019186       NaN\n",
      "94.0  0.000066       NaN\n",
      "97.0  0.001148  0.003268\n",
      "98.0  0.007750  0.022222\n",
      "99.0  0.971254  0.974510\n",
      "\n",
      " HLNVNEED\n",
      "       Overall  Criminal\n",
      "1.0   0.003974       NaN\n",
      "6.0   0.015808       NaN\n",
      "94.0  0.000066       NaN\n",
      "97.0  0.001148  0.003268\n",
      "98.0  0.007750  0.022222\n",
      "99.0  0.971254  0.974510\n",
      "\n",
      " HLNVSOR\n",
      "       Overall  Criminal\n",
      "1.0   0.002936       NaN\n",
      "6.0   0.016846       NaN\n",
      "94.0  0.000066       NaN\n",
      "97.0  0.001148  0.003268\n",
      "98.0  0.007750  0.022222\n",
      "99.0  0.971254  0.974510\n",
      "\n",
      " IRMCDCHP\n",
      "     Overall  Criminal\n",
      "2.0  0.77151  0.895425\n",
      "1.0  0.22849  0.104575\n",
      "\n",
      " IIMCDCHP\n",
      "      Overall  Criminal\n",
      "1.0  0.991036  0.974837\n",
      "3.0  0.008964  0.025163\n",
      "\n",
      " IRMEDICR\n",
      "      Overall  Criminal\n",
      "2.0  0.916256  0.762745\n",
      "1.0  0.083744  0.237255\n",
      "\n",
      " IIMEDICR\n",
      "      Overall  Criminal\n",
      "1.0  0.995673  0.986928\n",
      "3.0  0.004327  0.013072\n",
      "\n",
      " IRCHMPUS\n",
      "      Overall  Criminal\n",
      "2.0  0.962025  0.971895\n",
      "1.0  0.037975  0.028105\n",
      "\n",
      " IICHMPUS\n",
      "      Overall  Criminal\n",
      "1.0  0.997748  0.990523\n",
      "3.0  0.002252  0.009477\n",
      "\n",
      " IRPRVHLT\n",
      "      Overall  Criminal\n",
      "1.0  0.611044  0.977778\n",
      "2.0  0.388956  0.022222\n",
      "\n",
      " IIPRVHLT\n",
      "      Overall  Criminal\n",
      "1.0  0.993575  0.962418\n",
      "3.0  0.006425  0.037582\n",
      "\n",
      " IROTHHLT\n",
      "       Overall  Criminal\n",
      "99.0  0.863489  0.994444\n",
      "2.0   0.104564  0.004575\n",
      "1.0   0.031948  0.000980\n",
      "\n",
      " IIOTHHLT\n",
      "      Overall  Criminal\n",
      "1.0  0.133354       NaN\n",
      "3.0  0.008677   0.02549\n",
      "9.0  0.857969   0.97451\n",
      "\n",
      " HLCALLFG\n",
      "       Overall  Criminal\n",
      "98.0  0.999801  0.997712\n",
      "1.0   0.000199  0.002288\n",
      "\n",
      " HLCALL99\n",
      "       Overall  Criminal\n",
      "98.0  0.999801  0.997712\n",
      "1.0   0.000199  0.002288\n",
      "\n",
      " ANYHLTI2\n",
      "       Overall  Criminal\n",
      "1.0   0.889144  0.974510\n",
      "2.0   0.102179       NaN\n",
      "94.0  0.007043  0.021569\n",
      "97.0  0.001148  0.003268\n",
      "98.0  0.000486  0.000654\n",
      "\n",
      " IRINSUR4\n",
      "      Overall  Criminal\n",
      "1.0  0.895436  0.995425\n",
      "2.0  0.104564  0.004575\n",
      "\n",
      " IIINSUR4\n",
      "      Overall  Criminal\n",
      "1.0  0.991323   0.97451\n",
      "3.0  0.008677   0.02549\n",
      "\n",
      " OTHINS\n",
      "     Overall  Criminal\n",
      "2.0   0.8549  0.749673\n",
      "1.0   0.1451  0.250327\n",
      "\n",
      " CELLNOTCL\n",
      "       Overall  Criminal\n",
      "1.0   0.433312  0.477451\n",
      "2.0   0.565385  0.520588\n",
      "85.0  0.000110  0.000654\n",
      "94.0  0.000442  0.000327\n",
      "97.0  0.000640  0.000980\n",
      "98.0  0.000110       NaN\n",
      "\n",
      " CELLWRKNG\n",
      "       Overall  Criminal\n",
      "1.0   0.977016  0.952614\n",
      "2.0   0.022255  0.045425\n",
      "85.0  0.000110  0.000654\n",
      "94.0  0.000110  0.000327\n",
      "97.0  0.000397  0.000980\n",
      "98.0  0.000110       NaN\n",
      "\n",
      " IRFAMSOC\n",
      "      Overall  Criminal\n",
      "2.0  0.836796  0.677778\n",
      "1.0  0.163204  0.322222\n",
      "\n",
      " IIFAMSOC\n",
      "      Overall  Criminal\n",
      "1.0  0.991213  0.982026\n",
      "3.0  0.008787  0.017974\n",
      "\n",
      " IRFAMSSI\n",
      "      Overall  Criminal\n",
      "2.0  0.931446  0.926471\n",
      "1.0  0.068554  0.073529\n",
      "\n",
      " IIFAMSSI\n",
      "      Overall  Criminal\n",
      "1.0  0.991058  0.977778\n",
      "3.0  0.008942  0.022222\n",
      "\n",
      " IRFSTAMP\n",
      "      Overall  Criminal\n",
      "2.0  0.798931  0.807516\n",
      "1.0  0.201069  0.192484\n",
      "\n",
      " IIFSTAMP\n",
      "      Overall  Criminal\n",
      "1.0  0.995584  0.989869\n",
      "3.0  0.004416  0.010131\n",
      "\n",
      " IRFAMPMT\n",
      "      Overall  Criminal\n",
      "2.0  0.973197  0.975163\n",
      "1.0  0.026803  0.024837\n",
      "\n",
      " IIFAMPMT\n",
      "      Overall  Criminal\n",
      "1.0  0.993134   0.98268\n",
      "3.0  0.006866   0.01732\n",
      "\n",
      " IRFAMSVC\n",
      "      Overall  Criminal\n",
      "2.0  0.963858  0.962418\n",
      "1.0  0.036142  0.037582\n",
      "\n",
      " IIFAMSVC\n",
      "      Overall  Criminal\n",
      "1.0  0.994922  0.985621\n",
      "3.0  0.005078  0.014379\n",
      "\n",
      " IIWELMOS\n",
      "      Overall  Criminal\n",
      "9.0  0.938379  0.927124\n",
      "1.0  0.052149  0.050000\n",
      "3.0  0.009472  0.022876\n",
      "\n",
      " IRPINC3\n",
      "      Overall  Criminal\n",
      "1.0  0.468549  0.632026\n",
      "2.0  0.157132  0.181046\n",
      "3.0  0.099773  0.102941\n",
      "4.0  0.072506  0.053922\n",
      "5.0  0.058817  0.030065\n",
      "6.0  0.073102       NaN\n",
      "7.0  0.070121       NaN\n",
      "\n",
      " IRFAMIN3\n",
      "      Overall  Criminal\n",
      "1.0  0.082551  0.128431\n",
      "2.0  0.122248  0.166013\n",
      "3.0  0.110790  0.211765\n",
      "4.0  0.105248  0.240523\n",
      "5.0  0.099508  0.253268\n",
      "6.0  0.157022       NaN\n",
      "7.0  0.322633       NaN\n",
      "\n",
      " IIPINC3\n",
      "      Overall  Criminal\n",
      "1.0  0.969907  0.950654\n",
      "3.0  0.030093  0.049346\n",
      "\n",
      " IIFAMIN3\n",
      "      Overall  Criminal\n",
      "1.0  0.903385  0.860458\n",
      "3.0  0.096615  0.139542\n",
      "\n",
      " GOVTPROG\n",
      "      Overall  Criminal\n",
      "2.0  0.761332  0.757843\n",
      "1.0  0.238668  0.242157\n",
      "\n",
      " POVERTY3\n",
      "      Overall  Criminal\n",
      "1.0  0.205551   0.27451\n",
      "2.0  0.225289   0.47451\n",
      "3.0  0.569161   0.25098\n",
      "\n",
      " TOOLONG\n",
      "       Overall  Criminal\n",
      "2.0   0.924779  0.899673\n",
      "1.0   0.072594  0.097059\n",
      "98.0  0.002627  0.003268\n",
      "\n",
      " TROUBUND\n",
      "       Overall  Criminal\n",
      "2.0   0.940388  0.917320\n",
      "1.0   0.056985  0.079412\n",
      "98.0  0.002627  0.003268\n",
      "\n",
      " PDEN10\n",
      "      Overall  Criminal\n",
      "2.0  0.490584  0.538889\n",
      "1.0  0.432142  0.369608\n",
      "3.0  0.077275  0.091503\n",
      "\n",
      " COUTYP2\n",
      "      Overall  Criminal\n",
      "1.0  0.443976  0.383987\n",
      "2.0  0.348509  0.375817\n",
      "3.0  0.207516  0.240196\n",
      "\n",
      " MAIIN102\n",
      "      Overall  Criminal\n",
      "2.0  0.978915  0.979739\n",
      "1.0  0.021085  0.020261\n",
      "\n",
      " AIIND102\n",
      "      Overall  Criminal\n",
      "2.0  0.978716  0.979085\n",
      "1.0  0.021284  0.020915\n",
      "\n",
      " VEREP\n",
      "      Overall  Criminal\n",
      "1.0  0.506414  0.519608\n",
      "2.0  0.493586  0.480392\n",
      "\n",
      " Criminal\n",
      "   Overall  Criminal\n",
      "0  0.93244       NaN\n",
      "1  0.06756       1.0\n"
     ]
    }
   ],
   "source": [
    "# Class imbalance\n",
    "print('Target Class\\n', train['Criminal'].value_counts())\n",
    "cols = train.columns.values\n",
    "\n",
    "# Number of unique values\n",
    "print('\\nNumber of unique values in each column')\n",
    "overall = train.shape[0]\n",
    "train_criminal = train[train['Criminal']==1]\n",
    "criminal = train_criminal.shape[0]\n",
    "for col in cols:\n",
    "    if len(train[col].unique()) > 10:\n",
    "        continue\n",
    "    print('\\n', col)\n",
    "    temp = DataFrame({'Overall': train[col].value_counts() / overall,\n",
    "                      'Criminal': train_criminal[col].value_counts() / criminal})\n",
    "    print(temp[['Overall', 'Criminal']])"
   ]
  },
  {
   "cell_type": "markdown",
   "metadata": {},
   "source": [
    "#### Creating \"NC17\" column by removing (NRCH17_2, IRHHSIZ2)"
   ]
  },
  {
   "cell_type": "code",
   "execution_count": 116,
   "metadata": {
    "collapsed": true
   },
   "outputs": [],
   "source": [
    "train['NC17'] = train['NRCH17_2'] / train['IRHHSIZ2']\n",
    "del train['NRCH17_2']\n",
    "del train['IRHHSIZ2']"
   ]
  },
  {
   "cell_type": "markdown",
   "metadata": {},
   "source": [
    "#### Combining \"HLNV\" columns   and   \"HLCALL\" columns"
   ]
  },
  {
   "cell_type": "code",
   "execution_count": 117,
   "metadata": {},
   "outputs": [
    {
     "name": "stdout",
     "output_type": "stream",
     "text": [
      "['HLNVCOST', 'HLNVOFFR', 'HLNVREF', 'HLNVNEED', 'HLNVSOR']\n",
      "['HLCALLFG', 'HLCALL99']\n"
     ]
    }
   ],
   "source": [
    "hlnv_cols = [col for col in train.columns.values if \"HLNV\" in col]\n",
    "print(hlnv_cols)\n",
    "train['HLNV'] = train[hlnv_cols].apply(lambda row: round(sum(row.values)), axis=1)\n",
    "train = train.drop(hlnv_cols, axis=1)\n",
    "\n",
    "hlcall_cols = [col for col in train.columns.values if \"HLCALL\" in col]\n",
    "print(hlcall_cols)\n",
    "train['HLCALL'] = train[hlcall_cols].apply(lambda row: round(sum(row.values)), axis=1)\n",
    "train = train.drop(hlcall_cols, axis=1)"
   ]
  },
  {
   "cell_type": "markdown",
   "metadata": {},
   "source": [
    "#### Transforming \"HLCNOTMO\"  and  \"HLCLAST\""
   ]
  },
  {
   "cell_type": "code",
   "execution_count": 118,
   "metadata": {
    "collapsed": true
   },
   "outputs": [],
   "source": [
    "train['HLCNOTMO'] = train['HLCNOTMO'].apply(lambda x: 1 if x > 90 else 0)\n",
    "train['HLCLAST'] = train['HLCLAST'].apply(lambda x: 1 if x > 90 else 0)"
   ]
  },
  {
   "cell_type": "code",
   "execution_count": 119,
   "metadata": {
    "collapsed": true
   },
   "outputs": [],
   "source": [
    "# Separate numerical and categorical columns\n",
    "target = ['Criminal']\n",
    "num_cols = ['NC17', 'IRKI17_2', 'IRHH65_2', 'IRWELMOS', 'ANALWT_C']\n",
    "cat_cols = [col for col in train.columns.values if col not in (num_cols + target)]"
   ]
  },
  {
   "cell_type": "code",
   "execution_count": 120,
   "metadata": {},
   "outputs": [
    {
     "name": "stdout",
     "output_type": "stream",
     "text": [
      "65 5 59\n"
     ]
    }
   ],
   "source": [
    "print(len(train.columns.values), len(num_cols), len(cat_cols))"
   ]
  },
  {
   "cell_type": "markdown",
   "metadata": {},
   "source": [
    "### One-hot encoding and Frequency based features"
   ]
  },
  {
   "cell_type": "code",
   "execution_count": 121,
   "metadata": {
    "scrolled": true
   },
   "outputs": [
    {
     "name": "stdout",
     "output_type": "stream",
     "text": [
      ">> Calculating frequency for: IFATHER\n",
      ">> One-hot encoding for: IFATHER\n",
      ">> Calculating frequency for: IIHHSIZ2\n",
      ">> One-hot encoding for: IIHHSIZ2\n",
      ">> Calculating frequency for: IIKI17_2\n",
      ">> One-hot encoding for: IIKI17_2\n",
      ">> Calculating frequency for: IIHH65_2\n",
      ">> One-hot encoding for: IIHH65_2\n",
      ">> Calculating frequency for: PRXRETRY\n",
      ">> One-hot encoding for: PRXRETRY\n",
      ">> Calculating frequency for: PRXYDATA\n",
      ">> One-hot encoding for: PRXYDATA\n",
      ">> Calculating frequency for: MEDICARE\n",
      ">> One-hot encoding for: MEDICARE\n",
      ">> Calculating frequency for: CAIDCHIP\n",
      ">> One-hot encoding for: CAIDCHIP\n",
      ">> Calculating frequency for: CHAMPUS\n",
      ">> One-hot encoding for: CHAMPUS\n",
      ">> Calculating frequency for: PRVHLTIN\n",
      ">> One-hot encoding for: PRVHLTIN\n",
      ">> Calculating frequency for: GRPHLTIN\n",
      ">> One-hot encoding for: GRPHLTIN\n",
      ">> Calculating frequency for: HLTINNOS\n",
      ">> One-hot encoding for: HLTINNOS\n",
      ">> Calculating frequency for: HLCNOTYR\n",
      ">> One-hot encoding for: HLCNOTYR\n",
      ">> Calculating frequency for: HLCNOTMO\n",
      ">> One-hot encoding for: HLCNOTMO\n",
      ">> Calculating frequency for: HLCLAST\n",
      ">> One-hot encoding for: HLCLAST\n",
      ">> Calculating frequency for: HLLOSRSN\n",
      ">> One-hot encoding for: HLLOSRSN\n",
      ">> Calculating frequency for: IRMCDCHP\n",
      ">> One-hot encoding for: IRMCDCHP\n",
      ">> Calculating frequency for: IIMCDCHP\n",
      ">> One-hot encoding for: IIMCDCHP\n",
      ">> Calculating frequency for: IRMEDICR\n",
      ">> One-hot encoding for: IRMEDICR\n",
      ">> Calculating frequency for: IIMEDICR\n",
      ">> One-hot encoding for: IIMEDICR\n",
      ">> Calculating frequency for: IRCHMPUS\n",
      ">> One-hot encoding for: IRCHMPUS\n",
      ">> Calculating frequency for: IICHMPUS\n",
      ">> One-hot encoding for: IICHMPUS\n",
      ">> Calculating frequency for: IRPRVHLT\n",
      ">> One-hot encoding for: IRPRVHLT\n",
      ">> Calculating frequency for: IIPRVHLT\n",
      ">> One-hot encoding for: IIPRVHLT\n",
      ">> Calculating frequency for: IROTHHLT\n",
      ">> One-hot encoding for: IROTHHLT\n",
      ">> Calculating frequency for: IIOTHHLT\n",
      ">> One-hot encoding for: IIOTHHLT\n",
      ">> Calculating frequency for: ANYHLTI2\n",
      ">> One-hot encoding for: ANYHLTI2\n",
      ">> Calculating frequency for: IRINSUR4\n",
      ">> One-hot encoding for: IRINSUR4\n",
      ">> Calculating frequency for: IIINSUR4\n",
      ">> One-hot encoding for: IIINSUR4\n",
      ">> Calculating frequency for: OTHINS\n",
      ">> One-hot encoding for: OTHINS\n",
      ">> Calculating frequency for: CELLNOTCL\n",
      ">> One-hot encoding for: CELLNOTCL\n",
      ">> Calculating frequency for: CELLWRKNG\n",
      ">> One-hot encoding for: CELLWRKNG\n",
      ">> Calculating frequency for: IRFAMSOC\n",
      ">> One-hot encoding for: IRFAMSOC\n",
      ">> Calculating frequency for: IIFAMSOC\n",
      ">> One-hot encoding for: IIFAMSOC\n",
      ">> Calculating frequency for: IRFAMSSI\n",
      ">> One-hot encoding for: IRFAMSSI\n",
      ">> Calculating frequency for: IIFAMSSI\n",
      ">> One-hot encoding for: IIFAMSSI\n",
      ">> Calculating frequency for: IRFSTAMP\n",
      ">> One-hot encoding for: IRFSTAMP\n",
      ">> Calculating frequency for: IIFSTAMP\n",
      ">> One-hot encoding for: IIFSTAMP\n",
      ">> Calculating frequency for: IRFAMPMT\n",
      ">> One-hot encoding for: IRFAMPMT\n",
      ">> Calculating frequency for: IIFAMPMT\n",
      ">> One-hot encoding for: IIFAMPMT\n",
      ">> Calculating frequency for: IRFAMSVC\n",
      ">> One-hot encoding for: IRFAMSVC\n",
      ">> Calculating frequency for: IIFAMSVC\n",
      ">> One-hot encoding for: IIFAMSVC\n",
      ">> Calculating frequency for: IIWELMOS\n",
      ">> One-hot encoding for: IIWELMOS\n",
      ">> Calculating frequency for: IRPINC3\n",
      ">> One-hot encoding for: IRPINC3\n",
      ">> Calculating frequency for: IRFAMIN3\n",
      ">> One-hot encoding for: IRFAMIN3\n",
      ">> Calculating frequency for: IIPINC3\n",
      ">> One-hot encoding for: IIPINC3\n",
      ">> Calculating frequency for: IIFAMIN3\n",
      ">> One-hot encoding for: IIFAMIN3\n",
      ">> Calculating frequency for: GOVTPROG\n",
      ">> One-hot encoding for: GOVTPROG\n",
      ">> Calculating frequency for: POVERTY3\n",
      ">> One-hot encoding for: POVERTY3\n",
      ">> Calculating frequency for: TOOLONG\n",
      ">> One-hot encoding for: TOOLONG\n",
      ">> Calculating frequency for: TROUBUND\n",
      ">> One-hot encoding for: TROUBUND\n",
      ">> Calculating frequency for: PDEN10\n",
      ">> One-hot encoding for: PDEN10\n",
      ">> Calculating frequency for: COUTYP2\n",
      ">> One-hot encoding for: COUTYP2\n",
      ">> Calculating frequency for: MAIIN102\n",
      ">> One-hot encoding for: MAIIN102\n",
      ">> Calculating frequency for: AIIND102\n",
      ">> One-hot encoding for: AIIND102\n",
      ">> Calculating frequency for: VESTR\n",
      ">> One-hot encoding for: VESTR\n",
      ">> Calculating frequency for: VEREP\n",
      ">> One-hot encoding for: VEREP\n",
      ">> Calculating frequency for: HLNV\n",
      ">> One-hot encoding for: HLNV\n",
      ">> Calculating frequency for: HLCALL\n",
      ">> One-hot encoding for: HLCALL\n"
     ]
    }
   ],
   "source": [
    "# Converting to categorical and one hot encoding\n",
    "freqs = {}\n",
    "for col in cat_cols:\n",
    "    \n",
    "    # Frequency columns\n",
    "    print(f\">> Calculating frequency for: {col}\")\n",
    "    # Get counts, sums and frequency of is_attributed\n",
    "    df = DataFrame({\n",
    "        'sums': train.groupby(col)['Criminal'].sum(),\n",
    "        'counts': train.groupby(col)['Criminal'].count()\n",
    "    })\n",
    "    df.loc[:, 'freq'] = df.sums / df.counts\n",
    "    \n",
    "    # If we have less than 3 observations, e.g. for an IP, then assume freq of 0\n",
    "    df.loc[df.counts <= 3, 'freq'] = 0      \n",
    "    \n",
    "    # Saving in dictionary\n",
    "    freqs[col] = df\n",
    "    \n",
    "    # Add to X_total\n",
    "    train[col+'_freq'] = train[col].map(df['freq'])\n",
    "    \n",
    "    # One Hot Encoding\n",
    "    print(f\">> One-hot encoding for: {col}\")\n",
    "    #train[col] = train[col].astype('category',copy=False)\n",
    "    temp = get_dummies(train[col])\n",
    "    temp.columns = [col+'_'+str(i).split('.')[0] for i in temp.columns]\n",
    "    train = train.join(temp)\n",
    "    train = train.drop(col,axis=1)"
   ]
  },
  {
   "cell_type": "code",
   "execution_count": 122,
   "metadata": {},
   "outputs": [
    {
     "data": {
      "text/html": [
       "<div>\n",
       "<style>\n",
       "    .dataframe thead tr:only-child th {\n",
       "        text-align: right;\n",
       "    }\n",
       "\n",
       "    .dataframe thead th {\n",
       "        text-align: left;\n",
       "    }\n",
       "\n",
       "    .dataframe tbody tr th {\n",
       "        vertical-align: top;\n",
       "    }\n",
       "</style>\n",
       "<table border=\"1\" class=\"dataframe\">\n",
       "  <thead>\n",
       "    <tr style=\"text-align: right;\">\n",
       "      <th></th>\n",
       "      <th>IRKI17_2</th>\n",
       "      <th>IRHH65_2</th>\n",
       "      <th>IRWELMOS</th>\n",
       "      <th>ANALWT_C</th>\n",
       "      <th>Criminal</th>\n",
       "      <th>NC17</th>\n",
       "      <th>IFATHER_freq</th>\n",
       "      <th>IFATHER_1</th>\n",
       "      <th>IFATHER_2</th>\n",
       "      <th>IFATHER_3</th>\n",
       "      <th>...</th>\n",
       "      <th>HLNV_15</th>\n",
       "      <th>HLNV_20</th>\n",
       "      <th>HLNV_25</th>\n",
       "      <th>HLNV_470</th>\n",
       "      <th>HLNV_485</th>\n",
       "      <th>HLNV_490</th>\n",
       "      <th>HLNV_495</th>\n",
       "      <th>HLCALL_freq</th>\n",
       "      <th>HLCALL_2</th>\n",
       "      <th>HLCALL_196</th>\n",
       "    </tr>\n",
       "  </thead>\n",
       "  <tbody>\n",
       "    <tr>\n",
       "      <th>0</th>\n",
       "      <td>3.0</td>\n",
       "      <td>1.0</td>\n",
       "      <td>99.0</td>\n",
       "      <td>3884.805998</td>\n",
       "      <td>0</td>\n",
       "      <td>0.500000</td>\n",
       "      <td>0.058072</td>\n",
       "      <td>0</td>\n",
       "      <td>0</td>\n",
       "      <td>0</td>\n",
       "      <td>...</td>\n",
       "      <td>0</td>\n",
       "      <td>0</td>\n",
       "      <td>0</td>\n",
       "      <td>0</td>\n",
       "      <td>0</td>\n",
       "      <td>0</td>\n",
       "      <td>1</td>\n",
       "      <td>0.067419</td>\n",
       "      <td>0</td>\n",
       "      <td>1</td>\n",
       "    </tr>\n",
       "    <tr>\n",
       "      <th>1</th>\n",
       "      <td>2.0</td>\n",
       "      <td>1.0</td>\n",
       "      <td>99.0</td>\n",
       "      <td>1627.108106</td>\n",
       "      <td>1</td>\n",
       "      <td>0.333333</td>\n",
       "      <td>0.058072</td>\n",
       "      <td>0</td>\n",
       "      <td>0</td>\n",
       "      <td>0</td>\n",
       "      <td>...</td>\n",
       "      <td>0</td>\n",
       "      <td>0</td>\n",
       "      <td>0</td>\n",
       "      <td>0</td>\n",
       "      <td>0</td>\n",
       "      <td>0</td>\n",
       "      <td>1</td>\n",
       "      <td>0.067419</td>\n",
       "      <td>0</td>\n",
       "      <td>1</td>\n",
       "    </tr>\n",
       "  </tbody>\n",
       "</table>\n",
       "<p>2 rows × 314 columns</p>\n",
       "</div>"
      ],
      "text/plain": [
       "   IRKI17_2  IRHH65_2  IRWELMOS     ANALWT_C  Criminal      NC17  \\\n",
       "0       3.0       1.0      99.0  3884.805998         0  0.500000   \n",
       "1       2.0       1.0      99.0  1627.108106         1  0.333333   \n",
       "\n",
       "   IFATHER_freq  IFATHER_1  IFATHER_2  IFATHER_3     ...      HLNV_15  \\\n",
       "0      0.058072          0          0          0     ...            0   \n",
       "1      0.058072          0          0          0     ...            0   \n",
       "\n",
       "   HLNV_20  HLNV_25  HLNV_470  HLNV_485  HLNV_490  HLNV_495  HLCALL_freq  \\\n",
       "0        0        0         0         0         0         1     0.067419   \n",
       "1        0        0         0         0         0         1     0.067419   \n",
       "\n",
       "   HLCALL_2  HLCALL_196  \n",
       "0         0           1  \n",
       "1         0           1  \n",
       "\n",
       "[2 rows x 314 columns]"
      ]
     },
     "execution_count": 122,
     "metadata": {},
     "output_type": "execute_result"
    }
   ],
   "source": [
    "train.head(2)"
   ]
  },
  {
   "cell_type": "code",
   "execution_count": null,
   "metadata": {
    "collapsed": true
   },
   "outputs": [],
   "source": []
  },
  {
   "cell_type": "code",
   "execution_count": null,
   "metadata": {
    "collapsed": true
   },
   "outputs": [],
   "source": [
    "# Check for duplicate rows"
   ]
  },
  {
   "cell_type": "code",
   "execution_count": null,
   "metadata": {
    "collapsed": true,
    "scrolled": true
   },
   "outputs": [],
   "source": [
    "# Missing value check\n",
    "train.isnull().sum()"
   ]
  },
  {
   "cell_type": "code",
   "execution_count": null,
   "metadata": {
    "collapsed": true
   },
   "outputs": [],
   "source": [
    "# Outliers\n",
    "fig, ax = plt.subplots(figsize=(15,  15))\n",
    "# X_train.boxplot(by='target', ax=ax)"
   ]
  },
  {
   "cell_type": "code",
   "execution_count": null,
   "metadata": {
    "collapsed": true,
    "scrolled": false
   },
   "outputs": [],
   "source": [
    "# Bar plots\n",
    "train.iloc[:, :4].hist()"
   ]
  },
  {
   "cell_type": "code",
   "execution_count": null,
   "metadata": {
    "collapsed": true,
    "scrolled": true
   },
   "outputs": [],
   "source": [
    "# Finding best distribution for each feature\n",
    "\n",
    "cdfs = [\n",
    "    \"norm\",            #Normal (Gaussian)\n",
    "    \"alpha\",           #Alpha\n",
    "    \"beta\",            #Beta\n",
    "    \"expon\",           #Exponential\n",
    "    \"gamma\",           #Gamma\n",
    "    \"laplace\",         #Laplace\n",
    "    \"rayleigh\",        #Rayleigh\n",
    "    \"uniform\",         #Uniform\n",
    "       ]\n",
    "\n",
    "col_name=list(X_train.columns.values)\n",
    "X_train.fillna(0, inplace=True)\n",
    "trans = {}\n",
    "for i in range(X_train.shape[1]):\n",
    "    p_max = -100\n",
    "    dist = ''\n",
    "    temp = X_train[col_name[i]].transpose().values.tolist()\n",
    "    # fit our data set against every probability distribution\n",
    "    for cdf in cdfs:\n",
    "        parameters = eval(\"stats.\"+cdf+\".fit(temp)\")\n",
    "        #Applying the Kolmogorov-Smirnof one sided test\n",
    "        D, p = stats.kstest(temp, cdf, args=parameters)\n",
    "        if p > p_max:\n",
    "            p_max = p\n",
    "            dist = cdf\n",
    "            #pretty-print the results\n",
    "        #print cdf.ljust(16) + (\"p: \"+str(p)).ljust(25)+\"D: \"+str(D)\n",
    "    #trans.append(dist)\n",
    "    trans[col_name[i]]=dist\n",
    "    print(col_name[i], \":\", dist, \"distribution\")"
   ]
  },
  {
   "cell_type": "markdown",
   "metadata": {},
   "source": [
    "# Feature Engineering / Selection"
   ]
  },
  {
   "cell_type": "code",
   "execution_count": null,
   "metadata": {
    "collapsed": true
   },
   "outputs": [],
   "source": [
    "# Checking collinearity (using correlation)\n",
    "correl = train.corr()\n",
    "# train[\"feat_1\"].corr(train[\"feat_2\"])"
   ]
  },
  {
   "cell_type": "code",
   "execution_count": null,
   "metadata": {
    "collapsed": true,
    "scrolled": true
   },
   "outputs": [],
   "source": [
    "cols = train.columns.values\n",
    "for i in range(len(cols)):\n",
    "    for j in range(i+1, len(cols)):\n",
    "        curr_cor = correl.loc[cols[i], cols[j]]\n",
    "        if (curr_cor >= 0.9) and (curr_cor < 1):\n",
    "            print(cols[i], cols[j], curr_cor)"
   ]
  },
  {
   "cell_type": "markdown",
   "metadata": {},
   "source": [
    "### Variance Threshold Check"
   ]
  },
  {
   "cell_type": "code",
   "execution_count": null,
   "metadata": {
    "collapsed": true
   },
   "outputs": [],
   "source": [
    "vt = VarianceThreshold()\n",
    "vt_train = vt.fit(train)"
   ]
  },
  {
   "cell_type": "code",
   "execution_count": null,
   "metadata": {
    "collapsed": true,
    "scrolled": true
   },
   "outputs": [],
   "source": [
    "# vt.variances_\n",
    "vt_df = DataFrame({'feature': list(train.columns.values), 'variance': vt.variances_}).sort_values(by='variance', ascending=True)\n",
    "print(vt_df.tail(10))"
   ]
  },
  {
   "cell_type": "markdown",
   "metadata": {},
   "source": [
    "## Splitting data"
   ]
  },
  {
   "cell_type": "code",
   "execution_count": 123,
   "metadata": {
    "collapsed": true
   },
   "outputs": [],
   "source": [
    "y = train['Criminal']\n",
    "X = train[[col for col in train.columns.values if col not in ['PERID', 'Criminal']]]\n",
    "# X['download_time'].fillna(0, inplace=True)"
   ]
  },
  {
   "cell_type": "markdown",
   "metadata": {
    "collapsed": true
   },
   "source": [
    "### Removing Multicollinearity (using VIF)"
   ]
  },
  {
   "cell_type": "code",
   "execution_count": null,
   "metadata": {
    "collapsed": true
   },
   "outputs": [],
   "source": [
    "from statsmodels.stats.outliers_influence import variance_inflation_factor    \n",
    "from numpy import arange, delete\n",
    "\n",
    "def calculate_vif(X, thresh=100):\n",
    "    cols = X.columns\n",
    "    variables = arange(X.shape[1])\n",
    "    dropped=True\n",
    "    while dropped:\n",
    "        dropped=False\n",
    "        c = X[cols[variables]].values\n",
    "        vif = [variance_inflation_factor(c, ix) for ix in arange(c.shape[1])]\n",
    "\n",
    "        maxloc = vif.index(max(vif))\n",
    "        if max(vif) > thresh:\n",
    "            print('dropping \\'' + X[cols[variables]].columns[maxloc] + '\\' at index: ' + str(maxloc))\n",
    "            variables = delete(variables, maxloc)\n",
    "            dropped=True\n",
    "\n",
    "    print('Remaining variables:')\n",
    "    print(X.columns[variables])\n",
    "    return X[cols[variables]]"
   ]
  },
  {
   "cell_type": "code",
   "execution_count": null,
   "metadata": {
    "collapsed": true,
    "scrolled": true
   },
   "outputs": [],
   "source": [
    "X = calculate_vif(X, 10)\n",
    "print(X.head(2))"
   ]
  },
  {
   "cell_type": "code",
   "execution_count": 124,
   "metadata": {},
   "outputs": [
    {
     "name": "stdout",
     "output_type": "stream",
     "text": [
      "(45247, 313) (46, 313)\n"
     ]
    }
   ],
   "source": [
    "# Splitting Train test\n",
    "X_train, X_test, y_train, y_test = train_test_split(X, y, stratify=y, test_size=0.001, random_state=25)\n",
    "print(X_train.shape, X_test.shape)"
   ]
  },
  {
   "cell_type": "markdown",
   "metadata": {},
   "source": [
    "### Normalization"
   ]
  },
  {
   "cell_type": "code",
   "execution_count": null,
   "metadata": {},
   "outputs": [],
   "source": [
    "# Normalizing data\n",
    "norm_train = DataFrame(normalize(X_train))\n",
    "norm_train.columns = list(X_train.columns.values)\n",
    "norm_train.head(2)"
   ]
  },
  {
   "cell_type": "code",
   "execution_count": null,
   "metadata": {
    "collapsed": true
   },
   "outputs": [],
   "source": [
    "X_train = norm_train"
   ]
  },
  {
   "cell_type": "markdown",
   "metadata": {},
   "source": [
    "### PCA"
   ]
  },
  {
   "cell_type": "code",
   "execution_count": null,
   "metadata": {
    "collapsed": true
   },
   "outputs": [],
   "source": [
    "from sklearn.decomposition import PCA\n",
    "pca = PCA(n_components=len(X_train.columns.values))"
   ]
  },
  {
   "cell_type": "code",
   "execution_count": null,
   "metadata": {
    "collapsed": true
   },
   "outputs": [],
   "source": [
    "pca_train = DataFrame(pca.fit_transform(X_train))"
   ]
  },
  {
   "cell_type": "code",
   "execution_count": null,
   "metadata": {
    "collapsed": true
   },
   "outputs": [],
   "source": [
    "sum(pca.explained_variance_[:20])"
   ]
  },
  {
   "cell_type": "code",
   "execution_count": null,
   "metadata": {
    "collapsed": true
   },
   "outputs": [],
   "source": []
  },
  {
   "cell_type": "markdown",
   "metadata": {},
   "source": [
    "### Feature Importance"
   ]
  },
  {
   "cell_type": "code",
   "execution_count": 125,
   "metadata": {},
   "outputs": [
    {
     "data": {
      "text/plain": [
       "RandomForestClassifier(bootstrap=True, class_weight=None, criterion='gini',\n",
       "            max_depth=None, max_features='auto', max_leaf_nodes=None,\n",
       "            min_impurity_decrease=0.0, min_impurity_split=None,\n",
       "            min_samples_leaf=1, min_samples_split=2,\n",
       "            min_weight_fraction_leaf=0.0, n_estimators=1000, n_jobs=1,\n",
       "            oob_score=False, random_state=None, verbose=0,\n",
       "            warm_start=False)"
      ]
     },
     "execution_count": 125,
     "metadata": {},
     "output_type": "execute_result"
    }
   ],
   "source": [
    "rf = RandomForestClassifier(n_estimators=1000)\n",
    "rf.fit(X_train, y_train)"
   ]
  },
  {
   "cell_type": "code",
   "execution_count": 126,
   "metadata": {
    "collapsed": true
   },
   "outputs": [],
   "source": [
    "feat_imp = Series(rf.feature_importances_, index=X_train.columns.values).sort_values(ascending=False)"
   ]
  },
  {
   "cell_type": "code",
   "execution_count": 127,
   "metadata": {},
   "outputs": [
    {
     "data": {
      "image/png": "[encoded data removed]",
      "text/plain": [
       "<matplotlib.figure.Figure at 0x20307fe2e10>"
      ]
     },
     "metadata": {},
     "output_type": "display_data"
    }
   ],
   "source": [
    "feat_imp[:30].plot(kind='bar', title='Feature Importance with Random Forest', figsize=(15,8))\n",
    "plt.ylabel('Feature Importance values')\n",
    "#plt.subplots_adjust(bottom=0.25)\n",
    "#plt.savefig('FeatImportance.png')\n",
    "plt.show()"
   ]
  },
  {
   "cell_type": "code",
   "execution_count": 128,
   "metadata": {},
   "outputs": [
    {
     "name": "stdout",
     "output_type": "stream",
     "text": [
      "['IRFAMIN3_freq', 'ANALWT_C', 'VESTR_freq', 'POVERTY3_freq', 'IRPINC3_freq', 'POVERTY3_3', 'IRFAMIN3_7', 'IRPINC3_1', 'IFATHER_freq', 'IRFAMIN3_6', 'GRPHLTIN_freq', 'IRFAMIN3_5', 'POVERTY3_2', 'IRKI17_2', 'IFATHER_4', 'GRPHLTIN_99', 'PRVHLTIN_2', 'PRVHLTIN_freq', 'IRFAMIN3_4', 'IRPRVHLT_1', 'POVERTY3_1', 'IRPRVHLT_2', 'IRPRVHLT_freq', 'NC17', 'COUTYP2_freq', 'PRXYDATA_freq', 'IRFAMIN3_3', 'GRPHLTIN_1', 'PRXYDATA_1', 'PRXYDATA_99', 'PRVHLTIN_1', 'VEREP_1', 'VEREP_2', 'VEREP_freq', 'PDEN10_freq', 'IRHH65_2', 'GRPHLTIN_2', 'COUTYP2_2', 'IFATHER_2', 'IFATHER_1', 'CELLNOTCL_1', 'CELLNOTCL_freq', 'PDEN10_2', 'CELLNOTCL_2', 'COUTYP2_3', 'IRMEDICR_freq', 'MEDICARE_2', 'IRPINC3_2', 'IRFAMIN3_2', 'IRMEDICR_2', 'COUTYP2_1', 'IRFAMSOC_1', 'IRFAMSOC_freq', 'MEDICARE_freq', 'PDEN10_1', 'IRFAMSOC_2', 'IRFAMIN3_1', 'IRPINC3_3', 'IRMEDICR_1', 'MEDICARE_1', 'TOOLONG_freq', 'GOVTPROG_1', 'IIFAMIN3_3', 'IIFAMIN3_1', 'IIFAMIN3_freq', 'IRFSTAMP_2', 'IRFSTAMP_1', 'TOOLONG_1', 'TOOLONG_2', 'VESTR_40049', 'CAIDCHIP_freq', 'OTHINS_1', 'OTHINS_2', 'GOVTPROG_2', 'GOVTPROG_freq', 'IRFSTAMP_freq', 'TROUBUND_freq', 'PDEN10_3', 'TROUBUND_2', 'TROUBUND_1', 'OTHINS_freq', 'CAIDCHIP_1', 'IRPINC3_4', 'VESTR_40023', 'VESTR_40038', 'VESTR_40043', 'VESTR_40010', 'IRMCDCHP_freq', 'VESTR_40028', 'VESTR_40029', 'VESTR_40041', 'VESTR_40021', 'VESTR_40039', 'CAIDCHIP_2', 'IRMCDCHP_2', 'HLCNOTYR_freq', 'VESTR_40048', 'VESTR_40005', 'VESTR_40018', 'VESTR_40022', 'VESTR_40045', 'VESTR_40025', 'VESTR_40040', 'VESTR_40024', 'VESTR_40046', 'VESTR_40035', 'IRMCDCHP_1', 'VESTR_40019', 'VESTR_40013', 'VESTR_40007', 'VESTR_40012', 'VESTR_40009', 'VESTR_40001', 'VESTR_40026', 'VESTR_40004', 'IRFAMSSI_freq', 'IRFAMSSI_1', 'VESTR_40020', 'IRFAMSSI_2', 'VESTR_40003', 'VESTR_40017', 'VESTR_40014', 'VESTR_40047', 'CELLWRKNG_freq', 'VESTR_40011', 'VESTR_40034', 'HLCNOTYR_2', 'VESTR_40008', 'VESTR_40033', 'VESTR_40036', 'IRWELMOS', 'VESTR_40044', 'HLCNOTYR_1', 'HLCNOTMO_0', 'VESTR_40016', 'VESTR_40027', 'HLCNOTMO_1', 'VESTR_40032', 'VESTR_40031', 'CELLWRKNG_1', 'CELLWRKNG_2', 'HLCNOTMO_freq', 'VESTR_40015', 'VESTR_40042', 'IRPINC3_5', 'VESTR_40002', 'VESTR_40006', 'IIPINC3_3', 'IIPINC3_1', 'IIPINC3_freq', 'VESTR_40050', 'VESTR_40030', 'VESTR_40037', 'IIWELMOS_freq', 'IIWELMOS_9', 'IRPINC3_6', 'IIPRVHLT_3', 'IRPINC3_7', 'IIPRVHLT_1', 'IIWELMOS_1', 'IIPRVHLT_freq', 'PRVHLTIN_94', 'GRPHLTIN_98', 'IRFAMSVC_freq', 'PRXRETRY_freq', 'IRFAMSVC_2', 'CHAMPUS_freq', 'IRFAMSVC_1', 'PRXRETRY_2', 'PRXRETRY_99', 'HLTINNOS_99', 'CHAMPUS_2', 'IRFAMPMT_freq', 'IRFAMPMT_2', 'IRCHMPUS_1', 'CHAMPUS_1', 'IRCHMPUS_freq', 'IRFAMPMT_1', 'IRCHMPUS_2', 'IROTHHLT_99', 'AIIND102_2', 'MAIIN102_freq', 'AIIND102_freq', 'AIIND102_1', 'MAIIN102_1', 'GRPHLTIN_94', 'MAIIN102_2', 'IIFAMSSI_freq', 'IIOTHHLT_freq', 'IIFAMSSI_3', 'IIFAMSSI_1', 'ANYHLTI2_freq', 'IIWELMOS_3', 'IIFAMSOC_3', 'IIFAMSOC_1', 'HLTINNOS_freq', 'IIFAMSOC_freq', 'IIMCDCHP_freq', 'IIMCDCHP_1', 'CAIDCHIP_94', 'IROTHHLT_freq', 'IIOTHHLT_9', 'IIMCDCHP_3', 'IIOTHHLT_1', 'IIFAMPMT_freq', 'IIFAMPMT_3', 'IIFAMPMT_1', 'IIHH65_2_freq', 'IIHH65_2_1', 'IRINSUR4_2', 'HLLOSRSN_freq', 'HLCLAST_0', 'IIHH65_2_3', 'IIKI17_2_3', 'IROTHHLT_2', 'IIFAMSVC_3', 'IIFAMSVC_1', 'IIKI17_2_freq', 'IIFAMSVC_freq', 'IIKI17_2_1', 'IIFSTAMP_1', 'HLNV_freq', 'IIFSTAMP_freq', 'IIFSTAMP_3', 'HLCLAST_1', 'TOOLONG_98', 'ANYHLTI2_1', 'HLCNOTYR_99', 'HLCNOTYR_94', 'HLLOSRSN_99', 'IIINSUR4_1', 'TROUBUND_98', 'HLTINNOS_2', 'MEDICARE_94', 'IIMEDICR_3', 'ANYHLTI2_94', 'IIINSUR4_3', 'IRINSUR4_1', 'IIMEDICR_freq', 'IICHMPUS_freq', 'IIMEDICR_1', 'IIINSUR4_freq', 'HLNV_495', 'HLNV_490', 'HLCNOTYR_98', 'IICHMPUS_1', 'IICHMPUS_3', 'ANYHLTI2_2', 'IIOTHHLT_3', 'CHAMPUS_94', 'HLLOSRSN_98', 'CELLWRKNG_94', 'IRINSUR4_freq', 'GRPHLTIN_97', 'HLCLAST_freq', 'HLCALL_196', 'HLCALL_2', 'IROTHHLT_1', 'HLCALL_freq', 'IIHH65_2_2', 'CELLNOTCL_94', 'PRVHLTIN_97', 'PRXYDATA_94', 'PRXRETRY_94', 'CAIDCHIP_97', 'PRXYDATA_2', 'IFATHER_3', 'CELLNOTCL_97', 'CAIDCHIP_85', 'CHAMPUS_97', 'HLLOSRSN_97', 'HLNV_485', 'ANYHLTI2_97', 'HLTINNOS_1', 'HLCNOTYR_97', 'CELLWRKNG_97', 'MEDICARE_97', 'CHAMPUS_85', 'GRPHLTIN_85', 'PRXRETRY_98']\n"
     ]
    }
   ],
   "source": [
    "imp_feats = list(feat_imp[:280].index)\n",
    "print(imp_feats)"
   ]
  },
  {
   "cell_type": "markdown",
   "metadata": {},
   "source": [
    "## Subsetting data"
   ]
  },
  {
   "cell_type": "code",
   "execution_count": 129,
   "metadata": {
    "collapsed": true
   },
   "outputs": [],
   "source": [
    "X = X[imp_feats]\n",
    "X_train = X_train[imp_feats]\n",
    "X_test = X_test[imp_feats]"
   ]
  },
  {
   "cell_type": "markdown",
   "metadata": {},
   "source": [
    "### Feature Selection"
   ]
  },
  {
   "cell_type": "code",
   "execution_count": null,
   "metadata": {
    "collapsed": true,
    "scrolled": true
   },
   "outputs": [],
   "source": [
    "# Select From Model\n",
    "feats = list(X_train.columns.values)\n",
    "\n",
    "rf = RandomForestClassifier(n_estimators=100, verbose=2, random_state=1, max_depth=20)\n",
    "\n",
    "# define Boruta feature selection method\n",
    "feat_selector = SelectFromModel(rf)\n",
    "\n",
    "# find all relevant features - 20 features should be selected\n",
    "feat_selector.fit(X_train, y_train)"
   ]
  },
  {
   "cell_type": "code",
   "execution_count": null,
   "metadata": {
    "collapsed": true
   },
   "outputs": [],
   "source": [
    "sfmodel_feats = [feats[i] for i in feat_selector.get_support(indices=True)]\n",
    "print(sfmodel_feats)"
   ]
  },
  {
   "cell_type": "code",
   "execution_count": null,
   "metadata": {
    "collapsed": true
   },
   "outputs": [],
   "source": []
  },
  {
   "cell_type": "code",
   "execution_count": null,
   "metadata": {
    "collapsed": true
   },
   "outputs": [],
   "source": []
  },
  {
   "cell_type": "markdown",
   "metadata": {},
   "source": [
    "# Model Training"
   ]
  },
  {
   "cell_type": "markdown",
   "metadata": {},
   "source": [
    "## Pipeline (AdaBoost, RF, SVM, ET, KNN)"
   ]
  },
  {
   "cell_type": "code",
   "execution_count": 130,
   "metadata": {
    "collapsed": true
   },
   "outputs": [],
   "source": [
    "def pipeline_params():\n",
    "    rf = RandomForestClassifier()\n",
    "    et = ExtraTreesClassifier()\n",
    "    ada = AdaBoostClassifier(base_estimator=et)\n",
    "    xg = xgb.XGBClassifier()\n",
    "    gb = GradientBoostingClassifier()\n",
    "    lr = LogisticRegression()\n",
    "    rfe = RFE(rf, step=0.2)\n",
    "    select = SelectFromModel(rf)\n",
    "    kbest = SelectKBest(chi2)\n",
    "    pipe = Pipeline([('feat_sel', rfe), ('model', rf)])\n",
    "    feat_sel_params = [\n",
    "        {\n",
    "            'feat_sel': [kbest],\n",
    "            'feat_sel__k': [30]},\n",
    "        {\n",
    "            'feat_sel': [rfe],\n",
    "            'feat_sel__estimator': [rf], #rf, et, gb, xg\n",
    "            'feat_sel__n_features_to_select': [30]},\n",
    "        {\n",
    "            'feat_sel': [select],\n",
    "            'feat_sel__estimator': [rf]} #rf, et, gb, xg\n",
    "    ]\n",
    "    model_params = [\n",
    "        {\n",
    "            'model': [lr]},\n",
    "        {\n",
    "            'model': [gb],\n",
    "            'model__n_estimators': [100], #500, 1000, 2000, 4000\n",
    "            'model__learning_rate': [0.1]}, #0.01, 0.04, 0.1, 0.5, 1\n",
    "#         {\n",
    "#             'model': [ada],\n",
    "#             'model__n_estimators': [100], #500, 1000, 2000, 4000\n",
    "#             'model__learning_rate': [0.03], #0.01, 0.04, 0.1, 0.5, 1\n",
    "#             'model__random_state': [9]},\n",
    "        {\n",
    "            'model': [xg],\n",
    "            'model__objective': ['binary:logistic'],\n",
    "            'model__learning_rate': [0.1],   # Learning rate alpha\n",
    "            'model__gamma': [0.1],   # minimum eval_score deduction at each split\n",
    "            'model__min_child_weight': [4],  # minimum number of datapoints in a split\n",
    "            'model__subsample': [0.9],  # sample size row-wise during bootstrap\n",
    "            'model__colsample_bytree': [0.7],  # column-wise sample size\n",
    "            'model__n_estimators': [100]},   # number of trees to build\n",
    "        {\n",
    "            'model': [rf],\n",
    "            'model__n_estimators': [100], #500, 1000, 2000, 4000\n",
    "            'model__criterion': ['gini', 'entropy'],\n",
    "            'model__max_features': ['sqrt'], #, 'log2'\n",
    "            'model__min_samples_leaf': [4], #3, 5, 7, 9\n",
    "            'model__max_depth': [11]}, #8, 10, 14\n",
    "        {\n",
    "            'model': [et],\n",
    "            'model__n_estimators': [100], #500, 1000, 2000, 4000\n",
    "            'model__criterion': ['gini', 'entropy'],\n",
    "            'model__max_features': ['sqrt'], #, 'log2'\n",
    "            'model__min_samples_leaf': [4], #3, 5, 7\n",
    "            'model__max_depth': [11]} #8, 10, 14\n",
    "    ]\n",
    "    params = []\n",
    "    for feat_sel in feat_sel_params:\n",
    "        for model in model_params:\n",
    "            # Merge dictionaries and append to list\n",
    "            params.append({**feat_sel, **model})\n",
    "    return pipe, feat_sel_params, model_params, params\n",
    "\n",
    "pipe, feat_params, model_params, all_params = pipeline_params()"
   ]
  },
  {
   "cell_type": "code",
   "execution_count": null,
   "metadata": {
    "scrolled": true
   },
   "outputs": [],
   "source": [
    "grid = GridSearchCV(estimator=pipe, param_grid=all_params, scoring=make_scorer(matthews_corrcoef), verbose=20, n_jobs=-1)\n",
    "grid.fit(X_train, y_train)"
   ]
  },
  {
   "cell_type": "code",
   "execution_count": null,
   "metadata": {},
   "outputs": [],
   "source": [
    "# CV results\n",
    "cv_result_pipe = DataFrame(grid.cv_results_).sort_values('rank_test_score').to_csv('cv_result_pipe.csv', index=False)\n",
    "print(grid.best_score_)\n",
    "print(grid.best_estimator_)"
   ]
  },
  {
   "cell_type": "code",
   "execution_count": null,
   "metadata": {},
   "outputs": [],
   "source": [
    "imp_feats = X_train.columns.values[grid.best_params_['feat_sel'].get_support(indices=True)]\n",
    "print(imp_feats)"
   ]
  },
  {
   "cell_type": "code",
   "execution_count": null,
   "metadata": {},
   "outputs": [],
   "source": [
    "best_model = grid.best_estimator_.fit(X_train[imp_feats], y_train)\n",
    "y_pred = best_model.predict(X_test[imp_feats])\n",
    "# print(y_pred[:4])\n",
    "\n",
    "print('MCC:', matthews_corrcoef(y_test, y_pred))\n",
    "print('Acc:', accuracy_score(y_test, y_pred))\n",
    "print('Confusion Matrix\\n', confusion_matrix(y_test, y_pred))"
   ]
  },
  {
   "cell_type": "code",
   "execution_count": null,
   "metadata": {
    "collapsed": true
   },
   "outputs": [],
   "source": []
  },
  {
   "cell_type": "markdown",
   "metadata": {},
   "source": [
    "## Ensemble"
   ]
  },
  {
   "cell_type": "markdown",
   "metadata": {},
   "source": [
    "### Mixed Ensemble"
   ]
  },
  {
   "cell_type": "code",
   "execution_count": 131,
   "metadata": {
    "collapsed": true
   },
   "outputs": [],
   "source": [
    "def feat_model_combo():\n",
    "    rfe_rf = RFE(RandomForestClassifier(n_estimators=100), step=0.2, n_features_to_select=30)\n",
    "    select_rf = SelectFromModel(RandomForestClassifier(n_estimators=100))\n",
    "    rfe_et = RFE(ExtraTreesClassifier(n_estimators=100), step=0.2, n_features_to_select=30)\n",
    "    select_et = SelectFromModel(ExtraTreesClassifier(n_estimators=100))\n",
    "\n",
    "    rf_gini = RandomForestClassifier(n_estimators=1000, criterion='gini', max_depth=11, max_features='sqrt',\n",
    "                                     min_samples_leaf=4, n_jobs=-1)\n",
    "    rf_ent = RandomForestClassifier(n_estimators=1000, criterion='entropy', max_depth=11, max_features='sqrt',\n",
    "                                    min_samples_leaf=4, n_jobs=-1)\n",
    "\n",
    "    et_gini = ExtraTreesClassifier(n_estimators=1000, criterion='gini', max_depth=11, max_features='sqrt',\n",
    "                                   min_samples_leaf=4, n_jobs=-1)\n",
    "    et_ent = ExtraTreesClassifier(n_estimators=1000, criterion='entropy', max_depth=11, max_features='sqrt',\n",
    "                                  min_samples_leaf=4, n_jobs=-1)\n",
    "\n",
    "    xg = xgb.XGBClassifier(n_estimators=1000, objective='binary:logistic', colsample_bytree=0.5, gamma=0.5,\n",
    "                                    learning_rate=0.2, min_child_weight=5, subsample=0.9, n_jobs=-1)\n",
    "\n",
    "    lr = LogisticRegression()\n",
    "\n",
    "    combo = [\n",
    "        # RFE (rf + et + xgb)\n",
    "        {'feat_sel': rfe_rf,\n",
    "         'model': ExtraTreesClassifier(n_estimators=1000, criterion='gini', max_depth=13, max_features='sqrt',\n",
    "                                     min_samples_leaf=4, n_jobs=-1)},\n",
    "        {'feat_sel': rfe_rf,\n",
    "         'model': ExtraTreesClassifier(n_estimators=1000, criterion='gini', max_depth=13, max_features='sqrt',\n",
    "                                         min_samples_leaf=5, n_jobs=-1)},\n",
    "        {'feat_sel': rfe_rf,\n",
    "         'model': ExtraTreesClassifier(n_estimators=1000, criterion='gini', max_depth=13, max_features='sqrt',\n",
    "                                         min_samples_leaf=3, n_jobs=-1)},\n",
    "        {'feat_sel': rfe_rf,\n",
    "         'model': ExtraTreesClassifier(n_estimators=1000, criterion='entropy', max_depth=13, max_features='sqrt',\n",
    "                                         min_samples_leaf=4, n_jobs=-1)},\n",
    "        {'feat_sel': rfe_rf,\n",
    "         'model': ExtraTreesClassifier(n_estimators=1000, criterion='entropy', max_depth=13, max_features='sqrt',\n",
    "                                         min_samples_leaf=7, n_jobs=-1)},\n",
    "        {'feat_sel': rfe_rf,\n",
    "         'model': ExtraTreesClassifier(n_estimators=1000, criterion='entropy', max_depth=13, max_features='sqrt',\n",
    "                                         min_samples_leaf=8, n_jobs=-1)},\n",
    "        {'feat_sel': rfe_et,\n",
    "         'model': ExtraTreesClassifier(n_estimators=1000, criterion='gini', max_depth=10, max_features='sqrt',\n",
    "                                         min_samples_leaf=2, n_jobs=-1)},\n",
    "        {'feat_sel': rfe_et,\n",
    "         'model': ExtraTreesClassifier(n_estimators=1000, criterion='gini', max_depth=10, max_features='sqrt',\n",
    "                                         min_samples_leaf=6, n_jobs=-1)},\n",
    "        {'feat_sel': rfe_et,\n",
    "         'model': ExtraTreesClassifier(n_estimators=1000, criterion='gini', max_depth=10, max_features='sqrt',\n",
    "                                         min_samples_leaf=5, n_jobs=-1)},\n",
    "        {'feat_sel': rfe_et,\n",
    "         'model': ExtraTreesClassifier(n_estimators=1000, criterion='entropy', max_depth=10, max_features='sqrt',\n",
    "                                         min_samples_leaf=4, n_jobs=-1)},\n",
    "        {'feat_sel': rfe_et,\n",
    "         'model': ExtraTreesClassifier(n_estimators=1000, criterion='entropy', max_depth=10, max_features='sqrt',\n",
    "                                         min_samples_leaf=9, n_jobs=-1)},\n",
    "        {'feat_sel': rfe_et,\n",
    "         'model': ExtraTreesClassifier(n_estimators=1000, criterion='entropy', max_depth=10, max_features='sqrt',\n",
    "                                         min_samples_leaf=4, n_jobs=-1)},\n",
    "        {'feat_sel': rfe_rf,\n",
    "         'model': xgb.XGBClassifier(n_estimators=1000, objective='binary:logistic', colsample_bytree=0.5, gamma=0.7,\n",
    "                                    learning_rate=0.47, min_child_weight=5, subsample=0.9, n_jobs=-1)},\n",
    "        {'feat_sel': rfe_rf,\n",
    "         'model': xgb.XGBClassifier(n_estimators=1000, objective='binary:logistic', colsample_bytree=0.5, gamma=0.2,\n",
    "                                    learning_rate=0.73, min_child_weight=3, subsample=0.9, n_jobs=-1)},\n",
    "        {'feat_sel': rfe_rf,\n",
    "         'model': xgb.XGBClassifier(n_estimators=1000, objective='binary:logistic', colsample_bytree=0.7, gamma=0.7,\n",
    "                                    learning_rate=0.17, min_child_weight=4, subsample=0.9, n_jobs=-1)},\n",
    "        {'feat_sel': rfe_rf,\n",
    "         'model': xgb.XGBClassifier(n_estimators=1000, objective='binary:logistic', colsample_bytree=0.7, gamma=0.2,\n",
    "                                    learning_rate=0.27, min_child_weight=5, subsample=0.9, n_jobs=-1)},\n",
    "        {'feat_sel': rfe_et,\n",
    "         'model': xgb.XGBClassifier(n_estimators=1000, objective='binary:logistic', colsample_bytree=0.5, gamma=0.7,\n",
    "                                    learning_rate=0.37, min_child_weight=6, subsample=0.9, n_jobs=-1)},\n",
    "        {'feat_sel': rfe_et,\n",
    "         'model': xgb.XGBClassifier(n_estimators=1000, objective='binary:logistic', colsample_bytree=0.5, gamma=0.2,\n",
    "                                    learning_rate=0.17, min_child_weight=3, subsample=0.9, n_jobs=-1)},\n",
    "        {'feat_sel': rfe_et,\n",
    "         'model': xgb.XGBClassifier(n_estimators=1000, objective='binary:logistic', colsample_bytree=0.7, gamma=0.7,\n",
    "                                    learning_rate=0.17, min_child_weight=5, subsample=0.9, n_jobs=-1)},\n",
    "        {'feat_sel': rfe_et,\n",
    "         'model': xgb.XGBClassifier(n_estimators=1000, objective='binary:logistic', colsample_bytree=0.7, gamma=0.2,\n",
    "                                    learning_rate=0.47, min_child_weight=4, subsample=0.9, n_jobs=-1)},\n",
    "        # SelectFrom Model  (rf + et + xgb)\n",
    "        {'feat_sel': select_rf,\n",
    "         'model': RandomForestClassifier(n_estimators=1000, criterion='gini', max_depth=12, max_features='sqrt',\n",
    "                                         min_samples_leaf=4, n_jobs=-1)},\n",
    "        {'feat_sel': select_rf,\n",
    "         'model': RandomForestClassifier(n_estimators=1000, criterion='gini', max_depth=12, max_features='sqrt',\n",
    "                                         min_samples_leaf=5, n_jobs=-1)},\n",
    "        {'feat_sel': select_rf,\n",
    "         'model': RandomForestClassifier(n_estimators=1000, criterion='gini', max_depth=12, max_features='sqrt',\n",
    "                                         min_samples_leaf=2, n_jobs=-1)},\n",
    "        {'feat_sel': select_rf,\n",
    "         'model': RandomForestClassifier(n_estimators=1000, criterion='entropy', max_depth=12, max_features='sqrt',\n",
    "                                         min_samples_leaf=5, n_jobs=-1)},\n",
    "        {'feat_sel': select_rf,\n",
    "         'model': RandomForestClassifier(n_estimators=1000, criterion='entropy', max_depth=15, max_features='sqrt',\n",
    "                                         min_samples_leaf=7, n_jobs=-1)},\n",
    "        {'feat_sel': select_rf,\n",
    "         'model': RandomForestClassifier(n_estimators=1000, criterion='entropy', max_depth=15, max_features='sqrt',\n",
    "                                         min_samples_leaf=3, n_jobs=-1)},\n",
    "        {'feat_sel': select_et,\n",
    "         'model': RandomForestClassifier(n_estimators=1000, criterion='gini', max_depth=16, max_features='sqrt',\n",
    "                                         min_samples_leaf=4, n_jobs=-1)},\n",
    "        {'feat_sel': select_et,\n",
    "         'model': RandomForestClassifier(n_estimators=1000, criterion='gini', max_depth=12, max_features='sqrt',\n",
    "                                         min_samples_leaf=6, n_jobs=-1)},\n",
    "        {'feat_sel': select_et,\n",
    "         'model': RandomForestClassifier(n_estimators=1000, criterion='gini', max_depth=11, max_features='sqrt',\n",
    "                                         min_samples_leaf=8, n_jobs=-1)},\n",
    "        {'feat_sel': select_et,\n",
    "         'model': RandomForestClassifier(n_estimators=1000, criterion='entropy', max_depth=13, max_features='sqrt',\n",
    "                                         min_samples_leaf=5, n_jobs=-1)},\n",
    "        {'feat_sel': select_et,\n",
    "         'model': RandomForestClassifier(n_estimators=1000, criterion='entropy', max_depth=15, max_features='sqrt',\n",
    "                                         min_samples_leaf=6, n_jobs=-1)},\n",
    "        {'feat_sel': select_et,\n",
    "         'model': RandomForestClassifier(n_estimators=1000, criterion='entropy', max_depth=14, max_features='sqrt',\n",
    "                                         min_samples_leaf=5, n_jobs=-1)},\n",
    "        {'feat_sel': select_rf,\n",
    "         'model': xgb.XGBClassifier(n_estimators=1000, objective='binary:logistic', colsample_bytree=0.5, gamma=0.17,\n",
    "                                    learning_rate=0.5, min_child_weight=5, subsample=0.9, n_jobs=-1)},\n",
    "        {'feat_sel': select_rf,\n",
    "         'model': xgb.XGBClassifier(n_estimators=1000, objective='binary:logistic', colsample_bytree=0.5, gamma=0.22,\n",
    "                                    learning_rate=0.5, min_child_weight=5, subsample=0.9, n_jobs=-1)},\n",
    "        {'feat_sel': select_rf,\n",
    "         'model': xgb.XGBClassifier(n_estimators=1000, objective='binary:logistic', colsample_bytree=0.7, gamma=0.37,\n",
    "                                    learning_rate=0.5, min_child_weight=5, subsample=0.9, n_jobs=-1)},\n",
    "        {'feat_sel': select_rf,\n",
    "         'model': xgb.XGBClassifier(n_estimators=1000, objective='binary:logistic', colsample_bytree=0.7, gamma=0.12,\n",
    "                                    learning_rate=0.5, min_child_weight=5, subsample=0.9, n_jobs=-1)},\n",
    "        {'feat_sel': select_et,\n",
    "         'model': xgb.XGBClassifier(n_estimators=1000, objective='binary:logistic', colsample_bytree=0.5, gamma=0.37,\n",
    "                                    learning_rate=0.5, min_child_weight=5, subsample=0.9, n_jobs=-1)},\n",
    "        {'feat_sel': select_et,\n",
    "         'model': xgb.XGBClassifier(n_estimators=1000, objective='binary:logistic', colsample_bytree=0.5, gamma=0.12,\n",
    "                                    learning_rate=0.5, min_child_weight=5, subsample=0.9, n_jobs=-1)},\n",
    "        {'feat_sel': select_et,\n",
    "         'model': xgb.XGBClassifier(n_estimators=1000, objective='binary:logistic', colsample_bytree=0.7, gamma=0.47,\n",
    "                                    learning_rate=0.5, min_child_weight=5, subsample=0.9, n_jobs=-1)},\n",
    "        {'feat_sel': select_et,\n",
    "         'model': xgb.XGBClassifier(n_estimators=1000, objective='binary:logistic', colsample_bytree=0.7, gamma=0.12,\n",
    "                                    learning_rate=0.5, min_child_weight=5, subsample=0.9, n_jobs=-1)}\n",
    "    ]\n",
    "    return combo"
   ]
  },
  {
   "cell_type": "code",
   "execution_count": 132,
   "metadata": {
    "collapsed": true
   },
   "outputs": [],
   "source": [
    "def predict_mixed(combo, X_train, y_train, X_test, y_test, prob=False):\n",
    "    preds = DataFrame()\n",
    "    preds['y_true'] = y # Check for y and y_test\n",
    "    trained_models = {}\n",
    "    features = X_train.columns.values\n",
    "    \n",
    "    for i, one in zip(range(1, len(combo)+1), combo):\n",
    "        print('\\n')\n",
    "        trained_models[i] = {}\n",
    "        \n",
    "        feat_sel = one['feat_sel']\n",
    "        feat_sel.fit(X_train, y_train)\n",
    "        \n",
    "        imp_feat = [features[i] for i in feat_sel.get_support(indices=True)]\n",
    "        if len(imp_feat)>30:\n",
    "            imp_feat = imp_feat[:30]\n",
    "        print(len(imp_feat))\n",
    "        trained_models[i]['feats'] = imp_feat\n",
    "        \n",
    "        model = one['model']\n",
    "        model.fit(X_train[imp_feat], y_train)\n",
    "        trained_models[i]['model'] = model\n",
    "        \n",
    "        # print(feat_sel, model)\n",
    "        \n",
    "        if prob:\n",
    "            pred = model.predict_proba(X[imp_feat]) # Check for X and X_test   \n",
    "            # preds[key+'_0'] = [i[0] for i in pred]\n",
    "            preds['pred'+str(i)] = [j[1] for j in pred]\n",
    "            \n",
    "        \n",
    "        else:\n",
    "            preds['pred'+str(i)] = model.predict(X[imp_feat]) # Check for X and X_test       \n",
    "            print('MCC:', matthews_corrcoef(preds['y_true'], preds['pred'+str(i)]))\n",
    "            print('Acc:', accuracy_score(preds['y_true'], preds['pred'+str(i)]))\n",
    "            print('Confusion Matrix\\n', confusion_matrix(preds['y_true'], preds['pred'+str(i)]))\n",
    "    \n",
    "    if prob:\n",
    "        preds.to_excel('mixed_ensemble_proba.xlsx', index=False)\n",
    "    else:\n",
    "        preds.to_excel('mixed_ensemble_preds.xlsx', index=False)\n",
    "    \n",
    "    return preds, trained_models"
   ]
  },
  {
   "cell_type": "code",
   "execution_count": 133,
   "metadata": {
    "scrolled": true
   },
   "outputs": [
    {
     "name": "stdout",
     "output_type": "stream",
     "text": [
      "\n",
      "\n",
      "30\n",
      "MCC: 0.641312397639\n",
      "Acc: 0.957918442143\n",
      "Confusion Matrix\n",
      " [[41532   701]\n",
      " [ 1205  1855]]\n",
      "\n",
      "\n",
      "30\n",
      "MCC: 0.632681140722\n",
      "Acc: 0.956969068068\n",
      "Confusion Matrix\n",
      " [[41515   718]\n",
      " [ 1231  1829]]\n",
      "\n",
      "\n",
      "30\n",
      "MCC: 0.64819791728\n",
      "Acc: 0.95864703155\n",
      "Confusion Matrix\n",
      " [[41542   691]\n",
      " [ 1182  1878]]\n",
      "\n",
      "\n",
      "30\n",
      "MCC: 0.642857335728\n",
      "Acc: 0.958183383746\n",
      "Confusion Matrix\n",
      " [[41546   687]\n",
      " [ 1207  1853]]\n",
      "\n",
      "\n",
      "30\n",
      "MCC: 0.631551918053\n",
      "Acc: 0.956748283399\n",
      "Confusion Matrix\n",
      " [[41502   731]\n",
      " [ 1228  1832]]\n",
      "\n",
      "\n",
      "30\n",
      "MCC: 0.630132398096\n",
      "Acc: 0.956946989601\n",
      "Confusion Matrix\n",
      " [[41539   694]\n",
      " [ 1256  1804]]\n",
      "\n",
      "\n",
      "30\n",
      "MCC: 0.634996203861\n",
      "Acc: 0.957498951273\n",
      "Confusion Matrix\n",
      " [[41551   682]\n",
      " [ 1243  1817]]\n",
      "\n",
      "\n",
      "30\n",
      "MCC: 0.62184259396\n",
      "Acc: 0.956019693992\n",
      "Confusion Matrix\n",
      " [[41520   713]\n",
      " [ 1279  1781]]\n",
      "\n",
      "\n",
      "30\n",
      "MCC: 0.627627157974\n",
      "Acc: 0.956682047999\n",
      "Confusion Matrix\n",
      " [[41535   698]\n",
      " [ 1264  1796]]\n",
      "\n",
      "\n",
      "30\n",
      "MCC: 0.626710292417\n",
      "Acc: 0.956615812598\n",
      "Confusion Matrix\n",
      " [[41537   696]\n",
      " [ 1269  1791]]\n",
      "\n",
      "\n",
      "30\n",
      "MCC: 0.618987325271\n",
      "Acc: 0.955732673923\n",
      "Confusion Matrix\n",
      " [[41517   716]\n",
      " [ 1289  1771]]\n",
      "\n",
      "\n",
      "30\n",
      "MCC: 0.625647443911\n",
      "Acc: 0.95652749873\n",
      "Confusion Matrix\n",
      " [[41538   695]\n",
      " [ 1274  1786]]\n",
      "\n",
      "\n",
      "30\n",
      "MCC: 0.782512126629\n",
      "Acc: 0.97374870289\n",
      "Confusion Matrix\n",
      " [[41796   437]\n",
      " [  752  2308]]\n",
      "\n",
      "\n",
      "30\n",
      "MCC: 0.856321919484\n",
      "Acc: 0.982447618837\n",
      "Confusion Matrix\n",
      " [[41953   280]\n",
      " [  515  2545]]\n",
      "\n",
      "\n",
      "30\n",
      "MCC: 0.734373561786\n",
      "Acc: 0.968096615371\n",
      "Confusion Matrix\n",
      " [[41682   551]\n",
      " [  894  2166]]\n",
      "\n",
      "\n",
      "30\n",
      "MCC: 0.760343910357\n",
      "Acc: 0.9712096792\n",
      "Confusion Matrix\n",
      " [[41755   478]\n",
      " [  826  2234]]\n",
      "\n",
      "\n",
      "30\n",
      "MCC: 0.749504922781\n",
      "Acc: 0.970105755856\n",
      "Confusion Matrix\n",
      " [[41756   477]\n",
      " [  877  2183]]\n",
      "\n",
      "\n",
      "30\n",
      "MCC: 0.7200440396\n",
      "Acc: 0.966661515024\n",
      "Confusion Matrix\n",
      " [[41682   551]\n",
      " [  959  2101]]\n",
      "\n",
      "\n",
      "30\n",
      "MCC: 0.719292132827\n",
      "Acc: 0.966418651889\n",
      "Confusion Matrix\n",
      " [[41658   575]\n",
      " [  946  2114]]\n",
      "\n",
      "\n",
      "30\n",
      "MCC: 0.821590774033\n",
      "Acc: 0.978429337867\n",
      "Confusion Matrix\n",
      " [[41902   331]\n",
      " [  646  2414]]\n",
      "\n",
      "\n",
      "30\n",
      "MCC: 0.583642318463\n",
      "Acc: 0.954584593646\n",
      "Confusion Matrix\n",
      " [[41750   483]\n",
      " [ 1574  1486]]\n",
      "\n",
      "\n",
      "30\n",
      "MCC: 0.573457430899\n",
      "Acc: 0.953546905703\n",
      "Confusion Matrix\n",
      " [[41727   506]\n",
      " [ 1598  1462]]\n",
      "\n",
      "\n",
      "30\n",
      "MCC: 0.607123665629\n",
      "Acc: 0.956704126465\n",
      "Confusion Matrix\n",
      " [[41764   469]\n",
      " [ 1492  1568]]\n",
      "\n",
      "\n",
      "30\n",
      "MCC: 0.575258054495\n",
      "Acc: 0.953745611905\n",
      "Confusion Matrix\n",
      " [[41733   500]\n",
      " [ 1595  1465]]\n",
      "\n",
      "\n",
      "30\n",
      "MCC: 0.584455565804\n",
      "Acc: 0.954452122845\n",
      "Confusion Matrix\n",
      " [[41724   509]\n",
      " [ 1554  1506]]\n",
      "\n",
      "\n",
      "30\n",
      "MCC: 0.640561475054\n",
      "Acc: 0.95970679796\n",
      "Confusion Matrix\n",
      " [[41769   464]\n",
      " [ 1361  1699]]\n",
      "\n",
      "\n",
      "30\n",
      "MCC: 0.629126849035\n",
      "Acc: 0.95858079615\n",
      "Confusion Matrix\n",
      " [[41755   478]\n",
      " [ 1398  1662]]\n",
      "\n",
      "\n",
      "30\n",
      "MCC: 0.569297912327\n",
      "Acc: 0.953326121034\n",
      "Confusion Matrix\n",
      " [[41743   490]\n",
      " [ 1624  1436]]\n",
      "\n",
      "\n",
      "30\n",
      "MCC: 0.551611813936\n",
      "Acc: 0.951935177621\n",
      "Confusion Matrix\n",
      " [[41751   482]\n",
      " [ 1695  1365]]\n",
      "\n",
      "\n",
      "30\n",
      "MCC: 0.586910246235\n",
      "Acc: 0.954739142914\n",
      "Confusion Matrix\n",
      " [[41734   499]\n",
      " [ 1551  1509]]\n",
      "\n",
      "\n",
      "30\n",
      "MCC: 0.591753297364\n",
      "Acc: 0.955114476851\n",
      "Confusion Matrix\n",
      " [[41729   504]\n",
      " [ 1529  1531]]\n",
      "\n",
      "\n",
      "30\n",
      "MCC: 0.597386386396\n",
      "Acc: 0.955622281589\n",
      "Confusion Matrix\n",
      " [[41732   501]\n",
      " [ 1509  1551]]\n",
      "\n",
      "\n",
      "30\n",
      "MCC: 0.765609327915\n",
      "Acc: 0.97233568101\n",
      "Confusion Matrix\n",
      " [[41862   371]\n",
      " [  882  2178]]\n",
      "\n",
      "\n",
      "30\n",
      "MCC: 0.759488545685\n",
      "Acc: 0.971673327004\n",
      "Confusion Matrix\n",
      " [[41855   378]\n",
      " [  905  2155]]\n",
      "\n",
      "\n",
      "30\n",
      "MCC: 0.785830925124\n",
      "Acc: 0.974653920032\n",
      "Confusion Matrix\n",
      " [[41910   323]\n",
      " [  825  2235]]\n",
      "\n",
      "\n",
      "30\n",
      "MCC: 0.785279822061\n",
      "Acc: 0.974587684631\n",
      "Confusion Matrix\n",
      " [[41908   325]\n",
      " [  826  2234]]\n",
      "\n",
      "\n",
      "30\n",
      "MCC: 0.758140981398\n",
      "Acc: 0.971474620802\n",
      "Confusion Matrix\n",
      " [[41843   390]\n",
      " [  902  2158]]\n",
      "\n",
      "\n",
      "30\n",
      "MCC: 0.755913653686\n",
      "Acc: 0.971231757667\n",
      "Confusion Matrix\n",
      " [[41840   393]\n",
      " [  910  2150]]\n",
      "\n",
      "\n",
      "30\n",
      "MCC: 0.79480580085\n",
      "Acc: 0.975647451041\n",
      "Confusion Matrix\n",
      " [[41922   311]\n",
      " [  792  2268]]\n",
      "\n",
      "\n",
      "30\n",
      "MCC: 0.785279822061\n",
      "Acc: 0.974587684631\n",
      "Confusion Matrix\n",
      " [[41908   325]\n",
      " [  826  2234]]\n"
     ]
    }
   ],
   "source": [
    "models_combo = feat_model_combo()\n",
    "pred_all, trained_models = predict_mixed(models_combo, X_train, y_train, X_test, y_test, False) # Probability True/False"
   ]
  },
  {
   "cell_type": "code",
   "execution_count": null,
   "metadata": {
    "collapsed": true
   },
   "outputs": [],
   "source": []
  },
  {
   "cell_type": "markdown",
   "metadata": {},
   "source": [
    "### Uni-model ensemble"
   ]
  },
  {
   "cell_type": "code",
   "execution_count": null,
   "metadata": {
    "collapsed": true
   },
   "outputs": [],
   "source": [
    "def get_models():\n",
    "    rf = RandomForestClassifier(n_estimators=100)\n",
    "    et = ExtraTreesClassifier(n_estimators=100)\n",
    "    xg = xgb.XGBClassifier()\n",
    "    ada = AdaBoostClassifier(base_estimator=et)\n",
    "    gb = GradientBoostingClassifier(n_estimators=100)\n",
    "    lr = LogisticRegression()\n",
    "    \n",
    "    models = {\n",
    "        'rf': rf,\n",
    "        'lr': lr,\n",
    "        'xg': xg,\n",
    "        'et': et,\n",
    "        'gb': gb,\n",
    "        'ada': ada\n",
    "    }\n",
    "    \n",
    "    return models"
   ]
  },
  {
   "cell_type": "code",
   "execution_count": null,
   "metadata": {
    "collapsed": true
   },
   "outputs": [],
   "source": [
    "def predict_uni(models, X_train, y_train, X_test, y_test, prob=False):\n",
    "    preds = DataFrame()\n",
    "    preds['y_true'] = y # Check for y and y_test\n",
    "    \n",
    "    trained_models = {}\n",
    "    \n",
    "    for key, model in models.items():\n",
    "        print('\\n', key)\n",
    "        \n",
    "        model.fit(X_train, y_train)\n",
    "        trained_models[key] = model\n",
    "        \n",
    "        if prob:\n",
    "            pred = model.predict_proba(X) # Check for X and X_test   \n",
    "            # preds[key+'_0'] = [i[0] for i in pred]\n",
    "            preds[key+'_1'] = [i[1] for i in pred]\n",
    "            \n",
    "        \n",
    "        else:\n",
    "            preds[key] = model.predict(X) # Check for X and X_test       \n",
    "            print('MCC:', matthews_corrcoef(preds['y_true'], preds[key]))\n",
    "            print('Acc:', accuracy_score(preds['y_true'], preds[key]))\n",
    "            print('Confusion Matrix\\n', confusion_matrix(preds['y_true'], preds[key]))\n",
    "    \n",
    "    if prob:\n",
    "        preds.to_excel('uni_ensemble_proba.xlsx', index=False)\n",
    "    else:\n",
    "        preds.to_excel('uni_ensemble_preds.xlsx', index=False)\n",
    "    \n",
    "    return preds, trained_models"
   ]
  },
  {
   "cell_type": "code",
   "execution_count": null,
   "metadata": {
    "collapsed": true
   },
   "outputs": [],
   "source": [
    "models = get_models()\n",
    "pred_all, trained_models = predict_uni(models, X_train, y_train, X_test, y_test, True) # Probability True/False"
   ]
  },
  {
   "cell_type": "code",
   "execution_count": null,
   "metadata": {
    "collapsed": true
   },
   "outputs": [],
   "source": []
  },
  {
   "cell_type": "code",
   "execution_count": null,
   "metadata": {
    "collapsed": true
   },
   "outputs": [],
   "source": []
  },
  {
   "cell_type": "code",
   "execution_count": 134,
   "metadata": {},
   "outputs": [
    {
     "name": "stdout",
     "output_type": "stream",
     "text": [
      "MCC: 0.670441920339\n",
      "Acc: 0.962444527852\n",
      "Confusion Matrix\n",
      " [[41767   466]\n",
      " [ 1235  1825]]\n"
     ]
    }
   ],
   "source": [
    "from numpy import nanmean\n",
    "\n",
    "pred_all['final'] = pred_all.loc[:,'pred1':('pred'+str(len(models_combo)))].apply(lambda row: round(nanmean(row.values)), axis=1)\n",
    "\n",
    "print('MCC:', matthews_corrcoef(pred_all['y_true'], pred_all['final']))\n",
    "print('Acc:', accuracy_score(pred_all['y_true'], pred_all['final']))\n",
    "print('Confusion Matrix\\n', confusion_matrix(pred_all['y_true'], pred_all['final']))"
   ]
  },
  {
   "cell_type": "code",
   "execution_count": 135,
   "metadata": {},
   "outputs": [
    {
     "data": {
      "text/html": [
       "<div>\n",
       "<style>\n",
       "    .dataframe thead tr:only-child th {\n",
       "        text-align: right;\n",
       "    }\n",
       "\n",
       "    .dataframe thead th {\n",
       "        text-align: left;\n",
       "    }\n",
       "\n",
       "    .dataframe tbody tr th {\n",
       "        vertical-align: top;\n",
       "    }\n",
       "</style>\n",
       "<table border=\"1\" class=\"dataframe\">\n",
       "  <thead>\n",
       "    <tr style=\"text-align: right;\">\n",
       "      <th></th>\n",
       "      <th>y_true</th>\n",
       "      <th>pred1</th>\n",
       "      <th>pred2</th>\n",
       "      <th>pred3</th>\n",
       "      <th>pred4</th>\n",
       "      <th>pred5</th>\n",
       "      <th>pred6</th>\n",
       "      <th>pred7</th>\n",
       "      <th>pred8</th>\n",
       "      <th>pred9</th>\n",
       "      <th>...</th>\n",
       "      <th>pred31</th>\n",
       "      <th>pred32</th>\n",
       "      <th>pred33</th>\n",
       "      <th>pred34</th>\n",
       "      <th>pred35</th>\n",
       "      <th>pred36</th>\n",
       "      <th>pred37</th>\n",
       "      <th>pred38</th>\n",
       "      <th>pred39</th>\n",
       "      <th>pred40</th>\n",
       "    </tr>\n",
       "  </thead>\n",
       "  <tbody>\n",
       "    <tr>\n",
       "      <th>0</th>\n",
       "      <td>0</td>\n",
       "      <td>0</td>\n",
       "      <td>0</td>\n",
       "      <td>0</td>\n",
       "      <td>0</td>\n",
       "      <td>0</td>\n",
       "      <td>0</td>\n",
       "      <td>0</td>\n",
       "      <td>0</td>\n",
       "      <td>0</td>\n",
       "      <td>...</td>\n",
       "      <td>0</td>\n",
       "      <td>0</td>\n",
       "      <td>0</td>\n",
       "      <td>0</td>\n",
       "      <td>0</td>\n",
       "      <td>0</td>\n",
       "      <td>0</td>\n",
       "      <td>0</td>\n",
       "      <td>0</td>\n",
       "      <td>0</td>\n",
       "    </tr>\n",
       "    <tr>\n",
       "      <th>1</th>\n",
       "      <td>1</td>\n",
       "      <td>0</td>\n",
       "      <td>0</td>\n",
       "      <td>0</td>\n",
       "      <td>0</td>\n",
       "      <td>0</td>\n",
       "      <td>0</td>\n",
       "      <td>0</td>\n",
       "      <td>0</td>\n",
       "      <td>0</td>\n",
       "      <td>...</td>\n",
       "      <td>0</td>\n",
       "      <td>0</td>\n",
       "      <td>0</td>\n",
       "      <td>0</td>\n",
       "      <td>0</td>\n",
       "      <td>0</td>\n",
       "      <td>0</td>\n",
       "      <td>0</td>\n",
       "      <td>0</td>\n",
       "      <td>0</td>\n",
       "    </tr>\n",
       "  </tbody>\n",
       "</table>\n",
       "<p>2 rows × 41 columns</p>\n",
       "</div>"
      ],
      "text/plain": [
       "   y_true  pred1  pred2  pred3  pred4  pred5  pred6  pred7  pred8  pred9  \\\n",
       "0       0      0      0      0      0      0      0      0      0      0   \n",
       "1       1      0      0      0      0      0      0      0      0      0   \n",
       "\n",
       "    ...    pred31  pred32  pred33  pred34  pred35  pred36  pred37  pred38  \\\n",
       "0   ...         0       0       0       0       0       0       0       0   \n",
       "1   ...         0       0       0       0       0       0       0       0   \n",
       "\n",
       "   pred39  pred40  \n",
       "0       0       0  \n",
       "1       0       0  \n",
       "\n",
       "[2 rows x 41 columns]"
      ]
     },
     "execution_count": 135,
     "metadata": {},
     "output_type": "execute_result"
    }
   ],
   "source": [
    "try:\n",
    "    del pred_all['final']\n",
    "except:\n",
    "    pass\n",
    "pred_all.head(2)"
   ]
  },
  {
   "cell_type": "markdown",
   "metadata": {},
   "source": [
    "## Metalearner on Ensemble"
   ]
  },
  {
   "cell_type": "code",
   "execution_count": 136,
   "metadata": {},
   "outputs": [
    {
     "name": "stdout",
     "output_type": "stream",
     "text": [
      "   pred1  pred2  pred3  pred4  pred5  pred6  pred7  pred8  pred9  pred10  \\\n",
      "0      0      0      0      0      0      0      0      0      0       0   \n",
      "1      0      0      0      0      0      0      0      0      0       0   \n",
      "\n",
      "    ...    pred31  pred32  pred33  pred34  pred35  pred36  pred37  pred38  \\\n",
      "0   ...         0       0       0       0       0       0       0       0   \n",
      "1   ...         0       0       0       0       0       0       0       0   \n",
      "\n",
      "   pred39  pred40  \n",
      "0       0       0  \n",
      "1       0       0  \n",
      "\n",
      "[2 rows x 40 columns]\n",
      "\n",
      " (45247, 40) (46, 40)\n"
     ]
    }
   ],
   "source": [
    "try:\n",
    "    del pred_all['final']\n",
    "except:\n",
    "    pass\n",
    "\n",
    "y_m = pred_all['y_true']\n",
    "X_m = pred_all.drop('y_true', axis=1)\n",
    "print(X_m.head(2))\n",
    "\n",
    "# Splitting Train test\n",
    "X_train_m, X_test_m, y_train_m, y_test_m = train_test_split(X_m, y_m, stratify=y_m, test_size=0.001, random_state=20)\n",
    "print('\\n', X_train_m.shape, X_test_m.shape)"
   ]
  },
  {
   "cell_type": "code",
   "execution_count": 137,
   "metadata": {
    "scrolled": true
   },
   "outputs": [
    {
     "name": "stdout",
     "output_type": "stream",
     "text": [
      "Fitting 3 folds for each of 7 candidates, totalling 21 fits\n"
     ]
    },
    {
     "name": "stderr",
     "output_type": "stream",
     "text": [
      "[Parallel(n_jobs=-1)]: Done   1 tasks      | elapsed:    8.6s\n",
      "[Parallel(n_jobs=-1)]: Done   2 tasks      | elapsed:    9.7s\n",
      "[Parallel(n_jobs=-1)]: Done   3 tasks      | elapsed:   10.9s\n",
      "[Parallel(n_jobs=-1)]: Done   4 tasks      | elapsed:   18.2s\n",
      "[Parallel(n_jobs=-1)]: Done   5 tasks      | elapsed:   18.4s\n",
      "[Parallel(n_jobs=-1)]: Done   6 tasks      | elapsed:   18.6s\n",
      "[Parallel(n_jobs=-1)]: Done   7 tasks      | elapsed:   19.1s\n",
      "[Parallel(n_jobs=-1)]: Done   8 tasks      | elapsed:   21.8s\n",
      "[Parallel(n_jobs=-1)]: Done   9 tasks      | elapsed:   22.4s\n",
      "[Parallel(n_jobs=-1)]: Done  10 tasks      | elapsed:   25.0s\n",
      "[Parallel(n_jobs=-1)]: Done  11 tasks      | elapsed:   25.1s\n",
      "[Parallel(n_jobs=-1)]: Done  12 tasks      | elapsed:   25.4s\n",
      "[Parallel(n_jobs=-1)]: Done  13 tasks      | elapsed:   25.8s\n",
      "[Parallel(n_jobs=-1)]: Done  14 tasks      | elapsed:   28.4s\n",
      "[Parallel(n_jobs=-1)]: Done  16 out of  21 | elapsed:   29.0s remaining:    9.0s\n",
      "[Parallel(n_jobs=-1)]: Done  18 out of  21 | elapsed:   32.0s remaining:    5.3s\n",
      "[Parallel(n_jobs=-1)]: Done  21 out of  21 | elapsed:   32.6s finished\n"
     ]
    },
    {
     "data": {
      "text/plain": [
       "GridSearchCV(cv=None, error_score='raise',\n",
       "       estimator=Pipeline(memory=None,\n",
       "     steps=[('model', RandomForestClassifier(bootstrap=True, class_weight=None, criterion='gini',\n",
       "            max_depth=None, max_features='auto', max_leaf_nodes=None,\n",
       "            min_impurity_decrease=0.0, min_impurity_split=None,\n",
       "            min_samples_leaf=1, min_samples_split=2,\n",
       "            min_weight_fraction_leaf=0.0, n_estimators=10, n_jobs=1,\n",
       "            oob_score=False, random_state=None, verbose=0,\n",
       "            warm_start=False))]),\n",
       "       fit_params=None, iid=True, n_jobs=-1,\n",
       "       param_grid=[{'model': [LogisticRegression(C=1.0, class_weight=None, dual=False, fit_intercept=True,\n",
       "          intercept_scaling=1, max_iter=100, multi_class='ovr', n_jobs=1,\n",
       "          penalty='l2', random_state=None, solver='liblinear', tol=0.0001,\n",
       "          verbose=0, warm_start=False)]}, {'model':...tropy'], 'model__max_features': ['sqrt'], 'model__min_samples_leaf': [4], 'model__max_depth': [11]}],\n",
       "       pre_dispatch='2*n_jobs', refit=True, return_train_score='warn',\n",
       "       scoring=make_scorer(matthews_corrcoef), verbose=20)"
      ]
     },
     "execution_count": 137,
     "metadata": {},
     "output_type": "execute_result"
    }
   ],
   "source": [
    "meta_pipe = Pipeline([('model', RandomForestClassifier())])\n",
    "meta_grid = GridSearchCV(estimator=meta_pipe, param_grid=model_params, scoring=make_scorer(matthews_corrcoef), verbose=20, n_jobs=-1)\n",
    "meta_grid.fit(X_train_m, y_train_m)"
   ]
  },
  {
   "cell_type": "code",
   "execution_count": 138,
   "metadata": {},
   "outputs": [],
   "source": [
    "meta_model = meta_grid.best_estimator_.fit(X_train_m, y_train_m)\n",
    "meta_pred = meta_model.predict(X_test_m)"
   ]
  },
  {
   "cell_type": "code",
   "execution_count": 139,
   "metadata": {},
   "outputs": [
    {
     "name": "stdout",
     "output_type": "stream",
     "text": [
      "MCC: 1.0\n",
      "Acc: 1.0\n",
      "Confusion Matrix\n",
      " [[43  0]\n",
      " [ 0  3]]\n"
     ]
    }
   ],
   "source": [
    "print('MCC:', matthews_corrcoef(y_test_m, meta_pred))\n",
    "print('Acc:', accuracy_score(y_test_m, meta_pred))\n",
    "print('Confusion Matrix\\n', confusion_matrix(y_test_m, meta_pred))"
   ]
  },
  {
   "cell_type": "code",
   "execution_count": null,
   "metadata": {
    "collapsed": true
   },
   "outputs": [],
   "source": []
  },
  {
   "cell_type": "markdown",
   "metadata": {},
   "source": [
    "## Neural Network (sklearn)"
   ]
  },
  {
   "cell_type": "code",
   "execution_count": null,
   "metadata": {
    "collapsed": true
   },
   "outputs": [],
   "source": [
    "from sklearn.neural_network import MLPClassifier"
   ]
  },
  {
   "cell_type": "code",
   "execution_count": null,
   "metadata": {
    "collapsed": true
   },
   "outputs": [],
   "source": [
    "nn = MLPClassifier((100, 25), max_iter=200,tol=0, verbose=10)\n",
    "nn.fit(X_train, y_train)"
   ]
  },
  {
   "cell_type": "code",
   "execution_count": null,
   "metadata": {
    "collapsed": true
   },
   "outputs": [],
   "source": [
    "best_model = nn\n",
    "y_pred = best_model.predict(X_test)\n",
    "# print(y_pred[:4])\n",
    "\n",
    "print('MCC:', matthews_corrcoef(y_test, y_pred))\n",
    "print('Acc:', accuracy_score(y_test, y_pred))\n",
    "print('Confusion Matrix\\n', confusion_matrix(y_test, y_pred))"
   ]
  },
  {
   "cell_type": "markdown",
   "metadata": {},
   "source": [
    "### XGBoost"
   ]
  },
  {
   "cell_type": "code",
   "execution_count": null,
   "metadata": {
    "collapsed": true,
    "scrolled": true
   },
   "outputs": [],
   "source": [
    "# Doing gridsearch to find best params configuration\n",
    "clf = xgb.XGBClassifier(objective='binary:logistic')\n",
    "\n",
    "params = {\n",
    "    'learning_rate': [0.03],   # Learning rate alpha\n",
    "    'max_depth': [10],   # maximum depth of the tree\n",
    "    'gamma': [0.1, 0.5],   # minimum eval_score deduction at each split\n",
    "    'min_child_weight': [3, 6],  # minimum number of datapoints in a split\n",
    "    'subsample': [0.9],  # sample size row-wise during bootstrap\n",
    "    'colsample_bytree': [0.5],  # column-wise sample size\n",
    "    'n_estimators': [100],   # number of trees to build\n",
    "    }\n",
    "\n",
    "grid = GridSearchCV(clf, params, cv=5, verbose=50, scoring=make_scorer(matthews_corrcoef), n_jobs=-1)\n",
    "\n",
    "grid.fit(X_train, y_train)\n",
    "\n",
    "# CV results\n",
    "cv_result = DataFrame(grid.cv_results_).to_csv('cv_results_xgb.csv', index=False)"
   ]
  },
  {
   "cell_type": "code",
   "execution_count": null,
   "metadata": {
    "collapsed": true
   },
   "outputs": [],
   "source": [
    "print(grid.best_score_)\n",
    "print(grid.best_estimator_)"
   ]
  },
  {
   "cell_type": "code",
   "execution_count": null,
   "metadata": {
    "collapsed": true
   },
   "outputs": [],
   "source": [
    "# imp_feats = X_train.columns.values[grid.best_params_.get_support(indices=True)]\n",
    "# print(imp_feats)"
   ]
  },
  {
   "cell_type": "code",
   "execution_count": null,
   "metadata": {
    "collapsed": true
   },
   "outputs": [],
   "source": [
    "# Testing on X_test\n",
    "xgb_model = grid.best_estimator_.fit(X_train, y_train) #[imp_feats]\n",
    "y_pred = xgb_model.predict(X_test) #[imp_feats]\n",
    "print('MCC:', matthews_corrcoef(y_test, y_pred))\n",
    "print('Acc:', accuracy_score(y_test, y_pred))\n",
    "print('Confusion Matrix\\n', confusion_matrix(y_test, y_pred))"
   ]
  },
  {
   "cell_type": "code",
   "execution_count": null,
   "metadata": {
    "collapsed": true
   },
   "outputs": [],
   "source": [
    "# Using best params to find optimum number of iterations\n",
    "grid_output = grid.best_params_\n",
    "params = {\n",
    "    'objective': 'binary:logistic', \n",
    "    #'num_class': 2     # num_class not required with the Binary Logistic\n",
    "    }\n",
    "\n",
    "best_params = {**grid_output, **params}\n",
    "#best_params['learning_rate'] = 0.02\n",
    "print(best_params)"
   ]
  },
  {
   "cell_type": "code",
   "execution_count": null,
   "metadata": {
    "collapsed": true,
    "scrolled": true
   },
   "outputs": [],
   "source": [
    "train_xgb = xgb.DMatrix(X_train, y_train)\n",
    "\n",
    "from numpy import linspace, array\n",
    "def evalerror(preds, dtrain):\n",
    "    labels = dtrain.get_label()\n",
    "    thresholds = linspace(0.01, 0.99, 50)\n",
    "    mcc = array([matthews_corrcoef(labels, preds>thr) for thr in thresholds])\n",
    "    best_score = mcc.max()\n",
    "    return 'mcc', -best_score\n",
    "\n",
    "cv_results = xgb.cv(best_params, train_xgb, num_boost_round=10000, nfold=5, stratified=True, as_pandas=True, \n",
    "                    seed=1, shuffle=True, early_stopping_rounds=20, feval = evalerror, verbose_eval=True)"
   ]
  },
  {
   "cell_type": "code",
   "execution_count": null,
   "metadata": {
    "collapsed": true
   },
   "outputs": [],
   "source": [
    "nround = cv_results.shape[0]  # Where the best iteration happened\n",
    "print('Best Iteration:', nround)\n",
    "xgb_clf = xgb.train(best_params, train_xgb, num_boost_round=nround, verbose_eval=True)\n",
    "\n",
    "# Predicting on the test set\n",
    "test_xgb  = xgb.DMatrix(test_xgb_org)\n",
    "test_pred = xgb_clf.predict(test_xgb)\n",
    "Class_1, Class_2, Class_3, Class_4, Class_5, Class_6, Class_7, Class_8, Class_9 = map(list, zip(*test_pred))\n",
    "output = DataFrame({'id': test['id'],\n",
    "                    'Class_1': Class_1, \n",
    "                    'Class_2': Class_2, \n",
    "                    'Class_3': Class_3, \n",
    "                    'Class_4': Class_4, \n",
    "                    'Class_5': Class_5, \n",
    "                    'Class_6': Class_6, \n",
    "                    'Class_7': Class_7, \n",
    "                    'Class_8': Class_8, \n",
    "                    'Class_9': Class_9})\n",
    "output = output[['id', 'Class_1', 'Class_2', 'Class_3', 'Class_4', 'Class_5', 'Class_6', 'Class_7', 'Class_8', 'Class_9']]\n",
    "\n",
    "output.to_csv('output.csv', index=False)\n",
    "output.head(2)"
   ]
  },
  {
   "cell_type": "code",
   "execution_count": null,
   "metadata": {
    "collapsed": true
   },
   "outputs": [],
   "source": []
  },
  {
   "cell_type": "markdown",
   "metadata": {
    "collapsed": true
   },
   "source": [
    "# Test data Results"
   ]
  },
  {
   "cell_type": "code",
   "execution_count": 140,
   "metadata": {},
   "outputs": [
    {
     "name": "stdout",
     "output_type": "stream",
     "text": [
      "      PERID  IFATHER  NRCH17_2  IRHHSIZ2  IIHHSIZ2  IRKI17_2  IIKI17_2  \\\n",
      "0  66583679        4       0.0         4         1         2         1   \n",
      "1  35494679        4       0.0         4         1         1         1   \n",
      "\n",
      "   IRHH65_2  IIHH65_2  PRXRETRY  ...    POVERTY3  TOOLONG  TROUBUND  PDEN10  \\\n",
      "0         1         1        99  ...         2.0        2         2       1   \n",
      "1         1         1        99  ...         3.0        2         2       1   \n",
      "\n",
      "   COUTYP2  MAIIN102  AIIND102      ANALWT_C  VESTR  VEREP  \n",
      "0        1         2         2  16346.795400  40020      1  \n",
      "1        1         2         2   3008.863906  40044      2  \n",
      "\n",
      "[2 rows x 71 columns]\n"
     ]
    }
   ],
   "source": [
    "test = read_csv('test.csv', na_values=-1)\n",
    "print(test.head(2))"
   ]
  },
  {
   "cell_type": "markdown",
   "metadata": {
    "collapsed": true
   },
   "source": [
    "### Feature Transformations"
   ]
  },
  {
   "cell_type": "code",
   "execution_count": 141,
   "metadata": {},
   "outputs": [
    {
     "name": "stdout",
     "output_type": "stream",
     "text": [
      "['HLNVCOST', 'HLNVOFFR', 'HLNVREF', 'HLNVNEED', 'HLNVSOR']\n",
      "['HLCALLFG', 'HLCALL99']\n",
      ">> Calculating frequency for: IFATHER\n",
      ">> One-hot encoding for: IFATHER\n",
      ">> Calculating frequency for: IIHHSIZ2\n",
      ">> One-hot encoding for: IIHHSIZ2\n",
      ">> Calculating frequency for: IIKI17_2\n",
      ">> One-hot encoding for: IIKI17_2\n",
      ">> Calculating frequency for: IIHH65_2\n",
      ">> One-hot encoding for: IIHH65_2\n",
      ">> Calculating frequency for: PRXRETRY\n",
      ">> One-hot encoding for: PRXRETRY\n",
      ">> Calculating frequency for: PRXYDATA\n",
      ">> One-hot encoding for: PRXYDATA\n",
      ">> Calculating frequency for: MEDICARE\n",
      ">> One-hot encoding for: MEDICARE\n",
      ">> Calculating frequency for: CAIDCHIP\n",
      ">> One-hot encoding for: CAIDCHIP\n",
      ">> Calculating frequency for: CHAMPUS\n",
      ">> One-hot encoding for: CHAMPUS\n",
      ">> Calculating frequency for: PRVHLTIN\n",
      ">> One-hot encoding for: PRVHLTIN\n",
      ">> Calculating frequency for: GRPHLTIN\n",
      ">> One-hot encoding for: GRPHLTIN\n",
      ">> Calculating frequency for: HLTINNOS\n",
      ">> One-hot encoding for: HLTINNOS\n",
      ">> Calculating frequency for: HLCNOTYR\n",
      ">> One-hot encoding for: HLCNOTYR\n",
      ">> Calculating frequency for: HLCNOTMO\n",
      ">> One-hot encoding for: HLCNOTMO\n",
      ">> Calculating frequency for: HLCLAST\n",
      ">> One-hot encoding for: HLCLAST\n",
      ">> Calculating frequency for: HLLOSRSN\n",
      ">> One-hot encoding for: HLLOSRSN\n",
      ">> Calculating frequency for: IRMCDCHP\n",
      ">> One-hot encoding for: IRMCDCHP\n",
      ">> Calculating frequency for: IIMCDCHP\n",
      ">> One-hot encoding for: IIMCDCHP\n",
      ">> Calculating frequency for: IRMEDICR\n",
      ">> One-hot encoding for: IRMEDICR\n",
      ">> Calculating frequency for: IIMEDICR\n",
      ">> One-hot encoding for: IIMEDICR\n",
      ">> Calculating frequency for: IRCHMPUS\n",
      ">> One-hot encoding for: IRCHMPUS\n",
      ">> Calculating frequency for: IICHMPUS\n",
      ">> One-hot encoding for: IICHMPUS\n",
      ">> Calculating frequency for: IRPRVHLT\n",
      ">> One-hot encoding for: IRPRVHLT\n",
      ">> Calculating frequency for: IIPRVHLT\n",
      ">> One-hot encoding for: IIPRVHLT\n",
      ">> Calculating frequency for: IROTHHLT\n",
      ">> One-hot encoding for: IROTHHLT\n",
      ">> Calculating frequency for: IIOTHHLT\n",
      ">> One-hot encoding for: IIOTHHLT\n",
      ">> Calculating frequency for: ANYHLTI2\n",
      ">> One-hot encoding for: ANYHLTI2\n",
      ">> Calculating frequency for: IRINSUR4\n",
      ">> One-hot encoding for: IRINSUR4\n",
      ">> Calculating frequency for: IIINSUR4\n",
      ">> One-hot encoding for: IIINSUR4\n",
      ">> Calculating frequency for: OTHINS\n",
      ">> One-hot encoding for: OTHINS\n",
      ">> Calculating frequency for: CELLNOTCL\n",
      ">> One-hot encoding for: CELLNOTCL\n",
      ">> Calculating frequency for: CELLWRKNG\n",
      ">> One-hot encoding for: CELLWRKNG\n",
      ">> Calculating frequency for: IRFAMSOC\n",
      ">> One-hot encoding for: IRFAMSOC\n",
      ">> Calculating frequency for: IIFAMSOC\n",
      ">> One-hot encoding for: IIFAMSOC\n",
      ">> Calculating frequency for: IRFAMSSI\n",
      ">> One-hot encoding for: IRFAMSSI\n",
      ">> Calculating frequency for: IIFAMSSI\n",
      ">> One-hot encoding for: IIFAMSSI\n",
      ">> Calculating frequency for: IRFSTAMP\n",
      ">> One-hot encoding for: IRFSTAMP\n",
      ">> Calculating frequency for: IIFSTAMP\n",
      ">> One-hot encoding for: IIFSTAMP\n",
      ">> Calculating frequency for: IRFAMPMT\n",
      ">> One-hot encoding for: IRFAMPMT\n",
      ">> Calculating frequency for: IIFAMPMT\n",
      ">> One-hot encoding for: IIFAMPMT\n",
      ">> Calculating frequency for: IRFAMSVC\n",
      ">> One-hot encoding for: IRFAMSVC\n",
      ">> Calculating frequency for: IIFAMSVC\n",
      ">> One-hot encoding for: IIFAMSVC\n",
      ">> Calculating frequency for: IIWELMOS\n",
      ">> One-hot encoding for: IIWELMOS\n",
      ">> Calculating frequency for: IRPINC3\n",
      ">> One-hot encoding for: IRPINC3\n",
      ">> Calculating frequency for: IRFAMIN3\n",
      ">> One-hot encoding for: IRFAMIN3\n",
      ">> Calculating frequency for: IIPINC3\n",
      ">> One-hot encoding for: IIPINC3\n",
      ">> Calculating frequency for: IIFAMIN3\n",
      ">> One-hot encoding for: IIFAMIN3\n",
      ">> Calculating frequency for: GOVTPROG\n",
      ">> One-hot encoding for: GOVTPROG\n",
      ">> Calculating frequency for: POVERTY3\n",
      ">> One-hot encoding for: POVERTY3\n",
      ">> Calculating frequency for: TOOLONG\n",
      ">> One-hot encoding for: TOOLONG\n",
      ">> Calculating frequency for: TROUBUND\n",
      ">> One-hot encoding for: TROUBUND\n",
      ">> Calculating frequency for: PDEN10\n",
      ">> One-hot encoding for: PDEN10\n",
      ">> Calculating frequency for: COUTYP2\n",
      ">> One-hot encoding for: COUTYP2\n",
      ">> Calculating frequency for: MAIIN102\n",
      ">> One-hot encoding for: MAIIN102\n",
      ">> Calculating frequency for: AIIND102\n",
      ">> One-hot encoding for: AIIND102\n",
      ">> Calculating frequency for: VESTR\n",
      ">> One-hot encoding for: VESTR\n",
      ">> Calculating frequency for: VEREP\n",
      ">> One-hot encoding for: VEREP\n",
      ">> Calculating frequency for: HLNV\n",
      ">> One-hot encoding for: HLNV\n",
      ">> Calculating frequency for: HLCALL\n",
      ">> One-hot encoding for: HLCALL\n",
      "   IRKI17_2  IRHH65_2  IRWELMOS      ANALWT_C  NC17  IFATHER_freq  IFATHER_1  \\\n",
      "0         2         1        99  16346.795400   0.0      0.058072          0   \n",
      "1         1         1        99   3008.863906   0.0      0.058072          0   \n",
      "\n",
      "   IFATHER_2  IFATHER_3  IFATHER_4     ...      HLNV_freq  HLNV_15  HLNV_20  \\\n",
      "0          0          0          1     ...       0.067787        0        0   \n",
      "1          0          0          1     ...       0.067787        0        0   \n",
      "\n",
      "   HLNV_25  HLNV_485  HLNV_490  HLNV_495  HLCALL_freq  HLCALL_2  HLCALL_196  \n",
      "0        0         0         0         1     0.067419         0           1  \n",
      "1        0         0         0         1     0.067419         0           1  \n",
      "\n",
      "[2 rows x 317 columns]\n"
     ]
    }
   ],
   "source": [
    "perid = test['PERID']\n",
    "test.drop('PERID', axis=1, inplace=True)\n",
    "\n",
    "from numpy import inf, nan\n",
    "test = test.replace([inf, -inf, nan], 0).fillna(0)\n",
    "\n",
    "test['NC17'] = test['NRCH17_2'] / test['IRHHSIZ2']\n",
    "del test['NRCH17_2']\n",
    "del test['IRHHSIZ2']\n",
    "\n",
    "hlnv_cols = [col for col in test.columns.values if \"HLNV\" in col]\n",
    "print(hlnv_cols)\n",
    "test['HLNV'] = test[hlnv_cols].apply(lambda row: round(sum(row.values)), axis=1)\n",
    "test = test.drop(hlnv_cols, axis=1)\n",
    "\n",
    "hlcall_cols = [col for col in test.columns.values if \"HLCALL\" in col]\n",
    "print(hlcall_cols)\n",
    "test['HLCALL'] = test[hlcall_cols].apply(lambda row: round(sum(row.values)), axis=1)\n",
    "test = test.drop(hlcall_cols, axis=1)\n",
    "\n",
    "test['HLCNOTMO'] = test['HLCNOTMO'].apply(lambda x: 1 if x > 90 else 0)\n",
    "test['HLCLAST'] = test['HLCLAST'].apply(lambda x: 1 if x > 90 else 0)\n",
    "\n",
    "num_cols = ['NC17', 'IRKI17_2', 'IRHH65_2', 'IRWELMOS', 'ANALWT_C']\n",
    "cat_cols = [col for col in test.columns.values if col not in num_cols]\n",
    "\n",
    "for col in cat_cols:\n",
    "    \n",
    "    # Frequency columns\n",
    "    print(f\">> Calculating frequency for: {col}\")\n",
    "    test[col+'_freq'] = test[col].map(freqs[col]['freq'])\n",
    "    \n",
    "    # One Hot Encoding\n",
    "    print(f\">> One-hot encoding for: {col}\")\n",
    "    test[col] = test[col].astype('category',copy=False)\n",
    "    temp = get_dummies(test[col])\n",
    "    temp.columns = [col+'_'+str(i).split('.')[0] for i in temp.columns]\n",
    "    test = test.join(temp)\n",
    "    test = test.drop(col,axis=1)\n",
    "print(test.head(2))"
   ]
  },
  {
   "cell_type": "markdown",
   "metadata": {},
   "source": [
    "### Level-1 predictions"
   ]
  },
  {
   "cell_type": "code",
   "execution_count": 142,
   "metadata": {},
   "outputs": [],
   "source": [
    "test = test.fillna(0)\n",
    "meta_test = DataFrame()\n",
    "\n",
    "for i, dic in trained_models.items():\n",
    "    meta_test['pred'+str(i)] = dic['model'].predict(test[dic['feats']])"
   ]
  },
  {
   "cell_type": "code",
   "execution_count": 143,
   "metadata": {},
   "outputs": [
    {
     "data": {
      "text/html": [
       "<div>\n",
       "<style>\n",
       "    .dataframe thead tr:only-child th {\n",
       "        text-align: right;\n",
       "    }\n",
       "\n",
       "    .dataframe thead th {\n",
       "        text-align: left;\n",
       "    }\n",
       "\n",
       "    .dataframe tbody tr th {\n",
       "        vertical-align: top;\n",
       "    }\n",
       "</style>\n",
       "<table border=\"1\" class=\"dataframe\">\n",
       "  <thead>\n",
       "    <tr style=\"text-align: right;\">\n",
       "      <th></th>\n",
       "      <th>pred1</th>\n",
       "      <th>pred2</th>\n",
       "      <th>pred3</th>\n",
       "      <th>pred4</th>\n",
       "      <th>pred5</th>\n",
       "      <th>pred6</th>\n",
       "      <th>pred7</th>\n",
       "      <th>pred8</th>\n",
       "      <th>pred9</th>\n",
       "      <th>pred10</th>\n",
       "      <th>...</th>\n",
       "      <th>pred31</th>\n",
       "      <th>pred32</th>\n",
       "      <th>pred33</th>\n",
       "      <th>pred34</th>\n",
       "      <th>pred35</th>\n",
       "      <th>pred36</th>\n",
       "      <th>pred37</th>\n",
       "      <th>pred38</th>\n",
       "      <th>pred39</th>\n",
       "      <th>pred40</th>\n",
       "    </tr>\n",
       "  </thead>\n",
       "  <tbody>\n",
       "    <tr>\n",
       "      <th>0</th>\n",
       "      <td>0</td>\n",
       "      <td>0</td>\n",
       "      <td>0</td>\n",
       "      <td>0</td>\n",
       "      <td>0</td>\n",
       "      <td>0</td>\n",
       "      <td>0</td>\n",
       "      <td>0</td>\n",
       "      <td>0</td>\n",
       "      <td>0</td>\n",
       "      <td>...</td>\n",
       "      <td>0</td>\n",
       "      <td>0</td>\n",
       "      <td>0</td>\n",
       "      <td>0</td>\n",
       "      <td>0</td>\n",
       "      <td>0</td>\n",
       "      <td>0</td>\n",
       "      <td>0</td>\n",
       "      <td>0</td>\n",
       "      <td>0</td>\n",
       "    </tr>\n",
       "    <tr>\n",
       "      <th>1</th>\n",
       "      <td>0</td>\n",
       "      <td>0</td>\n",
       "      <td>0</td>\n",
       "      <td>0</td>\n",
       "      <td>0</td>\n",
       "      <td>0</td>\n",
       "      <td>0</td>\n",
       "      <td>0</td>\n",
       "      <td>0</td>\n",
       "      <td>0</td>\n",
       "      <td>...</td>\n",
       "      <td>0</td>\n",
       "      <td>0</td>\n",
       "      <td>0</td>\n",
       "      <td>0</td>\n",
       "      <td>0</td>\n",
       "      <td>0</td>\n",
       "      <td>0</td>\n",
       "      <td>0</td>\n",
       "      <td>0</td>\n",
       "      <td>0</td>\n",
       "    </tr>\n",
       "  </tbody>\n",
       "</table>\n",
       "<p>2 rows × 40 columns</p>\n",
       "</div>"
      ],
      "text/plain": [
       "   pred1  pred2  pred3  pred4  pred5  pred6  pred7  pred8  pred9  pred10  \\\n",
       "0      0      0      0      0      0      0      0      0      0       0   \n",
       "1      0      0      0      0      0      0      0      0      0       0   \n",
       "\n",
       "    ...    pred31  pred32  pred33  pred34  pred35  pred36  pred37  pred38  \\\n",
       "0   ...         0       0       0       0       0       0       0       0   \n",
       "1   ...         0       0       0       0       0       0       0       0   \n",
       "\n",
       "   pred39  pred40  \n",
       "0       0       0  \n",
       "1       0       0  \n",
       "\n",
       "[2 rows x 40 columns]"
      ]
     },
     "execution_count": 143,
     "metadata": {},
     "output_type": "execute_result"
    }
   ],
   "source": [
    "meta_test.head(2)"
   ]
  },
  {
   "cell_type": "markdown",
   "metadata": {},
   "source": [
    "### Meta model predictions"
   ]
  },
  {
   "cell_type": "code",
   "execution_count": 144,
   "metadata": {},
   "outputs": [
    {
     "name": "stdout",
     "output_type": "stream",
     "text": [
      "   pred1  pred2  pred3  pred4  pred5  pred6  pred7  pred8  pred9  pred10  \\\n",
      "0      0      0      0      0      0      0      0      0      0       0   \n",
      "1      0      0      0      0      0      0      0      0      0       0   \n",
      "\n",
      "     ...     pred33  pred34  pred35  pred36  pred37  pred38  pred39  pred40  \\\n",
      "0    ...          0       0       0       0       0       0       0       0   \n",
      "1    ...          0       0       0       0       0       0       0       0   \n",
      "\n",
      "   Criminal     PERID  \n",
      "0         0  66583679  \n",
      "1         0  35494679  \n",
      "\n",
      "[2 rows x 42 columns]\n"
     ]
    }
   ],
   "source": [
    "meta_test['Criminal'] = meta_model.predict(meta_test)\n",
    "meta_test['PERID'] = perid\n",
    "print(meta_test.head(2))"
   ]
  },
  {
   "cell_type": "markdown",
   "metadata": {},
   "source": [
    "### Final submission"
   ]
  },
  {
   "cell_type": "code",
   "execution_count": 147,
   "metadata": {
    "collapsed": true
   },
   "outputs": [],
   "source": [
    "meta_test[['PERID', 'Criminal']].to_csv('final_15.csv', index=False)"
   ]
  },
  {
   "cell_type": "code",
   "execution_count": 148,
   "metadata": {},
   "outputs": [
    {
     "name": "stdout",
     "output_type": "stream",
     "text": [
      "Criminal  number: 777, percent: 0.06797900262467192\n"
     ]
    }
   ],
   "source": [
    "nc = sum(meta_test['Criminal'])\n",
    "print('Criminal  number: {}, percent: {}'.format(nc, nc / meta_test.shape[0]))"
   ]
  },
  {
   "cell_type": "code",
   "execution_count": null,
   "metadata": {
    "collapsed": true
   },
   "outputs": [],
   "source": []
  },
  {
   "cell_type": "code",
   "execution_count": null,
   "metadata": {
    "scrolled": true
   },
   "outputs": [],
   "source": []
  },
  {
   "cell_type": "markdown",
   "metadata": {},
   "source": [
    "# Rough"
   ]
  },
  {
   "cell_type": "code",
   "execution_count": null,
   "metadata": {
    "collapsed": true
   },
   "outputs": [],
   "source": [
    "for f in imp_feats:\n",
    "    if f not in test.columns.values:\n",
    "        print(f)"
   ]
  },
  {
   "cell_type": "code",
   "execution_count": null,
   "metadata": {
    "collapsed": true
   },
   "outputs": [],
   "source": []
  }
 ],
 "metadata": {
  "anaconda-cloud": {},
  "kernelspec": {
   "display_name": "Python 3",
   "language": "python",
   "name": "python3"
  },
  "language_info": {
   "codemirror_mode": {
    "name": "ipython",
    "version": 3
   },
   "file_extension": ".py",
   "mimetype": "text/x-python",
   "name": "python",
   "nbconvert_exporter": "python",
   "pygments_lexer": "ipython3",
   "version": "3.6.3"
  }
 },
 "nbformat": 4,
 "nbformat_minor": 1
}
