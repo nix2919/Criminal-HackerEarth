{
 "cells": [
  {
   "cell_type": "code",
   "execution_count": 47,
   "metadata": {
    "collapsed": true
   },
   "outputs": [],
   "source": [
    "%matplotlib inline\n",
    "from pandas import read_csv, DataFrame, get_dummies, Series\n",
    "from numpy import nanmean\n",
    "import matplotlib.pyplot as plt\n",
    "from multiprocessing import Pool, cpu_count\n",
    "from functools import partial\n",
    "from scipy import stats\n",
    "from sklearn.preprocessing import normalize\n",
    "from sklearn.svm import SVC\n",
    "from sklearn.naive_bayes import GaussianNB\n",
    "from sklearn.tree import ExtraTreeClassifier\n",
    "from sklearn.ensemble import RandomForestClassifier\n",
    "from boruta import BorutaPy\n",
    "from random import sample\n",
    "from sklearn.metrics import accuracy_score, matthews_corrcoef, roc_auc_score, confusion_matrix\n",
    "from sklearn.metrics import make_scorer\n",
    "from sklearn.model_selection import train_test_split, GridSearchCV\n",
    "from sklearn.feature_selection import RFE, SelectFromModel, SelectKBest, VarianceThreshold"
   ]
  },
  {
   "cell_type": "code",
   "execution_count": 2,
   "metadata": {
    "collapsed": true
   },
   "outputs": [],
   "source": [
    "from warnings import simplefilter\n",
    "simplefilter(\"ignore\")"
   ]
  },
  {
   "cell_type": "code",
   "execution_count": 10,
   "metadata": {},
   "outputs": [
    {
     "name": "stdout",
     "output_type": "stream",
     "text": [
      "      PERID  IFATHER  NRCH17_2  IRHHSIZ2  IIHHSIZ2  IRKI17_2  IIKI17_2  \\\n",
      "0  25095143      4.0       2.0       4.0       1.0       3.0       1.0   \n",
      "1  13005143      4.0       1.0       3.0       1.0       2.0       1.0   \n",
      "\n",
      "   IRHH65_2  IIHH65_2  PRXRETRY    ...     TOOLONG  TROUBUND  PDEN10  COUTYP2  \\\n",
      "0       1.0       1.0      99.0    ...         1.0       2.0     1.0      1.0   \n",
      "1       1.0       1.0      99.0    ...         2.0       2.0     2.0      3.0   \n",
      "\n",
      "   MAIIN102  AIIND102     ANALWT_C    VESTR  VEREP  Criminal  \n",
      "0       2.0       2.0  3884.805998  40026.0    1.0         0  \n",
      "1       2.0       2.0  1627.108106  40015.0    2.0         1  \n",
      "\n",
      "[2 rows x 72 columns]\n"
     ]
    }
   ],
   "source": [
    "# Train data\n",
    "train = read_csv('train.csv', na_values=-1)\n",
    "print(train.head(2))"
   ]
  },
  {
   "cell_type": "code",
   "execution_count": 11,
   "metadata": {
    "scrolled": true
   },
   "outputs": [
    {
     "data": {
      "text/plain": [
       "array(['IFATHER', 'NRCH17_2', 'IRHHSIZ2', 'IIHHSIZ2', 'IRKI17_2',\n",
       "       'IIKI17_2', 'IRHH65_2', 'IIHH65_2', 'PRXRETRY', 'PRXYDATA',\n",
       "       'MEDICARE', 'CAIDCHIP', 'CHAMPUS', 'PRVHLTIN', 'GRPHLTIN',\n",
       "       'HLTINNOS', 'HLCNOTYR', 'HLCNOTMO', 'HLCLAST', 'HLLOSRSN',\n",
       "       'HLNVCOST', 'HLNVOFFR', 'HLNVREF', 'HLNVNEED', 'HLNVSOR',\n",
       "       'IRMCDCHP', 'IIMCDCHP', 'IRMEDICR', 'IIMEDICR', 'IRCHMPUS',\n",
       "       'IICHMPUS', 'IRPRVHLT', 'IIPRVHLT', 'IROTHHLT', 'IIOTHHLT',\n",
       "       'HLCALLFG', 'HLCALL99', 'ANYHLTI2', 'IRINSUR4', 'IIINSUR4',\n",
       "       'OTHINS', 'CELLNOTCL', 'CELLWRKNG', 'IRFAMSOC', 'IIFAMSOC',\n",
       "       'IRFAMSSI', 'IIFAMSSI', 'IRFSTAMP', 'IIFSTAMP', 'IRFAMPMT',\n",
       "       'IIFAMPMT', 'IRFAMSVC', 'IIFAMSVC', 'IRWELMOS', 'IIWELMOS',\n",
       "       'IRPINC3', 'IRFAMIN3', 'IIPINC3', 'IIFAMIN3', 'GOVTPROG',\n",
       "       'POVERTY3', 'TOOLONG', 'TROUBUND', 'PDEN10', 'COUTYP2', 'MAIIN102',\n",
       "       'AIIND102', 'ANALWT_C', 'VESTR', 'VEREP', 'Criminal'], dtype=object)"
      ]
     },
     "execution_count": 11,
     "metadata": {},
     "output_type": "execute_result"
    }
   ],
   "source": [
    "train.drop('PERID', axis=1, inplace=True)\n",
    "train = train.dropna()\n",
    "train.columns.values"
   ]
  },
  {
   "cell_type": "code",
   "execution_count": null,
   "metadata": {
    "collapsed": true
   },
   "outputs": [],
   "source": []
  },
  {
   "cell_type": "code",
   "execution_count": null,
   "metadata": {
    "collapsed": true,
    "scrolled": true
   },
   "outputs": [],
   "source": []
  },
  {
   "cell_type": "code",
   "execution_count": null,
   "metadata": {
    "collapsed": true
   },
   "outputs": [],
   "source": []
  },
  {
   "cell_type": "code",
   "execution_count": null,
   "metadata": {
    "collapsed": true
   },
   "outputs": [],
   "source": []
  },
  {
   "cell_type": "code",
   "execution_count": null,
   "metadata": {
    "collapsed": true
   },
   "outputs": [],
   "source": []
  },
  {
   "cell_type": "code",
   "execution_count": null,
   "metadata": {
    "collapsed": true
   },
   "outputs": [],
   "source": []
  },
  {
   "cell_type": "code",
   "execution_count": null,
   "metadata": {
    "collapsed": true
   },
   "outputs": [],
   "source": [
    "# Normalization of Train and Test\n",
    "cols = list(X.columns.values)\n",
    "\n",
    "# Train\n",
    "X = DataFrame(normalize(X))\n",
    "X.columns = cols\n",
    "X.head(2)\n",
    "\n",
    "# Test\n",
    "test_xgb_org = DataFrame(normalize(test_xgb_org))\n",
    "test_xgb_org.columns = cols\n",
    "test_xgb_org.head(2)"
   ]
  },
  {
   "cell_type": "markdown",
   "metadata": {},
   "source": [
    "# Data Exploration and prepocessing"
   ]
  },
  {
   "cell_type": "code",
   "execution_count": 12,
   "metadata": {
    "scrolled": true
   },
   "outputs": [
    {
     "name": "stdout",
     "output_type": "stream",
     "text": [
      "Target Class\n",
      " 0    42233\n",
      "1     3060\n",
      "Name: Criminal, dtype: int64\n",
      "\n",
      "Number of unique values in each column\n",
      "IFATHER 4\n",
      "NRCH17_2 4\n",
      "IRHHSIZ2 6\n",
      "IIHHSIZ2 1\n",
      "IRKI17_2 4\n",
      "IIKI17_2 2\n",
      "IRHH65_2 3\n",
      "IIHH65_2 3\n",
      "PRXRETRY 5\n",
      "PRXYDATA 6\n",
      "MEDICARE 5\n",
      "CAIDCHIP 5\n",
      "CHAMPUS 5\n",
      "PRVHLTIN 5\n",
      "GRPHLTIN 7\n",
      "HLTINNOS 5\n",
      "HLCNOTYR 7\n",
      "HLCNOTMO 17\n",
      "HLCLAST 9\n",
      "HLLOSRSN 17\n",
      "HLNVCOST 6\n",
      "HLNVOFFR 6\n",
      "HLNVREF 6\n",
      "HLNVNEED 6\n",
      "HLNVSOR 6\n",
      "IRMCDCHP 2\n",
      "IIMCDCHP 2\n",
      "IRMEDICR 2\n",
      "IIMEDICR 2\n",
      "IRCHMPUS 2\n",
      "IICHMPUS 2\n",
      "IRPRVHLT 2\n",
      "IIPRVHLT 2\n",
      "IROTHHLT 3\n",
      "IIOTHHLT 3\n",
      "HLCALLFG 2\n",
      "HLCALL99 2\n",
      "ANYHLTI2 5\n",
      "IRINSUR4 2\n",
      "IIINSUR4 2\n",
      "OTHINS 2\n",
      "CELLNOTCL 6\n",
      "CELLWRKNG 6\n",
      "IRFAMSOC 2\n",
      "IIFAMSOC 2\n",
      "IRFAMSSI 2\n",
      "IIFAMSSI 2\n",
      "IRFSTAMP 2\n",
      "IIFSTAMP 2\n",
      "IRFAMPMT 2\n",
      "IIFAMPMT 2\n",
      "IRFAMSVC 2\n",
      "IIFAMSVC 2\n",
      "IRWELMOS 13\n",
      "IIWELMOS 3\n",
      "IRPINC3 7\n",
      "IRFAMIN3 7\n",
      "IIPINC3 2\n",
      "IIFAMIN3 2\n",
      "GOVTPROG 2\n",
      "POVERTY3 3\n",
      "TOOLONG 3\n",
      "TROUBUND 3\n",
      "PDEN10 3\n",
      "COUTYP2 3\n",
      "MAIIN102 2\n",
      "AIIND102 2\n",
      "ANALWT_C 45250\n",
      "VESTR 50\n",
      "VEREP 2\n",
      "Criminal 2\n"
     ]
    }
   ],
   "source": [
    "# Class imbalance\n",
    "print('Target Class\\n', train['Criminal'].value_counts())\n",
    "cols = train.columns.values\n",
    "\n",
    "# Number of unique values\n",
    "print('\\nNumber of unique values in each column')\n",
    "for col in cols:\n",
    "    print(col, len(train[col].unique()))"
   ]
  },
  {
   "cell_type": "code",
   "execution_count": 13,
   "metadata": {
    "collapsed": true
   },
   "outputs": [],
   "source": [
    "# Separate numerical and categorical columns\n",
    "target = ['Criminal']\n",
    "num_cols = ['NRCH17_2', 'IRHHSIZ2', 'IRKI17_2', 'IRHH65_2', 'HLCNOTMO', 'HLCLAST', 'IRWELMOS', 'ANALWT_C']\n",
    "cat_cols = [col for col in train.columns.values if col not in (num_cols + target)]"
   ]
  },
  {
   "cell_type": "code",
   "execution_count": 14,
   "metadata": {},
   "outputs": [
    {
     "name": "stdout",
     "output_type": "stream",
     "text": [
      "71 8 62\n"
     ]
    }
   ],
   "source": [
    "print(len(train.columns.values), len(num_cols), len(cat_cols))"
   ]
  },
  {
   "cell_type": "code",
   "execution_count": 15,
   "metadata": {
    "scrolled": true
   },
   "outputs": [
    {
     "name": "stdout",
     "output_type": "stream",
     "text": [
      "IFATHER\n",
      "IIHHSIZ2\n",
      "IIKI17_2\n",
      "IIHH65_2\n",
      "PRXRETRY\n",
      "PRXYDATA\n",
      "MEDICARE\n",
      "CAIDCHIP\n",
      "CHAMPUS\n",
      "PRVHLTIN\n",
      "GRPHLTIN\n",
      "HLTINNOS\n",
      "HLCNOTYR\n",
      "HLLOSRSN\n",
      "HLNVCOST\n",
      "HLNVOFFR\n",
      "HLNVREF\n",
      "HLNVNEED\n",
      "HLNVSOR\n",
      "IRMCDCHP\n",
      "IIMCDCHP\n",
      "IRMEDICR\n",
      "IIMEDICR\n",
      "IRCHMPUS\n",
      "IICHMPUS\n",
      "IRPRVHLT\n",
      "IIPRVHLT\n",
      "IROTHHLT\n",
      "IIOTHHLT\n",
      "HLCALLFG\n",
      "HLCALL99\n",
      "ANYHLTI2\n",
      "IRINSUR4\n",
      "IIINSUR4\n",
      "OTHINS\n",
      "CELLNOTCL\n",
      "CELLWRKNG\n",
      "IRFAMSOC\n",
      "IIFAMSOC\n",
      "IRFAMSSI\n",
      "IIFAMSSI\n",
      "IRFSTAMP\n",
      "IIFSTAMP\n",
      "IRFAMPMT\n",
      "IIFAMPMT\n",
      "IRFAMSVC\n",
      "IIFAMSVC\n",
      "IIWELMOS\n",
      "IRPINC3\n",
      "IRFAMIN3\n",
      "IIPINC3\n",
      "IIFAMIN3\n",
      "GOVTPROG\n",
      "POVERTY3\n",
      "TOOLONG\n",
      "TROUBUND\n",
      "PDEN10\n",
      "COUTYP2\n",
      "MAIIN102\n",
      "AIIND102\n",
      "VESTR\n",
      "VEREP\n"
     ]
    }
   ],
   "source": [
    "# Converting to categorical and one hot encoding\n",
    "for col in cat_cols:\n",
    "    train[col] = train[col].astype('category',copy=False)\n",
    "    temp = get_dummies(train[col])\n",
    "    temp.columns = [col+'_'+str(i) for i in temp.columns]\n",
    "    train = train.join(temp)\n",
    "    train = train.drop(col,axis=1)\n",
    "    print(col)"
   ]
  },
  {
   "cell_type": "code",
   "execution_count": 16,
   "metadata": {},
   "outputs": [
    {
     "data": {
      "text/html": [
       "<div>\n",
       "<style>\n",
       "    .dataframe thead tr:only-child th {\n",
       "        text-align: right;\n",
       "    }\n",
       "\n",
       "    .dataframe thead th {\n",
       "        text-align: left;\n",
       "    }\n",
       "\n",
       "    .dataframe tbody tr th {\n",
       "        vertical-align: top;\n",
       "    }\n",
       "</style>\n",
       "<table border=\"1\" class=\"dataframe\">\n",
       "  <thead>\n",
       "    <tr style=\"text-align: right;\">\n",
       "      <th></th>\n",
       "      <th>NRCH17_2</th>\n",
       "      <th>IRHHSIZ2</th>\n",
       "      <th>IRKI17_2</th>\n",
       "      <th>IRHH65_2</th>\n",
       "      <th>HLCNOTMO</th>\n",
       "      <th>HLCLAST</th>\n",
       "      <th>IRWELMOS</th>\n",
       "      <th>ANALWT_C</th>\n",
       "      <th>Criminal</th>\n",
       "      <th>IFATHER_1.0</th>\n",
       "      <th>...</th>\n",
       "      <th>VESTR_40043.0</th>\n",
       "      <th>VESTR_40044.0</th>\n",
       "      <th>VESTR_40045.0</th>\n",
       "      <th>VESTR_40046.0</th>\n",
       "      <th>VESTR_40047.0</th>\n",
       "      <th>VESTR_40048.0</th>\n",
       "      <th>VESTR_40049.0</th>\n",
       "      <th>VESTR_40050.0</th>\n",
       "      <th>VEREP_1.0</th>\n",
       "      <th>VEREP_2.0</th>\n",
       "    </tr>\n",
       "  </thead>\n",
       "  <tbody>\n",
       "    <tr>\n",
       "      <th>0</th>\n",
       "      <td>2.0</td>\n",
       "      <td>4.0</td>\n",
       "      <td>3.0</td>\n",
       "      <td>1.0</td>\n",
       "      <td>99.0</td>\n",
       "      <td>99.0</td>\n",
       "      <td>99.0</td>\n",
       "      <td>3884.805998</td>\n",
       "      <td>0</td>\n",
       "      <td>0</td>\n",
       "      <td>...</td>\n",
       "      <td>0</td>\n",
       "      <td>0</td>\n",
       "      <td>0</td>\n",
       "      <td>0</td>\n",
       "      <td>0</td>\n",
       "      <td>0</td>\n",
       "      <td>0</td>\n",
       "      <td>0</td>\n",
       "      <td>1</td>\n",
       "      <td>0</td>\n",
       "    </tr>\n",
       "    <tr>\n",
       "      <th>1</th>\n",
       "      <td>1.0</td>\n",
       "      <td>3.0</td>\n",
       "      <td>2.0</td>\n",
       "      <td>1.0</td>\n",
       "      <td>99.0</td>\n",
       "      <td>99.0</td>\n",
       "      <td>99.0</td>\n",
       "      <td>1627.108106</td>\n",
       "      <td>1</td>\n",
       "      <td>0</td>\n",
       "      <td>...</td>\n",
       "      <td>0</td>\n",
       "      <td>0</td>\n",
       "      <td>0</td>\n",
       "      <td>0</td>\n",
       "      <td>0</td>\n",
       "      <td>0</td>\n",
       "      <td>0</td>\n",
       "      <td>0</td>\n",
       "      <td>0</td>\n",
       "      <td>1</td>\n",
       "    </tr>\n",
       "  </tbody>\n",
       "</table>\n",
       "<p>2 rows × 279 columns</p>\n",
       "</div>"
      ],
      "text/plain": [
       "   NRCH17_2  IRHHSIZ2  IRKI17_2  IRHH65_2  HLCNOTMO  HLCLAST  IRWELMOS  \\\n",
       "0       2.0       4.0       3.0       1.0      99.0     99.0      99.0   \n",
       "1       1.0       3.0       2.0       1.0      99.0     99.0      99.0   \n",
       "\n",
       "      ANALWT_C  Criminal  IFATHER_1.0    ...      VESTR_40043.0  \\\n",
       "0  3884.805998         0            0    ...                  0   \n",
       "1  1627.108106         1            0    ...                  0   \n",
       "\n",
       "   VESTR_40044.0  VESTR_40045.0  VESTR_40046.0  VESTR_40047.0  VESTR_40048.0  \\\n",
       "0              0              0              0              0              0   \n",
       "1              0              0              0              0              0   \n",
       "\n",
       "   VESTR_40049.0  VESTR_40050.0  VEREP_1.0  VEREP_2.0  \n",
       "0              0              0          1          0  \n",
       "1              0              0          0          1  \n",
       "\n",
       "[2 rows x 279 columns]"
      ]
     },
     "execution_count": 16,
     "metadata": {},
     "output_type": "execute_result"
    }
   ],
   "source": [
    "train.head(2)"
   ]
  },
  {
   "cell_type": "code",
   "execution_count": null,
   "metadata": {
    "collapsed": true
   },
   "outputs": [],
   "source": []
  },
  {
   "cell_type": "code",
   "execution_count": null,
   "metadata": {
    "collapsed": true
   },
   "outputs": [],
   "source": []
  },
  {
   "cell_type": "code",
   "execution_count": null,
   "metadata": {
    "collapsed": true
   },
   "outputs": [],
   "source": [
    "# Check for duplicate rows"
   ]
  },
  {
   "cell_type": "code",
   "execution_count": 17,
   "metadata": {
    "scrolled": true
   },
   "outputs": [
    {
     "data": {
      "text/plain": [
       "NRCH17_2         0\n",
       "IRHHSIZ2         0\n",
       "IRKI17_2         0\n",
       "IRHH65_2         0\n",
       "HLCNOTMO         0\n",
       "HLCLAST          0\n",
       "IRWELMOS         0\n",
       "ANALWT_C         0\n",
       "Criminal         0\n",
       "IFATHER_1.0      0\n",
       "IFATHER_2.0      0\n",
       "IFATHER_3.0      0\n",
       "IFATHER_4.0      0\n",
       "IIHHSIZ2_1.0     0\n",
       "IIKI17_2_1.0     0\n",
       "IIKI17_2_3.0     0\n",
       "IIHH65_2_1.0     0\n",
       "IIHH65_2_2.0     0\n",
       "IIHH65_2_3.0     0\n",
       "PRXRETRY_2.0     0\n",
       "PRXRETRY_94.0    0\n",
       "PRXRETRY_97.0    0\n",
       "PRXRETRY_98.0    0\n",
       "PRXRETRY_99.0    0\n",
       "PRXYDATA_1.0     0\n",
       "PRXYDATA_2.0     0\n",
       "PRXYDATA_94.0    0\n",
       "PRXYDATA_97.0    0\n",
       "PRXYDATA_98.0    0\n",
       "PRXYDATA_99.0    0\n",
       "                ..\n",
       "VESTR_40023.0    0\n",
       "VESTR_40024.0    0\n",
       "VESTR_40025.0    0\n",
       "VESTR_40026.0    0\n",
       "VESTR_40027.0    0\n",
       "VESTR_40028.0    0\n",
       "VESTR_40029.0    0\n",
       "VESTR_40030.0    0\n",
       "VESTR_40031.0    0\n",
       "VESTR_40032.0    0\n",
       "VESTR_40033.0    0\n",
       "VESTR_40034.0    0\n",
       "VESTR_40035.0    0\n",
       "VESTR_40036.0    0\n",
       "VESTR_40037.0    0\n",
       "VESTR_40038.0    0\n",
       "VESTR_40039.0    0\n",
       "VESTR_40040.0    0\n",
       "VESTR_40041.0    0\n",
       "VESTR_40042.0    0\n",
       "VESTR_40043.0    0\n",
       "VESTR_40044.0    0\n",
       "VESTR_40045.0    0\n",
       "VESTR_40046.0    0\n",
       "VESTR_40047.0    0\n",
       "VESTR_40048.0    0\n",
       "VESTR_40049.0    0\n",
       "VESTR_40050.0    0\n",
       "VEREP_1.0        0\n",
       "VEREP_2.0        0\n",
       "Length: 279, dtype: int64"
      ]
     },
     "execution_count": 17,
     "metadata": {},
     "output_type": "execute_result"
    }
   ],
   "source": [
    "# Missing value check\n",
    "train.isnull().sum()"
   ]
  },
  {
   "cell_type": "code",
   "execution_count": null,
   "metadata": {
    "collapsed": true
   },
   "outputs": [],
   "source": [
    "# Outliers\n",
    "fig, ax = plt.subplots(figsize=(15,  15))\n",
    "# X_train.boxplot(by='target', ax=ax)"
   ]
  },
  {
   "cell_type": "code",
   "execution_count": null,
   "metadata": {
    "collapsed": true,
    "scrolled": true
   },
   "outputs": [],
   "source": [
    "# Bar plots\n",
    "train.iloc[:, :4].hist()"
   ]
  },
  {
   "cell_type": "code",
   "execution_count": null,
   "metadata": {
    "collapsed": true,
    "scrolled": true
   },
   "outputs": [],
   "source": [
    "# Finding best distribution for each feature\n",
    "\n",
    "cdfs = [\n",
    "    \"norm\",            #Normal (Gaussian)\n",
    "    \"alpha\",           #Alpha\n",
    "    \"beta\",            #Beta\n",
    "    \"expon\",           #Exponential\n",
    "    \"gamma\",           #Gamma\n",
    "    \"laplace\",         #Laplace\n",
    "    \"rayleigh\",        #Rayleigh\n",
    "    \"uniform\",         #Uniform\n",
    "       ]\n",
    "\n",
    "col_name=list(X_train.columns.values)\n",
    "X_train.fillna(0, inplace=True)\n",
    "trans = {}\n",
    "for i in range(X_train.shape[1]):\n",
    "    p_max = -100\n",
    "    dist = ''\n",
    "    temp = X_train[col_name[i]].transpose().values.tolist()\n",
    "    # fit our data set against every probability distribution\n",
    "    for cdf in cdfs:\n",
    "        parameters = eval(\"stats.\"+cdf+\".fit(temp)\")\n",
    "        #Applying the Kolmogorov-Smirnof one sided test\n",
    "        D, p = stats.kstest(temp, cdf, args=parameters)\n",
    "        if p > p_max:\n",
    "            p_max = p\n",
    "            dist = cdf\n",
    "            #pretty-print the results\n",
    "        #print cdf.ljust(16) + (\"p: \"+str(p)).ljust(25)+\"D: \"+str(D)\n",
    "    #trans.append(dist)\n",
    "    trans[col_name[i]]=dist\n",
    "    print(col_name[i], \":\", dist, \"distribution\")"
   ]
  },
  {
   "cell_type": "markdown",
   "metadata": {},
   "source": [
    "# Feature Engineering / Selection"
   ]
  },
  {
   "cell_type": "code",
   "execution_count": 18,
   "metadata": {
    "collapsed": true
   },
   "outputs": [],
   "source": [
    "# Checking collinearity (using correlation)\n",
    "correl = train.corr()\n",
    "# train[\"feat_1\"].corr(train[\"feat_2\"])"
   ]
  },
  {
   "cell_type": "code",
   "execution_count": 21,
   "metadata": {
    "scrolled": true
   },
   "outputs": [
    {
     "name": "stdout",
     "output_type": "stream",
     "text": [
      "HLCLAST ANYHLTI2_1.0 0.952736990979\n",
      "HLCLAST IRINSUR4_1.0 0.983634157935\n",
      "IRWELMOS IIWELMOS_9.0 0.930461790315\n",
      "PRXRETRY_94.0 PRXYDATA_94.0 0.968727905923\n",
      "MEDICARE_1.0 IRMEDICR_1.0 0.99884859921\n",
      "MEDICARE_2.0 IRMEDICR_2.0 0.973888851902\n",
      "CAIDCHIP_1.0 IRMCDCHP_1.0 0.991166705492\n",
      "CAIDCHIP_2.0 IRMCDCHP_2.0 0.983686307738\n",
      "CHAMPUS_1.0 IRCHMPUS_1.0 0.999395499687\n",
      "CHAMPUS_2.0 IRCHMPUS_2.0 0.971023194736\n",
      "PRVHLTIN_1.0 IRPRVHLT_1.0 0.992883693158\n",
      "PRVHLTIN_2.0 IRPRVHLT_2.0 0.993647810813\n",
      "PRVHLTIN_94.0 GRPHLTIN_98.0 0.997962578379\n",
      "PRVHLTIN_94.0 IIPRVHLT_3.0 0.918975704754\n",
      "PRVHLTIN_97.0 GRPHLTIN_97.0 0.988012603095\n",
      "GRPHLTIN_98.0 IIPRVHLT_3.0 0.920851868261\n",
      "GRPHLTIN_99.0 IRPRVHLT_2.0 0.993647810813\n",
      "HLTINNOS_1.0 IROTHHLT_1.0 0.987437950339\n",
      "HLTINNOS_2.0 IROTHHLT_2.0 0.987218650281\n",
      "HLTINNOS_2.0 IRINSUR4_2.0 0.987218650281\n",
      "HLTINNOS_99.0 IROTHHLT_99.0 0.989203386892\n",
      "HLTINNOS_99.0 IIOTHHLT_9.0 0.966687120457\n",
      "HLCNOTYR_85.0 ANYHLTI2_98.0 0.976997630432\n",
      "HLCNOTYR_97.0 HLLOSRSN_97.0 0.937813979994\n",
      "HLCNOTYR_97.0 HLNVCOST_97.0 0.990510165864\n",
      "HLCNOTYR_97.0 HLNVOFFR_97.0 0.990510165864\n",
      "HLCNOTYR_97.0 HLNVREF_97.0 0.990510165864\n",
      "HLCNOTYR_97.0 HLNVNEED_97.0 0.990510165864\n",
      "HLCNOTYR_97.0 HLNVSOR_97.0 0.990510165864\n",
      "HLCNOTYR_97.0 ANYHLTI2_97.0 0.990510165864\n",
      "HLCNOTYR_98.0 HLLOSRSN_98.0 0.968492762858\n",
      "HLCNOTYR_98.0 HLNVCOST_98.0 0.95449069549\n",
      "HLCNOTYR_98.0 HLNVOFFR_98.0 0.95449069549\n",
      "HLCNOTYR_98.0 HLNVREF_98.0 0.95449069549\n",
      "HLCNOTYR_98.0 HLNVNEED_98.0 0.95449069549\n",
      "HLCNOTYR_98.0 HLNVSOR_98.0 0.95449069549\n",
      "HLCNOTYR_98.0 IIOTHHLT_3.0 0.901625020418\n",
      "HLCNOTYR_98.0 ANYHLTI2_94.0 0.998425177173\n",
      "HLCNOTYR_98.0 IIINSUR4_3.0 0.901625020418\n",
      "HLCNOTYR_99.0 IROTHHLT_2.0 0.987218650281\n",
      "HLCNOTYR_99.0 IRINSUR4_2.0 0.987218650281\n",
      "HLLOSRSN_97.0 HLNVCOST_97.0 0.946801362853\n",
      "HLLOSRSN_97.0 HLNVOFFR_97.0 0.946801362853\n",
      "HLLOSRSN_97.0 HLNVREF_97.0 0.946801362853\n",
      "HLLOSRSN_97.0 HLNVNEED_97.0 0.946801362853\n",
      "HLLOSRSN_97.0 HLNVSOR_97.0 0.946801362853\n",
      "HLLOSRSN_97.0 ANYHLTI2_97.0 0.946801362853\n",
      "HLLOSRSN_98.0 HLNVCOST_98.0 0.985542414042\n",
      "HLLOSRSN_98.0 HLNVOFFR_98.0 0.985542414042\n",
      "HLLOSRSN_98.0 HLNVREF_98.0 0.985542414042\n",
      "HLLOSRSN_98.0 HLNVNEED_98.0 0.985542414042\n",
      "HLLOSRSN_98.0 HLNVSOR_98.0 0.985542414042\n",
      "HLLOSRSN_98.0 IIOTHHLT_3.0 0.930956900243\n",
      "HLLOSRSN_98.0 ANYHLTI2_94.0 0.966967558349\n",
      "HLLOSRSN_98.0 IIINSUR4_3.0 0.930956900243\n",
      "HLNVCOST_98.0 IIOTHHLT_3.0 0.917466106745\n",
      "HLNVCOST_98.0 ANYHLTI2_94.0 0.952987541756\n",
      "HLNVCOST_98.0 IIINSUR4_3.0 0.917466106745\n",
      "HLNVOFFR_6.0 HLNVREF_6.0 0.90529003116\n",
      "HLNVOFFR_98.0 IIOTHHLT_3.0 0.917466106745\n",
      "HLNVOFFR_98.0 ANYHLTI2_94.0 0.952987541756\n",
      "HLNVOFFR_98.0 IIINSUR4_3.0 0.917466106745\n",
      "HLNVREF_6.0 HLNVSOR_6.0 0.902145057556\n",
      "HLNVREF_98.0 IIOTHHLT_3.0 0.917466106745\n",
      "HLNVREF_98.0 ANYHLTI2_94.0 0.952987541756\n",
      "HLNVREF_98.0 IIINSUR4_3.0 0.917466106745\n",
      "HLNVNEED_98.0 IIOTHHLT_3.0 0.917466106745\n",
      "HLNVNEED_98.0 ANYHLTI2_94.0 0.952987541756\n",
      "HLNVNEED_98.0 IIINSUR4_3.0 0.917466106745\n",
      "HLNVSOR_98.0 IIOTHHLT_3.0 0.917466106745\n",
      "HLNVSOR_98.0 ANYHLTI2_94.0 0.952987541756\n",
      "HLNVSOR_98.0 IIINSUR4_3.0 0.917466106745\n",
      "IROTHHLT_2.0 ANYHLTI2_2.0 0.987218650281\n",
      "IROTHHLT_99.0 IIOTHHLT_9.0 0.97723798085\n",
      "IIOTHHLT_3.0 ANYHLTI2_94.0 0.900205120756\n",
      "ANYHLTI2_1.0 IRINSUR4_1.0 0.967786197392\n",
      "ANYHLTI2_2.0 IRINSUR4_2.0 0.987218650281\n",
      "ANYHLTI2_94.0 IIINSUR4_3.0 0.900205120756\n",
      "PDEN10_1.0 COUTYP2_1.0 0.937765603005\n",
      "MAIIN102_1.0 AIIND102_1.0 0.986701760339\n",
      "MAIIN102_2.0 AIIND102_2.0 0.986701760339\n"
     ]
    }
   ],
   "source": [
    "cols = train.columns.values\n",
    "for i in range(len(cols)):\n",
    "    for j in range(i+1, len(cols)):\n",
    "        curr_cor = correl.loc[cols[i], cols[j]]\n",
    "        if (curr_cor >= 0.9) and (curr_cor < 1):\n",
    "            print(cols[i], cols[j], curr_cor)"
   ]
  },
  {
   "cell_type": "markdown",
   "metadata": {},
   "source": [
    "### Variance Threshold Check"
   ]
  },
  {
   "cell_type": "code",
   "execution_count": 22,
   "metadata": {
    "collapsed": true
   },
   "outputs": [],
   "source": [
    "vt = VarianceThreshold()\n",
    "vt_train = vt.fit(train)"
   ]
  },
  {
   "cell_type": "code",
   "execution_count": 23,
   "metadata": {
    "scrolled": true
   },
   "outputs": [
    {
     "name": "stdout",
     "output_type": "stream",
     "text": [
      "        feature      variance\n",
      "218  PDEN10_2.0  2.499113e-01\n",
      "278   VEREP_2.0  2.499589e-01\n",
      "277   VEREP_1.0  2.499589e-01\n",
      "0      NRCH17_2  7.909803e-01\n",
      "2      IRKI17_2  1.216136e+00\n",
      "1      IRHHSIZ2  2.036199e+00\n",
      "6      IRWELMOS  4.203853e+02\n",
      "4      HLCNOTMO  5.899935e+02\n",
      "5       HLCLAST  8.366619e+02\n",
      "7      ANALWT_C  3.292275e+07\n"
     ]
    }
   ],
   "source": [
    "# vt.variances_\n",
    "vt_df = DataFrame({'feature': list(train.columns.values), 'variance': vt.variances_}).sort_values(by='variance', ascending=True)\n",
    "print(vt_df.tail(10))"
   ]
  },
  {
   "cell_type": "markdown",
   "metadata": {},
   "source": [
    "### Splitting data"
   ]
  },
  {
   "cell_type": "code",
   "execution_count": 70,
   "metadata": {
    "collapsed": true
   },
   "outputs": [],
   "source": [
    "y = train['Criminal']\n",
    "X = train[[col for col in train.columns.values if col not in ['PERID', 'Criminal']]]\n",
    "# X['download_time'].fillna(0, inplace=True)"
   ]
  },
  {
   "cell_type": "code",
   "execution_count": 71,
   "metadata": {
    "collapsed": true
   },
   "outputs": [],
   "source": [
    "# Splitting Train test\n",
    "X_train, X_test, y_train, y_test = train_test_split(X, y, stratify=y, test_size=0.9, random_state=9)"
   ]
  },
  {
   "cell_type": "markdown",
   "metadata": {},
   "source": [
    "### Normalization"
   ]
  },
  {
   "cell_type": "code",
   "execution_count": 72,
   "metadata": {},
   "outputs": [
    {
     "data": {
      "text/html": [
       "<div>\n",
       "<style>\n",
       "    .dataframe thead tr:only-child th {\n",
       "        text-align: right;\n",
       "    }\n",
       "\n",
       "    .dataframe thead th {\n",
       "        text-align: left;\n",
       "    }\n",
       "\n",
       "    .dataframe tbody tr th {\n",
       "        vertical-align: top;\n",
       "    }\n",
       "</style>\n",
       "<table border=\"1\" class=\"dataframe\">\n",
       "  <thead>\n",
       "    <tr style=\"text-align: right;\">\n",
       "      <th></th>\n",
       "      <th>NRCH17_2</th>\n",
       "      <th>IRHHSIZ2</th>\n",
       "      <th>IRKI17_2</th>\n",
       "      <th>IRHH65_2</th>\n",
       "      <th>HLCNOTMO</th>\n",
       "      <th>HLCLAST</th>\n",
       "      <th>IRWELMOS</th>\n",
       "      <th>ANALWT_C</th>\n",
       "      <th>IFATHER_1.0</th>\n",
       "      <th>IFATHER_2.0</th>\n",
       "      <th>...</th>\n",
       "      <th>VESTR_40043.0</th>\n",
       "      <th>VESTR_40044.0</th>\n",
       "      <th>VESTR_40045.0</th>\n",
       "      <th>VESTR_40046.0</th>\n",
       "      <th>VESTR_40047.0</th>\n",
       "      <th>VESTR_40048.0</th>\n",
       "      <th>VESTR_40049.0</th>\n",
       "      <th>VESTR_40050.0</th>\n",
       "      <th>VEREP_1.0</th>\n",
       "      <th>VEREP_2.0</th>\n",
       "    </tr>\n",
       "  </thead>\n",
       "  <tbody>\n",
       "    <tr>\n",
       "      <th>0</th>\n",
       "      <td>0.0</td>\n",
       "      <td>0.002499</td>\n",
       "      <td>0.000625</td>\n",
       "      <td>0.000625</td>\n",
       "      <td>0.061855</td>\n",
       "      <td>0.061855</td>\n",
       "      <td>0.061855</td>\n",
       "      <td>0.994229</td>\n",
       "      <td>0.0</td>\n",
       "      <td>0.0</td>\n",
       "      <td>...</td>\n",
       "      <td>0.0</td>\n",
       "      <td>0.0</td>\n",
       "      <td>0.0</td>\n",
       "      <td>0.0</td>\n",
       "      <td>0.0</td>\n",
       "      <td>0.000625</td>\n",
       "      <td>0.0</td>\n",
       "      <td>0.0</td>\n",
       "      <td>0.000625</td>\n",
       "      <td>0.000000</td>\n",
       "    </tr>\n",
       "    <tr>\n",
       "      <th>1</th>\n",
       "      <td>0.0</td>\n",
       "      <td>0.002484</td>\n",
       "      <td>0.001242</td>\n",
       "      <td>0.001242</td>\n",
       "      <td>0.122972</td>\n",
       "      <td>0.122972</td>\n",
       "      <td>0.122972</td>\n",
       "      <td>0.977000</td>\n",
       "      <td>0.0</td>\n",
       "      <td>0.0</td>\n",
       "      <td>...</td>\n",
       "      <td>0.0</td>\n",
       "      <td>0.0</td>\n",
       "      <td>0.0</td>\n",
       "      <td>0.0</td>\n",
       "      <td>0.0</td>\n",
       "      <td>0.000000</td>\n",
       "      <td>0.0</td>\n",
       "      <td>0.0</td>\n",
       "      <td>0.000000</td>\n",
       "      <td>0.001242</td>\n",
       "    </tr>\n",
       "  </tbody>\n",
       "</table>\n",
       "<p>2 rows × 278 columns</p>\n",
       "</div>"
      ],
      "text/plain": [
       "   NRCH17_2  IRHHSIZ2  IRKI17_2  IRHH65_2  HLCNOTMO   HLCLAST  IRWELMOS  \\\n",
       "0       0.0  0.002499  0.000625  0.000625  0.061855  0.061855  0.061855   \n",
       "1       0.0  0.002484  0.001242  0.001242  0.122972  0.122972  0.122972   \n",
       "\n",
       "   ANALWT_C  IFATHER_1.0  IFATHER_2.0    ...      VESTR_40043.0  \\\n",
       "0  0.994229          0.0          0.0    ...                0.0   \n",
       "1  0.977000          0.0          0.0    ...                0.0   \n",
       "\n",
       "   VESTR_40044.0  VESTR_40045.0  VESTR_40046.0  VESTR_40047.0  VESTR_40048.0  \\\n",
       "0            0.0            0.0            0.0            0.0       0.000625   \n",
       "1            0.0            0.0            0.0            0.0       0.000000   \n",
       "\n",
       "   VESTR_40049.0  VESTR_40050.0  VEREP_1.0  VEREP_2.0  \n",
       "0            0.0            0.0   0.000625   0.000000  \n",
       "1            0.0            0.0   0.000000   0.001242  \n",
       "\n",
       "[2 rows x 278 columns]"
      ]
     },
     "execution_count": 72,
     "metadata": {},
     "output_type": "execute_result"
    }
   ],
   "source": [
    "# Normalizing data\n",
    "norm_train = DataFrame(normalize(X_train))\n",
    "norm_train.columns = list(X_train.columns.values)\n",
    "norm_train.head(2)"
   ]
  },
  {
   "cell_type": "markdown",
   "metadata": {},
   "source": [
    "### PCA"
   ]
  },
  {
   "cell_type": "code",
   "execution_count": 73,
   "metadata": {
    "collapsed": true
   },
   "outputs": [],
   "source": [
    "from sklearn.decomposition import PCA\n",
    "pca = PCA(n_components=len(norm_train.columns.values))"
   ]
  },
  {
   "cell_type": "code",
   "execution_count": 74,
   "metadata": {
    "collapsed": true
   },
   "outputs": [],
   "source": [
    "pca_train = DataFrame(pca.fit_transform(norm_train))"
   ]
  },
  {
   "cell_type": "code",
   "execution_count": 80,
   "metadata": {},
   "outputs": [
    {
     "data": {
      "text/plain": [
       "0.030233344451452291"
      ]
     },
     "execution_count": 80,
     "metadata": {},
     "output_type": "execute_result"
    }
   ],
   "source": [
    "sum(pca.explained_variance_[:20])"
   ]
  },
  {
   "cell_type": "code",
   "execution_count": null,
   "metadata": {
    "collapsed": true
   },
   "outputs": [],
   "source": []
  },
  {
   "cell_type": "markdown",
   "metadata": {},
   "source": [
    "### Feature Importance"
   ]
  },
  {
   "cell_type": "code",
   "execution_count": 82,
   "metadata": {},
   "outputs": [
    {
     "data": {
      "text/plain": [
       "ExtraTreeClassifier(class_weight=None, criterion='gini', max_depth=None,\n",
       "          max_features='auto', max_leaf_nodes=None,\n",
       "          min_impurity_decrease=0.0, min_impurity_split=None,\n",
       "          min_samples_leaf=1, min_samples_split=2,\n",
       "          min_weight_fraction_leaf=0.0, random_state=None,\n",
       "          splitter='random')"
      ]
     },
     "execution_count": 82,
     "metadata": {},
     "output_type": "execute_result"
    }
   ],
   "source": [
    "rf = ExtraTreeClassifier()#n_estimators=100, max_depth=10)\n",
    "rf.fit(X_train, y_train)"
   ]
  },
  {
   "cell_type": "code",
   "execution_count": 83,
   "metadata": {},
   "outputs": [],
   "source": [
    "feat_imp = Series(rf.feature_importances_, index=X_train.columns.values).sort_values(ascending=False)"
   ]
  },
  {
   "cell_type": "code",
   "execution_count": 84,
   "metadata": {},
   "outputs": [
    {
     "data": {
      "image/png": "[encoded data removed]",
      "text/plain": [
       "<matplotlib.figure.Figure at 0x2a1eff75278>"
      ]
     },
     "metadata": {},
     "output_type": "display_data"
    }
   ],
   "source": [
    "feat_imp[:20].plot(kind='bar', title='Feature Importance with Random Forest', figsize=(12,8))\n",
    "plt.ylabel('Feature Importance values')\n",
    "#plt.subplots_adjust(bottom=0.25)\n",
    "#plt.savefig('FeatImportance.png')\n",
    "plt.show()"
   ]
  },
  {
   "cell_type": "code",
   "execution_count": 85,
   "metadata": {},
   "outputs": [
    {
     "name": "stdout",
     "output_type": "stream",
     "text": [
      "['IFATHER_4.0', 'ANALWT_C', 'IRFAMIN3_4.0', 'IRPRVHLT_2.0', 'POVERTY3_3.0', 'IRPINC3_2.0', 'PRVHLTIN_2.0', 'POVERTY3_2.0', 'IRPINC3_1.0', 'GRPHLTIN_1.0', 'PRVHLTIN_1.0', 'CAIDCHIP_1.0', 'IRFAMIN3_5.0', 'COUTYP2_1.0', 'MEDICARE_2.0', 'COUTYP2_3.0', 'GRPHLTIN_2.0', 'IIPRVHLT_3.0', 'IRHHSIZ2', 'IRMEDICR_1.0']\n"
     ]
    }
   ],
   "source": [
    "imp_feats = list(feat_imp[:20].index)\n",
    "print(imp_feats)"
   ]
  },
  {
   "cell_type": "markdown",
   "metadata": {},
   "source": [
    "### Feature Selection"
   ]
  },
  {
   "cell_type": "code",
   "execution_count": 86,
   "metadata": {
    "scrolled": true
   },
   "outputs": [
    {
     "name": "stdout",
     "output_type": "stream",
     "text": [
      "building tree 1 of 100\n",
      "building tree 2 of 100\n",
      "building tree 3 of 100\n",
      "building tree 4 of 100\n",
      "building tree 5 of 100\n",
      "building tree 6 of 100\n",
      "building tree 7 of 100\n",
      "building tree 8 of 100\n",
      "building tree 9 of 100\n",
      "building tree 10 of 100\n",
      "building tree 11 of 100\n",
      "building tree 12 of 100\n",
      "building tree 13 of 100\n",
      "building tree 14 of 100\n",
      "building tree 15 of 100\n",
      "building tree 16 of 100\n",
      "building tree 17 of 100\n",
      "building tree 18 of 100\n",
      "building tree 19 of 100\n",
      "building tree 20 of 100\n",
      "building tree 21 of 100\n",
      "building tree 22 of 100\n",
      "building tree 23 of 100\n",
      "building tree 24 of 100\n",
      "building tree 25 of 100\n",
      "building tree 26 of 100\n",
      "building tree 27 of 100\n",
      "building tree 28 of 100\n",
      "building tree 29 of 100\n",
      "building tree 30 of 100\n",
      "building tree 31 of 100\n",
      "building tree 32 of 100\n",
      "building tree 33 of 100\n",
      "building tree 34 of 100\n",
      "building tree 35 of 100\n",
      "building tree 36 of 100\n",
      "building tree 37 of 100\n",
      "building tree 38 of 100\n",
      "building tree 39 of 100\n",
      "building tree 40 of 100\n",
      "building tree 41 of 100"
     ]
    },
    {
     "name": "stderr",
     "output_type": "stream",
     "text": [
      "[Parallel(n_jobs=1)]: Done   1 out of   1 | elapsed:    0.0s remaining:    0.0s\n"
     ]
    },
    {
     "name": "stdout",
     "output_type": "stream",
     "text": [
      "\n",
      "building tree 42 of 100\n",
      "building tree 43 of 100\n",
      "building tree 44 of 100\n",
      "building tree 45 of 100\n",
      "building tree 46 of 100\n",
      "building tree 47 of 100\n",
      "building tree 48 of 100\n",
      "building tree 49 of 100\n",
      "building tree 50 of 100\n",
      "building tree 51 of 100\n",
      "building tree 52 of 100\n",
      "building tree 53 of 100\n",
      "building tree 54 of 100\n",
      "building tree 55 of 100\n",
      "building tree 56 of 100\n",
      "building tree 57 of 100\n",
      "building tree 58 of 100\n",
      "building tree 59 of 100\n",
      "building tree 60 of 100\n",
      "building tree 61 of 100\n",
      "building tree 62 of 100\n",
      "building tree 63 of 100\n",
      "building tree 64 of 100\n",
      "building tree 65 of 100\n",
      "building tree 66 of 100\n",
      "building tree 67 of 100\n",
      "building tree 68 of 100\n",
      "building tree 69 of 100\n",
      "building tree 70 of 100\n",
      "building tree 71 of 100\n",
      "building tree 72 of 100\n",
      "building tree 73 of 100\n",
      "building tree 74 of 100\n",
      "building tree 75 of 100\n",
      "building tree 76 of 100\n",
      "building tree 77 of 100\n",
      "building tree 78 of 100\n",
      "building tree 79 of 100\n",
      "building tree 80 of 100\n",
      "building tree 81 of 100\n",
      "building tree 82 of 100\n",
      "building tree 83 of 100\n",
      "building tree 84 of 100\n",
      "building tree 85 of 100\n",
      "building tree 86 of 100\n",
      "building tree 87 of 100\n",
      "building tree 88 of 100\n",
      "building tree 89 of 100\n",
      "building tree 90 of 100\n",
      "building tree 91 of 100\n",
      "building tree 92 of 100\n",
      "building tree 93 of 100\n",
      "building tree 94 of 100\n",
      "building tree 95 of 100\n",
      "building tree 96 of 100\n",
      "building tree 97 of 100\n",
      "building tree 98 of 100\n",
      "building tree 99 of 100\n",
      "building tree 100 of 100\n"
     ]
    },
    {
     "name": "stderr",
     "output_type": "stream",
     "text": [
      "[Parallel(n_jobs=1)]: Done 100 out of 100 | elapsed:    0.5s finished\n"
     ]
    },
    {
     "data": {
      "text/plain": [
       "SelectFromModel(estimator=RandomForestClassifier(bootstrap=True, class_weight=None, criterion='gini',\n",
       "            max_depth=20, max_features='auto', max_leaf_nodes=None,\n",
       "            min_impurity_decrease=0.0, min_impurity_split=None,\n",
       "            min_samples_leaf=1, min_samples_split=2,\n",
       "            min_weight_fraction_leaf=0.0, n_estimators=100, n_jobs=1,\n",
       "            oob_score=False, random_state=1, verbose=2, warm_start=False),\n",
       "        norm_order=1, prefit=False, threshold=None)"
      ]
     },
     "execution_count": 86,
     "metadata": {},
     "output_type": "execute_result"
    }
   ],
   "source": [
    "# Select From Model\n",
    "feats = list(X_train.columns.values)\n",
    "\n",
    "rf = RandomForestClassifier(n_estimators=100, verbose=2, random_state=1, max_depth=20)\n",
    "\n",
    "# define Boruta feature selection method\n",
    "feat_selector = SelectFromModel(rf)\n",
    "\n",
    "# find all relevant features - 20 features should be selected\n",
    "feat_selector.fit(X_train, y_train)"
   ]
  },
  {
   "cell_type": "code",
   "execution_count": 87,
   "metadata": {},
   "outputs": [
    {
     "name": "stdout",
     "output_type": "stream",
     "text": [
      "['NRCH17_2', 'IRHHSIZ2', 'IRKI17_2', 'IRHH65_2', 'HLCNOTMO', 'IRWELMOS', 'ANALWT_C', 'IFATHER_1.0', 'IFATHER_2.0', 'IFATHER_4.0', 'PRXYDATA_1.0', 'PRXYDATA_99.0', 'MEDICARE_1.0', 'MEDICARE_2.0', 'CAIDCHIP_1.0', 'CAIDCHIP_2.0', 'PRVHLTIN_1.0', 'PRVHLTIN_2.0', 'GRPHLTIN_1.0', 'GRPHLTIN_2.0', 'GRPHLTIN_99.0', 'HLCNOTYR_2.0', 'IRMCDCHP_1.0', 'IRMCDCHP_2.0', 'IRMEDICR_1.0', 'IRMEDICR_2.0', 'IRPRVHLT_1.0', 'IRPRVHLT_2.0', 'OTHINS_1.0', 'OTHINS_2.0', 'CELLNOTCL_1.0', 'CELLNOTCL_2.0', 'IRFAMSOC_1.0', 'IRFAMSOC_2.0', 'IRFSTAMP_1.0', 'IRFSTAMP_2.0', 'IRPINC3_1.0', 'IRPINC3_2.0', 'IRPINC3_3.0', 'IRFAMIN3_1.0', 'IRFAMIN3_2.0', 'IRFAMIN3_3.0', 'IRFAMIN3_4.0', 'IRFAMIN3_5.0', 'IRFAMIN3_6.0', 'IRFAMIN3_7.0', 'IIFAMIN3_1.0', 'IIFAMIN3_3.0', 'GOVTPROG_1.0', 'GOVTPROG_2.0', 'POVERTY3_1.0', 'POVERTY3_2.0', 'POVERTY3_3.0', 'TOOLONG_1.0', 'TOOLONG_2.0', 'TROUBUND_1.0', 'PDEN10_1.0', 'PDEN10_2.0', 'PDEN10_3.0', 'COUTYP2_1.0', 'COUTYP2_2.0', 'COUTYP2_3.0', 'VESTR_40003.0', 'VESTR_40040.0', 'VESTR_40041.0', 'VESTR_40046.0', 'VEREP_1.0', 'VEREP_2.0']\n"
     ]
    }
   ],
   "source": [
    "sfmodel_feats = [feats[i] for i in feat_selector.get_support(indices=True)]\n",
    "print(sfmodel_feats)"
   ]
  },
  {
   "cell_type": "code",
   "execution_count": null,
   "metadata": {
    "collapsed": true
   },
   "outputs": [],
   "source": []
  },
  {
   "cell_type": "code",
   "execution_count": null,
   "metadata": {
    "collapsed": true
   },
   "outputs": [],
   "source": []
  },
  {
   "cell_type": "markdown",
   "metadata": {},
   "source": [
    "# Model Training"
   ]
  },
  {
   "cell_type": "markdown",
   "metadata": {},
   "source": [
    "Random Forest"
   ]
  },
  {
   "cell_type": "code",
   "execution_count": 88,
   "metadata": {},
   "outputs": [
    {
     "name": "stdout",
     "output_type": "stream",
     "text": [
      "MCC: 0.534068121059\n",
      "Acc: 0.948900991071\n",
      "Confusion Matrix\n",
      " [[37414   596]\n",
      " [ 1487  1267]]\n"
     ]
    }
   ],
   "source": [
    "rf = RandomForestClassifier()\n",
    "params = {'n_estimators': [1000, 2000],\n",
    "         'max_depth': [8, 10, 14]}\n",
    "\n",
    "grid = GridSearchCV(estimator=rf, param_grid=params, scoring=make_scorer(matthews_corrcoef))\n",
    "grid.fit(X_train[imp_feats], y_train)\n",
    "\n",
    "y_pred = grid.predict(X_test[imp_feats])\n",
    "# print(y_pred[:4])\n",
    "\n",
    "print('MCC:', matthews_corrcoef(y_test, y_pred))\n",
    "print('Acc:', accuracy_score(y_test, y_pred))\n",
    "print('Confusion Matrix\\n', confusion_matrix(y_test, y_pred))"
   ]
  },
  {
   "cell_type": "markdown",
   "metadata": {},
   "source": [
    "### XGBoost"
   ]
  },
  {
   "cell_type": "code",
   "execution_count": 90,
   "metadata": {
    "scrolled": true
   },
   "outputs": [
    {
     "name": "stdout",
     "output_type": "stream",
     "text": [
      "Fitting 5 folds for each of 12 candidates, totalling 60 fits\n"
     ]
    },
    {
     "name": "stderr",
     "output_type": "stream",
     "text": [
      "[Parallel(n_jobs=-1)]: Done   1 tasks      | elapsed:    7.9s\n",
      "[Parallel(n_jobs=-1)]: Done   2 tasks      | elapsed:    9.6s\n",
      "[Parallel(n_jobs=-1)]: Done   3 tasks      | elapsed:   11.4s\n",
      "[Parallel(n_jobs=-1)]: Done   4 tasks      | elapsed:   12.9s\n",
      "[Parallel(n_jobs=-1)]: Done   5 tasks      | elapsed:   15.0s\n",
      "[Parallel(n_jobs=-1)]: Done   6 tasks      | elapsed:   16.9s\n",
      "[Parallel(n_jobs=-1)]: Done   7 tasks      | elapsed:   18.7s\n",
      "[Parallel(n_jobs=-1)]: Done   8 tasks      | elapsed:   20.1s\n",
      "[Parallel(n_jobs=-1)]: Done   9 tasks      | elapsed:   22.2s\n",
      "[Parallel(n_jobs=-1)]: Done  10 tasks      | elapsed:   24.0s\n",
      "[Parallel(n_jobs=-1)]: Done  11 tasks      | elapsed:   26.1s\n",
      "[Parallel(n_jobs=-1)]: Done  12 tasks      | elapsed:   27.4s\n",
      "[Parallel(n_jobs=-1)]: Done  13 tasks      | elapsed:   29.5s\n",
      "[Parallel(n_jobs=-1)]: Done  14 tasks      | elapsed:   31.2s\n",
      "[Parallel(n_jobs=-1)]: Done  15 tasks      | elapsed:   33.3s\n",
      "[Parallel(n_jobs=-1)]: Done  16 tasks      | elapsed:   34.4s\n",
      "[Parallel(n_jobs=-1)]: Done  17 tasks      | elapsed:   36.5s\n",
      "[Parallel(n_jobs=-1)]: Done  18 tasks      | elapsed:   38.0s\n",
      "[Parallel(n_jobs=-1)]: Done  19 tasks      | elapsed:   40.1s\n",
      "[Parallel(n_jobs=-1)]: Done  20 tasks      | elapsed:   41.3s\n",
      "[Parallel(n_jobs=-1)]: Done  21 tasks      | elapsed:   43.6s\n",
      "[Parallel(n_jobs=-1)]: Done  22 tasks      | elapsed:   45.1s\n",
      "[Parallel(n_jobs=-1)]: Done  23 tasks      | elapsed:   47.2s\n",
      "[Parallel(n_jobs=-1)]: Done  24 tasks      | elapsed:   48.4s\n",
      "[Parallel(n_jobs=-1)]: Done  25 tasks      | elapsed:   50.6s\n",
      "[Parallel(n_jobs=-1)]: Done  26 tasks      | elapsed:   52.5s\n",
      "[Parallel(n_jobs=-1)]: Done  27 tasks      | elapsed:   54.4s\n",
      "[Parallel(n_jobs=-1)]: Done  28 tasks      | elapsed:   55.6s\n",
      "[Parallel(n_jobs=-1)]: Done  29 tasks      | elapsed:   57.7s\n",
      "[Parallel(n_jobs=-1)]: Done  30 tasks      | elapsed:   59.6s\n",
      "[Parallel(n_jobs=-1)]: Done  31 tasks      | elapsed:  1.0min\n",
      "[Parallel(n_jobs=-1)]: Done  32 tasks      | elapsed:  1.0min\n",
      "[Parallel(n_jobs=-1)]: Done  33 tasks      | elapsed:  1.1min\n",
      "[Parallel(n_jobs=-1)]: Done  34 tasks      | elapsed:  1.1min\n",
      "[Parallel(n_jobs=-1)]: Done  35 tasks      | elapsed:  1.1min\n",
      "[Parallel(n_jobs=-1)]: Done  36 tasks      | elapsed:  1.2min\n",
      "[Parallel(n_jobs=-1)]: Done  37 tasks      | elapsed:  1.2min\n",
      "[Parallel(n_jobs=-1)]: Done  38 tasks      | elapsed:  1.2min\n",
      "[Parallel(n_jobs=-1)]: Done  39 tasks      | elapsed:  1.3min\n",
      "[Parallel(n_jobs=-1)]: Done  40 tasks      | elapsed:  1.3min\n",
      "[Parallel(n_jobs=-1)]: Done  41 tasks      | elapsed:  1.3min\n",
      "[Parallel(n_jobs=-1)]: Done  42 tasks      | elapsed:  1.4min\n",
      "[Parallel(n_jobs=-1)]: Done  43 tasks      | elapsed:  1.4min\n",
      "[Parallel(n_jobs=-1)]: Done  44 tasks      | elapsed:  1.4min\n",
      "[Parallel(n_jobs=-1)]: Done  45 tasks      | elapsed:  1.4min\n",
      "[Parallel(n_jobs=-1)]: Done  46 tasks      | elapsed:  1.5min\n",
      "[Parallel(n_jobs=-1)]: Done  47 tasks      | elapsed:  1.5min\n",
      "[Parallel(n_jobs=-1)]: Done  48 tasks      | elapsed:  1.5min\n",
      "[Parallel(n_jobs=-1)]: Done  49 tasks      | elapsed:  1.6min\n",
      "[Parallel(n_jobs=-1)]: Done  50 tasks      | elapsed:  1.6min\n",
      "[Parallel(n_jobs=-1)]: Done  51 tasks      | elapsed:  1.6min\n",
      "[Parallel(n_jobs=-1)]: Done  52 tasks      | elapsed:  1.6min\n",
      "[Parallel(n_jobs=-1)]: Done  53 tasks      | elapsed:  1.7min\n",
      "[Parallel(n_jobs=-1)]: Done  57 out of  60 | elapsed:  1.8min remaining:    5.6s\n",
      "[Parallel(n_jobs=-1)]: Done  60 out of  60 | elapsed:  1.9min finished\n"
     ]
    }
   ],
   "source": [
    "import xgboost as xgb\n",
    "\n",
    "# Doing gridsearch to find best params configuration\n",
    "clf = xgb.XGBClassifier(objective='binary:logistic', eval_metric='error')\n",
    "\n",
    "params = {\n",
    "    'learning_rate': [0.01, 0.03],   # Learning rate alpha\n",
    "    'max_depth': [8, 10, 14],   # maximum depth of the tree\n",
    "    'gamma': [0.5, 1],   # minimum eval_score deduction at each split\n",
    "    'min_child_weight': [6],  # minimum number of datapoints in a split\n",
    "    'subsample': [0.9],  # sample size row-wise during bootstrap\n",
    "    'colsample_bytree': [0.5],  # column-wise sample size\n",
    "    'n_estimators': [1000],   # number of trees to build\n",
    "    }\n",
    "\n",
    "grid = GridSearchCV(clf, params, cv=5, verbose=20, n_jobs=-1, refit=True)\n",
    "\n",
    "grid.fit(X_train[imp_feats], y_train)\n",
    "\n",
    "# CV results\n",
    "cv_result = DataFrame(grid.cv_results_).to_csv('cv_results.csv', index=False)"
   ]
  },
  {
   "cell_type": "code",
   "execution_count": 91,
   "metadata": {},
   "outputs": [
    {
     "name": "stdout",
     "output_type": "stream",
     "text": [
      "0.953852947671\n",
      "XGBClassifier(base_score=0.5, booster='gbtree', colsample_bylevel=1,\n",
      "       colsample_bytree=0.5, eval_metric='error', gamma=1,\n",
      "       learning_rate=0.03, max_delta_step=0, max_depth=14,\n",
      "       min_child_weight=6, missing=None, n_estimators=1000, n_jobs=1,\n",
      "       nthread=None, objective='binary:logistic', random_state=0,\n",
      "       reg_alpha=0, reg_lambda=1, scale_pos_weight=1, seed=None,\n",
      "       silent=True, subsample=0.9)\n"
     ]
    }
   ],
   "source": [
    "print(grid.best_score_)\n",
    "print(grid.best_estimator_)"
   ]
  },
  {
   "cell_type": "code",
   "execution_count": 92,
   "metadata": {},
   "outputs": [
    {
     "name": "stdout",
     "output_type": "stream",
     "text": [
      "MCC: 0.534068121059\n",
      "Acc: 0.948900991071\n",
      "Confusion Matrix\n",
      " [[37414   596]\n",
      " [ 1487  1267]]\n"
     ]
    }
   ],
   "source": [
    "# Testing on X_test\n",
    "pred = grid.predict(X_test[imp_feats])\n",
    "print('MCC:', matthews_corrcoef(y_test, y_pred))\n",
    "print('Acc:', accuracy_score(y_test, y_pred))\n",
    "print('Confusion Matrix\\n', confusion_matrix(y_test, y_pred))"
   ]
  },
  {
   "cell_type": "code",
   "execution_count": 64,
   "metadata": {},
   "outputs": [
    {
     "name": "stdout",
     "output_type": "stream",
     "text": [
      "{'colsample_bytree': 0.5, 'gamma': 1, 'learning_rate': 0.03, 'max_depth': 8, 'min_child_weight': 6, 'n_estimators': 1000, 'subsample': 0.9, 'objective': 'binary:logistic', 'eval_metric': 'error', 'num_class': 2}\n"
     ]
    }
   ],
   "source": [
    "# Using best params to find optimum number of iterations\n",
    "grid_output = grid.best_params_\n",
    "params = {\n",
    "    'objective': 'binary:logistic', \n",
    "    'eval_metric': 'error', \n",
    "    'num_class': 2\n",
    "    }\n",
    "\n",
    "best_params = {**grid_output, **params}\n",
    "#best_params['learning_rate'] = 0.02\n",
    "print(best_params)"
   ]
  },
  {
   "cell_type": "code",
   "execution_count": 66,
   "metadata": {
    "scrolled": true
   },
   "outputs": [
    {
     "ename": "XGBoostError",
     "evalue": "b'[23:27:25] D:\\\\Build\\\\xgboost\\\\xgboost-git\\\\src\\\\objective\\\\regression_obj.cc:101: Check failed: preds.size() == info.labels.size() (7244 vs. 3622) labels are not correctly providedpreds.size=7244, label.size=3622'",
     "output_type": "error",
     "traceback": [
      "\u001b[1;31m---------------------------------------------------------------------------\u001b[0m",
      "\u001b[1;31mXGBoostError\u001b[0m                              Traceback (most recent call last)",
      "\u001b[1;32m<ipython-input-66-d3e9dd9959c0>\u001b[0m in \u001b[0;36m<module>\u001b[1;34m()\u001b[0m\n\u001b[0;32m      2\u001b[0m \u001b[1;33m\u001b[0m\u001b[0m\n\u001b[0;32m      3\u001b[0m cv_results = xgb.cv(best_params, train_xgb, num_boost_round=10000, nfold=5, stratified=True, as_pandas=True, \n\u001b[1;32m----> 4\u001b[1;33m                     seed=1, shuffle=True, early_stopping_rounds=20, verbose_eval=True)\n\u001b[0m",
      "\u001b[1;32mC:\\ProgramData\\Anaconda3\\lib\\site-packages\\xgboost\\training.py\u001b[0m in \u001b[0;36mcv\u001b[1;34m(params, dtrain, num_boost_round, nfold, stratified, folds, metrics, obj, feval, maximize, early_stopping_rounds, fpreproc, as_pandas, verbose_eval, show_stdv, seed, callbacks, shuffle)\u001b[0m\n\u001b[0;32m    404\u001b[0m                            evaluation_result_list=None))\n\u001b[0;32m    405\u001b[0m         \u001b[1;32mfor\u001b[0m \u001b[0mfold\u001b[0m \u001b[1;32min\u001b[0m \u001b[0mcvfolds\u001b[0m\u001b[1;33m:\u001b[0m\u001b[1;33m\u001b[0m\u001b[0m\n\u001b[1;32m--> 406\u001b[1;33m             \u001b[0mfold\u001b[0m\u001b[1;33m.\u001b[0m\u001b[0mupdate\u001b[0m\u001b[1;33m(\u001b[0m\u001b[0mi\u001b[0m\u001b[1;33m,\u001b[0m \u001b[0mobj\u001b[0m\u001b[1;33m)\u001b[0m\u001b[1;33m\u001b[0m\u001b[0m\n\u001b[0m\u001b[0;32m    407\u001b[0m         \u001b[0mres\u001b[0m \u001b[1;33m=\u001b[0m \u001b[0maggcv\u001b[0m\u001b[1;33m(\u001b[0m\u001b[1;33m[\u001b[0m\u001b[0mf\u001b[0m\u001b[1;33m.\u001b[0m\u001b[0meval\u001b[0m\u001b[1;33m(\u001b[0m\u001b[0mi\u001b[0m\u001b[1;33m,\u001b[0m \u001b[0mfeval\u001b[0m\u001b[1;33m)\u001b[0m \u001b[1;32mfor\u001b[0m \u001b[0mf\u001b[0m \u001b[1;32min\u001b[0m \u001b[0mcvfolds\u001b[0m\u001b[1;33m]\u001b[0m\u001b[1;33m)\u001b[0m\u001b[1;33m\u001b[0m\u001b[0m\n\u001b[0;32m    408\u001b[0m \u001b[1;33m\u001b[0m\u001b[0m\n",
      "\u001b[1;32mC:\\ProgramData\\Anaconda3\\lib\\site-packages\\xgboost\\training.py\u001b[0m in \u001b[0;36mupdate\u001b[1;34m(self, iteration, fobj)\u001b[0m\n\u001b[0;32m    216\u001b[0m     \u001b[1;32mdef\u001b[0m \u001b[0mupdate\u001b[0m\u001b[1;33m(\u001b[0m\u001b[0mself\u001b[0m\u001b[1;33m,\u001b[0m \u001b[0miteration\u001b[0m\u001b[1;33m,\u001b[0m \u001b[0mfobj\u001b[0m\u001b[1;33m)\u001b[0m\u001b[1;33m:\u001b[0m\u001b[1;33m\u001b[0m\u001b[0m\n\u001b[0;32m    217\u001b[0m         \u001b[1;34m\"\"\"\"Update the boosters for one iteration\"\"\"\u001b[0m\u001b[1;33m\u001b[0m\u001b[0m\n\u001b[1;32m--> 218\u001b[1;33m         \u001b[0mself\u001b[0m\u001b[1;33m.\u001b[0m\u001b[0mbst\u001b[0m\u001b[1;33m.\u001b[0m\u001b[0mupdate\u001b[0m\u001b[1;33m(\u001b[0m\u001b[0mself\u001b[0m\u001b[1;33m.\u001b[0m\u001b[0mdtrain\u001b[0m\u001b[1;33m,\u001b[0m \u001b[0miteration\u001b[0m\u001b[1;33m,\u001b[0m \u001b[0mfobj\u001b[0m\u001b[1;33m)\u001b[0m\u001b[1;33m\u001b[0m\u001b[0m\n\u001b[0m\u001b[0;32m    219\u001b[0m \u001b[1;33m\u001b[0m\u001b[0m\n\u001b[0;32m    220\u001b[0m     \u001b[1;32mdef\u001b[0m \u001b[0meval\u001b[0m\u001b[1;33m(\u001b[0m\u001b[0mself\u001b[0m\u001b[1;33m,\u001b[0m \u001b[0miteration\u001b[0m\u001b[1;33m,\u001b[0m \u001b[0mfeval\u001b[0m\u001b[1;33m)\u001b[0m\u001b[1;33m:\u001b[0m\u001b[1;33m\u001b[0m\u001b[0m\n",
      "\u001b[1;32mC:\\ProgramData\\Anaconda3\\lib\\site-packages\\xgboost\\core.py\u001b[0m in \u001b[0;36mupdate\u001b[1;34m(self, dtrain, iteration, fobj)\u001b[0m\n\u001b[0;32m    896\u001b[0m         \u001b[1;32mif\u001b[0m \u001b[0mfobj\u001b[0m \u001b[1;32mis\u001b[0m \u001b[1;32mNone\u001b[0m\u001b[1;33m:\u001b[0m\u001b[1;33m\u001b[0m\u001b[0m\n\u001b[0;32m    897\u001b[0m             _check_call(_LIB.XGBoosterUpdateOneIter(self.handle, ctypes.c_int(iteration),\n\u001b[1;32m--> 898\u001b[1;33m                                                     dtrain.handle))\n\u001b[0m\u001b[0;32m    899\u001b[0m         \u001b[1;32melse\u001b[0m\u001b[1;33m:\u001b[0m\u001b[1;33m\u001b[0m\u001b[0m\n\u001b[0;32m    900\u001b[0m             \u001b[0mpred\u001b[0m \u001b[1;33m=\u001b[0m \u001b[0mself\u001b[0m\u001b[1;33m.\u001b[0m\u001b[0mpredict\u001b[0m\u001b[1;33m(\u001b[0m\u001b[0mdtrain\u001b[0m\u001b[1;33m)\u001b[0m\u001b[1;33m\u001b[0m\u001b[0m\n",
      "\u001b[1;32mC:\\ProgramData\\Anaconda3\\lib\\site-packages\\xgboost\\core.py\u001b[0m in \u001b[0;36m_check_call\u001b[1;34m(ret)\u001b[0m\n\u001b[0;32m    128\u001b[0m     \"\"\"\n\u001b[0;32m    129\u001b[0m     \u001b[1;32mif\u001b[0m \u001b[0mret\u001b[0m \u001b[1;33m!=\u001b[0m \u001b[1;36m0\u001b[0m\u001b[1;33m:\u001b[0m\u001b[1;33m\u001b[0m\u001b[0m\n\u001b[1;32m--> 130\u001b[1;33m         \u001b[1;32mraise\u001b[0m \u001b[0mXGBoostError\u001b[0m\u001b[1;33m(\u001b[0m\u001b[0m_LIB\u001b[0m\u001b[1;33m.\u001b[0m\u001b[0mXGBGetLastError\u001b[0m\u001b[1;33m(\u001b[0m\u001b[1;33m)\u001b[0m\u001b[1;33m)\u001b[0m\u001b[1;33m\u001b[0m\u001b[0m\n\u001b[0m\u001b[0;32m    131\u001b[0m \u001b[1;33m\u001b[0m\u001b[0m\n\u001b[0;32m    132\u001b[0m \u001b[1;33m\u001b[0m\u001b[0m\n",
      "\u001b[1;31mXGBoostError\u001b[0m: b'[23:27:25] D:\\\\Build\\\\xgboost\\\\xgboost-git\\\\src\\\\objective\\\\regression_obj.cc:101: Check failed: preds.size() == info.labels.size() (7244 vs. 3622) labels are not correctly providedpreds.size=7244, label.size=3622'"
     ]
    }
   ],
   "source": [
    "train_xgb = xgb.DMatrix(X_train[imp_feats], y_train)\n",
    "\n",
    "cv_results = xgb.cv(best_params, train_xgb, num_boost_round=10000, nfold=5, stratified=True, as_pandas=True, \n",
    "                    seed=1, shuffle=True, early_stopping_rounds=20, verbose_eval=True)"
   ]
  },
  {
   "cell_type": "code",
   "execution_count": null,
   "metadata": {
    "collapsed": true
   },
   "outputs": [],
   "source": [
    "nround = cv_results.shape[0]  # Where the best iteration happened\n",
    "print('Best Iteration:', nround)\n",
    "xgb_clf = xgb.train(best_params, train_xgb, num_boost_round=nround, verbose_eval=True)\n",
    "\n",
    "# Predicting on the test set\n",
    "test_xgb  = xgb.DMatrix(test_xgb_org)\n",
    "test_pred = xgb_clf.predict(test_xgb)\n",
    "Class_1, Class_2, Class_3, Class_4, Class_5, Class_6, Class_7, Class_8, Class_9 = map(list, zip(*test_pred))\n",
    "output = DataFrame({'id': test['id'],\n",
    "                    'Class_1': Class_1, \n",
    "                    'Class_2': Class_2, \n",
    "                    'Class_3': Class_3, \n",
    "                    'Class_4': Class_4, \n",
    "                    'Class_5': Class_5, \n",
    "                    'Class_6': Class_6, \n",
    "                    'Class_7': Class_7, \n",
    "                    'Class_8': Class_8, \n",
    "                    'Class_9': Class_9})\n",
    "output = output[['id', 'Class_1', 'Class_2', 'Class_3', 'Class_4', 'Class_5', 'Class_6', 'Class_7', 'Class_8', 'Class_9']]\n",
    "\n",
    "output.to_csv('output.csv', index=False)\n",
    "output.head(2)"
   ]
  },
  {
   "cell_type": "code",
   "execution_count": null,
   "metadata": {
    "collapsed": true
   },
   "outputs": [],
   "source": []
  },
  {
   "cell_type": "code",
   "execution_count": null,
   "metadata": {
    "collapsed": true
   },
   "outputs": [],
   "source": []
  },
  {
   "cell_type": "code",
   "execution_count": null,
   "metadata": {
    "collapsed": true
   },
   "outputs": [],
   "source": []
  },
  {
   "cell_type": "code",
   "execution_count": null,
   "metadata": {
    "collapsed": true
   },
   "outputs": [],
   "source": []
  },
  {
   "cell_type": "code",
   "execution_count": null,
   "metadata": {
    "collapsed": true
   },
   "outputs": [],
   "source": []
  }
 ],
 "metadata": {
  "anaconda-cloud": {},
  "kernelspec": {
   "display_name": "Python 3",
   "language": "python",
   "name": "python3"
  },
  "language_info": {
   "codemirror_mode": {
    "name": "ipython",
    "version": 3
   },
   "file_extension": ".py",
   "mimetype": "text/x-python",
   "name": "python",
   "nbconvert_exporter": "python",
   "pygments_lexer": "ipython3",
   "version": "3.6.3"
  }
 },
 "nbformat": 4,
 "nbformat_minor": 1
}
