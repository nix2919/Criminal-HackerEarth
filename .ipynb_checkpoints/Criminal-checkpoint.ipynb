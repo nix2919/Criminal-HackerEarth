{
 "cells": [
  {
   "cell_type": "code",
   "execution_count": 25,
   "metadata": {
    "collapsed": true
   },
   "outputs": [],
   "source": [
    "%matplotlib inline\n",
    "from pandas import read_csv, DataFrame, get_dummies, Series\n",
    "from numpy import nanmean\n",
    "import matplotlib.pyplot as plt\n",
    "from multiprocessing import Pool, cpu_count\n",
    "from functools import partial\n",
    "from scipy import stats\n",
    "from sklearn.preprocessing import normalize\n",
    "from sklearn.svm import SVC\n",
    "from sklearn.naive_bayes import GaussianNB\n",
    "from sklearn.ensemble import ExtraTreesClassifier, RandomForestClassifier\n",
    "from sklearn.ensemble import AdaBoostClassifier, GradientBoostingClassifier\n",
    "from sklearn.neighbors import KNeighborsClassifier\n",
    "# from boruta import BorutaPy\n",
    "from random import sample\n",
    "from sklearn.pipeline import Pipeline\n",
    "from sklearn.metrics import accuracy_score, matthews_corrcoef, roc_auc_score, confusion_matrix\n",
    "from sklearn.metrics import make_scorer\n",
    "from sklearn.model_selection import train_test_split, GridSearchCV\n",
    "from sklearn.feature_selection import RFE, SelectFromModel, SelectKBest, VarianceThreshold\n",
    "from sklearn.feature_selection import SelectFpr, chi2, mutual_info_classif"
   ]
  },
  {
   "cell_type": "code",
   "execution_count": 26,
   "metadata": {
    "collapsed": true
   },
   "outputs": [],
   "source": [
    "from warnings import simplefilter\n",
    "simplefilter(\"ignore\")"
   ]
  },
  {
   "cell_type": "code",
   "execution_count": 27,
   "metadata": {},
   "outputs": [
    {
     "name": "stdout",
     "output_type": "stream",
     "text": [
      "      PERID  IFATHER  NRCH17_2  IRHHSIZ2  IIHHSIZ2  IRKI17_2  IIKI17_2  \\\n",
      "0  25095143      4.0       2.0       4.0       1.0       3.0       1.0   \n",
      "1  13005143      4.0       1.0       3.0       1.0       2.0       1.0   \n",
      "\n",
      "   IRHH65_2  IIHH65_2  PRXRETRY    ...     TOOLONG  TROUBUND  PDEN10  COUTYP2  \\\n",
      "0       1.0       1.0      99.0    ...         1.0       2.0     1.0      1.0   \n",
      "1       1.0       1.0      99.0    ...         2.0       2.0     2.0      3.0   \n",
      "\n",
      "   MAIIN102  AIIND102     ANALWT_C    VESTR  VEREP  Criminal  \n",
      "0       2.0       2.0  3884.805998  40026.0    1.0         0  \n",
      "1       2.0       2.0  1627.108106  40015.0    2.0         1  \n",
      "\n",
      "[2 rows x 72 columns]\n"
     ]
    }
   ],
   "source": [
    "# Train data\n",
    "train = read_csv('train.csv', na_values=-1)\n",
    "print(train.head(2))"
   ]
  },
  {
   "cell_type": "code",
   "execution_count": 28,
   "metadata": {
    "scrolled": true
   },
   "outputs": [
    {
     "data": {
      "text/plain": [
       "array(['IFATHER', 'NRCH17_2', 'IRHHSIZ2', 'IIHHSIZ2', 'IRKI17_2',\n",
       "       'IIKI17_2', 'IRHH65_2', 'IIHH65_2', 'PRXRETRY', 'PRXYDATA',\n",
       "       'MEDICARE', 'CAIDCHIP', 'CHAMPUS', 'PRVHLTIN', 'GRPHLTIN',\n",
       "       'HLTINNOS', 'HLCNOTYR', 'HLCNOTMO', 'HLCLAST', 'HLLOSRSN',\n",
       "       'HLNVCOST', 'HLNVOFFR', 'HLNVREF', 'HLNVNEED', 'HLNVSOR',\n",
       "       'IRMCDCHP', 'IIMCDCHP', 'IRMEDICR', 'IIMEDICR', 'IRCHMPUS',\n",
       "       'IICHMPUS', 'IRPRVHLT', 'IIPRVHLT', 'IROTHHLT', 'IIOTHHLT',\n",
       "       'HLCALLFG', 'HLCALL99', 'ANYHLTI2', 'IRINSUR4', 'IIINSUR4',\n",
       "       'OTHINS', 'CELLNOTCL', 'CELLWRKNG', 'IRFAMSOC', 'IIFAMSOC',\n",
       "       'IRFAMSSI', 'IIFAMSSI', 'IRFSTAMP', 'IIFSTAMP', 'IRFAMPMT',\n",
       "       'IIFAMPMT', 'IRFAMSVC', 'IIFAMSVC', 'IRWELMOS', 'IIWELMOS',\n",
       "       'IRPINC3', 'IRFAMIN3', 'IIPINC3', 'IIFAMIN3', 'GOVTPROG',\n",
       "       'POVERTY3', 'TOOLONG', 'TROUBUND', 'PDEN10', 'COUTYP2', 'MAIIN102',\n",
       "       'AIIND102', 'ANALWT_C', 'VESTR', 'VEREP', 'Criminal'], dtype=object)"
      ]
     },
     "execution_count": 28,
     "metadata": {},
     "output_type": "execute_result"
    }
   ],
   "source": [
    "train.drop('PERID', axis=1, inplace=True)\n",
    "from numpy import inf, nan\n",
    "train = train.replace([inf, -inf], nan).dropna()\n",
    "train.columns.values"
   ]
  },
  {
   "cell_type": "code",
   "execution_count": null,
   "metadata": {
    "collapsed": true
   },
   "outputs": [],
   "source": []
  },
  {
   "cell_type": "code",
   "execution_count": null,
   "metadata": {
    "collapsed": true,
    "scrolled": true
   },
   "outputs": [],
   "source": []
  },
  {
   "cell_type": "code",
   "execution_count": null,
   "metadata": {
    "collapsed": true
   },
   "outputs": [],
   "source": []
  },
  {
   "cell_type": "code",
   "execution_count": null,
   "metadata": {
    "collapsed": true
   },
   "outputs": [],
   "source": []
  },
  {
   "cell_type": "code",
   "execution_count": null,
   "metadata": {
    "collapsed": true
   },
   "outputs": [],
   "source": []
  },
  {
   "cell_type": "code",
   "execution_count": null,
   "metadata": {
    "collapsed": true
   },
   "outputs": [],
   "source": []
  },
  {
   "cell_type": "code",
   "execution_count": null,
   "metadata": {
    "collapsed": true
   },
   "outputs": [],
   "source": [
    "# Normalization of Train and Test\n",
    "cols = list(X.columns.values)\n",
    "\n",
    "# Train\n",
    "X = DataFrame(normalize(X))\n",
    "X.columns = cols\n",
    "X.head(2)\n",
    "\n",
    "# Test\n",
    "test_xgb_org = DataFrame(normalize(test_xgb_org))\n",
    "test_xgb_org.columns = cols\n",
    "test_xgb_org.head(2)"
   ]
  },
  {
   "cell_type": "markdown",
   "metadata": {},
   "source": [
    "# Data Exploration and prepocessing"
   ]
  },
  {
   "cell_type": "code",
   "execution_count": 29,
   "metadata": {
    "scrolled": true
   },
   "outputs": [
    {
     "name": "stdout",
     "output_type": "stream",
     "text": [
      "Target Class\n",
      " 0    42233\n",
      "1     3060\n",
      "Name: Criminal, dtype: int64\n",
      "\n",
      "Number of unique values in each column\n",
      "\n",
      " IFATHER\n",
      "      Overall  Criminal\n",
      "4.0  0.760758  0.653922\n",
      "1.0  0.171726  0.200000\n",
      "2.0  0.067339  0.145425\n",
      "3.0  0.000177  0.000654\n",
      "\n",
      " NRCH17_2\n",
      "      Overall  Criminal\n",
      "0.0  0.731548  0.889869\n",
      "1.0  0.110370  0.051634\n",
      "2.0  0.101804  0.037582\n",
      "3.0  0.056278  0.020915\n",
      "\n",
      " IRHHSIZ2\n",
      "      Overall  Criminal\n",
      "1.0  0.078489  0.139869\n",
      "2.0  0.222639  0.267974\n",
      "3.0  0.223147  0.217320\n",
      "4.0  0.239309  0.191503\n",
      "5.0  0.136003  0.101634\n",
      "6.0  0.100413  0.081699\n",
      "\n",
      " IIHHSIZ2\n",
      "     Overall  Criminal\n",
      "1.0      1.0       1.0\n",
      "\n",
      " IRKI17_2\n",
      "      Overall  Criminal\n",
      "1.0  0.417084  0.494771\n",
      "2.0  0.223015  0.191176\n",
      "3.0  0.210695  0.176797\n",
      "4.0  0.149206  0.137255\n",
      "\n",
      " IIKI17_2\n",
      "      Overall  Criminal\n",
      "1.0  0.997726  0.997712\n",
      "3.0  0.002274  0.002288\n",
      "\n",
      " IRHH65_2\n",
      "      Overall  Criminal\n",
      "1.0  0.878193  0.741503\n",
      "2.0  0.079725  0.149346\n",
      "3.0  0.042082  0.109150\n",
      "\n",
      " IIHH65_2\n",
      "      Overall  Criminal\n",
      "1.0  0.995474  0.995425\n",
      "3.0  0.004018  0.004248\n",
      "2.0  0.000508  0.000327\n",
      "\n",
      " PRXRETRY\n",
      "       Overall  Criminal\n",
      "2.0   0.016603  0.014706\n",
      "94.0  0.000707  0.000654\n",
      "97.0  0.000110       NaN\n",
      "98.0  0.000221  0.000654\n",
      "99.0  0.982359  0.983987\n",
      "\n",
      " PRXYDATA\n",
      "       Overall  Criminal\n",
      "1.0   0.288676  0.363399\n",
      "2.0   0.000839  0.000654\n",
      "94.0  0.000707  0.000654\n",
      "97.0  0.000066       NaN\n",
      "98.0  0.000221  0.000654\n",
      "99.0  0.709492  0.634641\n",
      "\n",
      " MEDICARE\n",
      "       Overall  Criminal\n",
      "2.0   0.912106  0.750327\n",
      "1.0   0.083567  0.236601\n",
      "94.0  0.003466  0.010131\n",
      "97.0  0.000773  0.002288\n",
      "85.0  0.000088  0.000654\n",
      "\n",
      " CAIDCHIP\n",
      "       Overall  Criminal\n",
      "1.0   0.225377  0.092484\n",
      "2.0   0.765659  0.882353\n",
      "85.0  0.001126  0.001307\n",
      "94.0  0.006911  0.020588\n",
      "97.0  0.000927  0.003268\n",
      "\n",
      " CHAMPUS\n",
      "       Overall  Criminal\n",
      "2.0   0.959817  0.962418\n",
      "1.0   0.037931  0.028105\n",
      "94.0  0.001590  0.006863\n",
      "97.0  0.000574  0.001961\n",
      "85.0  0.000088  0.000654\n",
      "\n",
      " PRVHLTIN\n",
      "       Overall  Criminal\n",
      "1.0   0.607644  0.962418\n",
      "2.0   0.385932       NaN\n",
      "85.0  0.000088  0.000654\n",
      "94.0  0.005431  0.033007\n",
      "97.0  0.000905  0.003922\n",
      "\n",
      " GRPHLTIN\n",
      "       Overall  Criminal\n",
      "1.0   0.535712  0.731373\n",
      "2.0   0.070386  0.224183\n",
      "85.0  0.000066  0.000327\n",
      "94.0  0.001523  0.006536\n",
      "97.0  0.000927  0.004248\n",
      "98.0  0.005453  0.033333\n",
      "99.0  0.385932       NaN\n",
      "\n",
      " HLTINNOS\n",
      "       Overall  Criminal\n",
      "1.0   0.031175       NaN\n",
      "2.0   0.102179       NaN\n",
      "94.0  0.000486       NaN\n",
      "97.0  0.000132       NaN\n",
      "99.0  0.866028       1.0\n",
      "\n",
      " HLCNOTYR\n",
      "       Overall  Criminal\n",
      "1.0   0.071777  0.054575\n",
      "2.0   0.815402  0.914706\n",
      "85.0  0.000464  0.000654\n",
      "94.0  0.001943  0.004902\n",
      "97.0  0.001170  0.003595\n",
      "98.0  0.007065  0.021569\n",
      "99.0  0.102179       NaN\n",
      "\n",
      " HLCLAST\n",
      "       Overall  Criminal\n",
      "1.0   0.019208       NaN\n",
      "2.0   0.012320       NaN\n",
      "3.0   0.021063       NaN\n",
      "4.0   0.028967       NaN\n",
      "5.0   0.019849       NaN\n",
      "94.0  0.000729       NaN\n",
      "97.0  0.001192  0.003268\n",
      "98.0  0.007529  0.022222\n",
      "99.0  0.889144  0.974510\n",
      "\n",
      " HLNVCOST\n",
      "       Overall  Criminal\n",
      "1.0   0.009913       NaN\n",
      "6.0   0.009869       NaN\n",
      "94.0  0.000066       NaN\n",
      "97.0  0.001148  0.003268\n",
      "98.0  0.007750  0.022222\n",
      "99.0  0.971254  0.974510\n",
      "\n",
      " HLNVOFFR\n",
      "       Overall  Criminal\n",
      "1.0   0.002914       NaN\n",
      "6.0   0.016868       NaN\n",
      "94.0  0.000066       NaN\n",
      "97.0  0.001148  0.003268\n",
      "98.0  0.007750  0.022222\n",
      "99.0  0.971254  0.974510\n",
      "\n",
      " HLNVREF\n",
      "       Overall  Criminal\n",
      "1.0   0.000596       NaN\n",
      "6.0   0.019186       NaN\n",
      "94.0  0.000066       NaN\n",
      "97.0  0.001148  0.003268\n",
      "98.0  0.007750  0.022222\n",
      "99.0  0.971254  0.974510\n",
      "\n",
      " HLNVNEED\n",
      "       Overall  Criminal\n",
      "1.0   0.003974       NaN\n",
      "6.0   0.015808       NaN\n",
      "94.0  0.000066       NaN\n",
      "97.0  0.001148  0.003268\n",
      "98.0  0.007750  0.022222\n",
      "99.0  0.971254  0.974510\n",
      "\n",
      " HLNVSOR\n",
      "       Overall  Criminal\n",
      "1.0   0.002936       NaN\n",
      "6.0   0.016846       NaN\n",
      "94.0  0.000066       NaN\n",
      "97.0  0.001148  0.003268\n",
      "98.0  0.007750  0.022222\n",
      "99.0  0.971254  0.974510\n",
      "\n",
      " IRMCDCHP\n",
      "     Overall  Criminal\n",
      "2.0  0.77151  0.895425\n",
      "1.0  0.22849  0.104575\n",
      "\n",
      " IIMCDCHP\n",
      "      Overall  Criminal\n",
      "1.0  0.991036  0.974837\n",
      "3.0  0.008964  0.025163\n",
      "\n",
      " IRMEDICR\n",
      "      Overall  Criminal\n",
      "2.0  0.916256  0.762745\n",
      "1.0  0.083744  0.237255\n",
      "\n",
      " IIMEDICR\n",
      "      Overall  Criminal\n",
      "1.0  0.995673  0.986928\n",
      "3.0  0.004327  0.013072\n",
      "\n",
      " IRCHMPUS\n",
      "      Overall  Criminal\n",
      "2.0  0.962025  0.971895\n",
      "1.0  0.037975  0.028105\n",
      "\n",
      " IICHMPUS\n",
      "      Overall  Criminal\n",
      "1.0  0.997748  0.990523\n",
      "3.0  0.002252  0.009477\n",
      "\n",
      " IRPRVHLT\n",
      "      Overall  Criminal\n",
      "1.0  0.611044  0.977778\n",
      "2.0  0.388956  0.022222\n",
      "\n",
      " IIPRVHLT\n",
      "      Overall  Criminal\n",
      "1.0  0.993575  0.962418\n",
      "3.0  0.006425  0.037582\n",
      "\n",
      " IROTHHLT\n",
      "       Overall  Criminal\n",
      "99.0  0.863489  0.994444\n",
      "2.0   0.104564  0.004575\n",
      "1.0   0.031948  0.000980\n",
      "\n",
      " IIOTHHLT\n",
      "      Overall  Criminal\n",
      "1.0  0.133354       NaN\n",
      "3.0  0.008677   0.02549\n",
      "9.0  0.857969   0.97451\n",
      "\n",
      " HLCALLFG\n",
      "       Overall  Criminal\n",
      "98.0  0.999801  0.997712\n",
      "1.0   0.000199  0.002288\n",
      "\n",
      " HLCALL99\n",
      "       Overall  Criminal\n",
      "98.0  0.999801  0.997712\n",
      "1.0   0.000199  0.002288\n",
      "\n",
      " ANYHLTI2\n",
      "       Overall  Criminal\n",
      "1.0   0.889144  0.974510\n",
      "2.0   0.102179       NaN\n",
      "94.0  0.007043  0.021569\n",
      "97.0  0.001148  0.003268\n",
      "98.0  0.000486  0.000654\n",
      "\n",
      " IRINSUR4\n",
      "      Overall  Criminal\n",
      "1.0  0.895436  0.995425\n",
      "2.0  0.104564  0.004575\n",
      "\n",
      " IIINSUR4\n",
      "      Overall  Criminal\n",
      "1.0  0.991323   0.97451\n",
      "3.0  0.008677   0.02549\n",
      "\n",
      " OTHINS\n",
      "     Overall  Criminal\n",
      "2.0   0.8549  0.749673\n",
      "1.0   0.1451  0.250327\n",
      "\n",
      " CELLNOTCL\n",
      "       Overall  Criminal\n",
      "1.0   0.433312  0.477451\n",
      "2.0   0.565385  0.520588\n",
      "85.0  0.000110  0.000654\n",
      "94.0  0.000442  0.000327\n",
      "97.0  0.000640  0.000980\n",
      "98.0  0.000110       NaN\n",
      "\n",
      " CELLWRKNG\n",
      "       Overall  Criminal\n",
      "1.0   0.977016  0.952614\n",
      "2.0   0.022255  0.045425\n",
      "85.0  0.000110  0.000654\n",
      "94.0  0.000110  0.000327\n",
      "97.0  0.000397  0.000980\n",
      "98.0  0.000110       NaN\n",
      "\n",
      " IRFAMSOC\n",
      "      Overall  Criminal\n",
      "2.0  0.836796  0.677778\n",
      "1.0  0.163204  0.322222\n",
      "\n",
      " IIFAMSOC\n",
      "      Overall  Criminal\n",
      "1.0  0.991213  0.982026\n",
      "3.0  0.008787  0.017974\n",
      "\n",
      " IRFAMSSI\n",
      "      Overall  Criminal\n",
      "2.0  0.931446  0.926471\n",
      "1.0  0.068554  0.073529\n",
      "\n",
      " IIFAMSSI\n",
      "      Overall  Criminal\n",
      "1.0  0.991058  0.977778\n",
      "3.0  0.008942  0.022222\n",
      "\n",
      " IRFSTAMP\n",
      "      Overall  Criminal\n",
      "2.0  0.798931  0.807516\n",
      "1.0  0.201069  0.192484\n",
      "\n",
      " IIFSTAMP\n",
      "      Overall  Criminal\n",
      "1.0  0.995584  0.989869\n",
      "3.0  0.004416  0.010131\n",
      "\n",
      " IRFAMPMT\n",
      "      Overall  Criminal\n",
      "2.0  0.973197  0.975163\n",
      "1.0  0.026803  0.024837\n",
      "\n",
      " IIFAMPMT\n",
      "      Overall  Criminal\n",
      "1.0  0.993134   0.98268\n",
      "3.0  0.006866   0.01732\n",
      "\n",
      " IRFAMSVC\n",
      "      Overall  Criminal\n",
      "2.0  0.963858  0.962418\n",
      "1.0  0.036142  0.037582\n",
      "\n",
      " IIFAMSVC\n",
      "      Overall  Criminal\n",
      "1.0  0.994922  0.985621\n",
      "3.0  0.005078  0.014379\n",
      "\n",
      " IIWELMOS\n",
      "      Overall  Criminal\n",
      "9.0  0.938379  0.927124\n",
      "1.0  0.052149  0.050000\n",
      "3.0  0.009472  0.022876\n",
      "\n",
      " IRPINC3\n",
      "      Overall  Criminal\n",
      "1.0  0.468549  0.632026\n",
      "2.0  0.157132  0.181046\n",
      "3.0  0.099773  0.102941\n",
      "4.0  0.072506  0.053922\n",
      "5.0  0.058817  0.030065\n",
      "6.0  0.073102       NaN\n",
      "7.0  0.070121       NaN\n",
      "\n",
      " IRFAMIN3\n",
      "      Overall  Criminal\n",
      "1.0  0.082551  0.128431\n",
      "2.0  0.122248  0.166013\n",
      "3.0  0.110790  0.211765\n",
      "4.0  0.105248  0.240523\n",
      "5.0  0.099508  0.253268\n",
      "6.0  0.157022       NaN\n",
      "7.0  0.322633       NaN\n",
      "\n",
      " IIPINC3\n",
      "      Overall  Criminal\n",
      "1.0  0.969907  0.950654\n",
      "3.0  0.030093  0.049346\n",
      "\n",
      " IIFAMIN3\n",
      "      Overall  Criminal\n",
      "1.0  0.903385  0.860458\n",
      "3.0  0.096615  0.139542\n",
      "\n",
      " GOVTPROG\n",
      "      Overall  Criminal\n",
      "2.0  0.761332  0.757843\n",
      "1.0  0.238668  0.242157\n",
      "\n",
      " POVERTY3\n",
      "      Overall  Criminal\n",
      "1.0  0.205551   0.27451\n",
      "2.0  0.225289   0.47451\n",
      "3.0  0.569161   0.25098\n",
      "\n",
      " TOOLONG\n",
      "       Overall  Criminal\n",
      "2.0   0.924779  0.899673\n",
      "1.0   0.072594  0.097059\n",
      "98.0  0.002627  0.003268\n",
      "\n",
      " TROUBUND\n",
      "       Overall  Criminal\n",
      "2.0   0.940388  0.917320\n",
      "1.0   0.056985  0.079412\n",
      "98.0  0.002627  0.003268\n",
      "\n",
      " PDEN10\n",
      "      Overall  Criminal\n",
      "2.0  0.490584  0.538889\n",
      "1.0  0.432142  0.369608\n",
      "3.0  0.077275  0.091503\n",
      "\n",
      " COUTYP2\n",
      "      Overall  Criminal\n",
      "1.0  0.443976  0.383987\n",
      "2.0  0.348509  0.375817\n",
      "3.0  0.207516  0.240196\n",
      "\n",
      " MAIIN102\n",
      "      Overall  Criminal\n",
      "2.0  0.978915  0.979739\n",
      "1.0  0.021085  0.020261\n",
      "\n",
      " AIIND102\n",
      "      Overall  Criminal\n",
      "2.0  0.978716  0.979085\n",
      "1.0  0.021284  0.020915\n",
      "\n",
      " VEREP\n",
      "      Overall  Criminal\n",
      "1.0  0.506414  0.519608\n",
      "2.0  0.493586  0.480392\n",
      "\n",
      " Criminal\n",
      "   Overall  Criminal\n",
      "0  0.93244       NaN\n",
      "1  0.06756       1.0\n"
     ]
    }
   ],
   "source": [
    "# Class imbalance\n",
    "print('Target Class\\n', train['Criminal'].value_counts())\n",
    "cols = train.columns.values\n",
    "\n",
    "# Number of unique values\n",
    "print('\\nNumber of unique values in each column')\n",
    "overall = train.shape[0]\n",
    "train_criminal = train[train['Criminal']==1]\n",
    "criminal = train_criminal.shape[0]\n",
    "for col in cols:\n",
    "    if len(train[col].unique()) > 10:\n",
    "        continue\n",
    "    print('\\n', col)\n",
    "    temp = DataFrame({'Overall': train[col].value_counts() / overall,\n",
    "                      'Criminal': train_criminal[col].value_counts() / criminal})\n",
    "    print(temp[['Overall', 'Criminal']])"
   ]
  },
  {
   "cell_type": "code",
   "execution_count": 30,
   "metadata": {
    "collapsed": true
   },
   "outputs": [],
   "source": [
    "# Separate numerical and categorical columns\n",
    "target = ['Criminal']\n",
    "num_cols = ['NRCH17_2', 'IRHHSIZ2', 'IRKI17_2', 'IRHH65_2', 'HLCNOTMO', 'HLCLAST', 'IRWELMOS', 'ANALWT_C']\n",
    "cat_cols = [col for col in train.columns.values if col not in (num_cols + target)]"
   ]
  },
  {
   "cell_type": "code",
   "execution_count": 31,
   "metadata": {},
   "outputs": [
    {
     "name": "stdout",
     "output_type": "stream",
     "text": [
      "71 8 62\n"
     ]
    }
   ],
   "source": [
    "print(len(train.columns.values), len(num_cols), len(cat_cols))"
   ]
  },
  {
   "cell_type": "code",
   "execution_count": 32,
   "metadata": {
    "scrolled": true
   },
   "outputs": [
    {
     "name": "stdout",
     "output_type": "stream",
     "text": [
      "IFATHER\n",
      "IIHHSIZ2\n",
      "IIKI17_2\n",
      "IIHH65_2\n",
      "PRXRETRY\n",
      "PRXYDATA\n",
      "MEDICARE\n",
      "CAIDCHIP\n",
      "CHAMPUS\n",
      "PRVHLTIN\n",
      "GRPHLTIN\n",
      "HLTINNOS\n",
      "HLCNOTYR\n",
      "HLLOSRSN\n",
      "HLNVCOST\n",
      "HLNVOFFR\n",
      "HLNVREF\n",
      "HLNVNEED\n",
      "HLNVSOR\n",
      "IRMCDCHP\n",
      "IIMCDCHP\n",
      "IRMEDICR\n",
      "IIMEDICR\n",
      "IRCHMPUS\n",
      "IICHMPUS\n",
      "IRPRVHLT\n",
      "IIPRVHLT\n",
      "IROTHHLT\n",
      "IIOTHHLT\n",
      "HLCALLFG\n",
      "HLCALL99\n",
      "ANYHLTI2\n",
      "IRINSUR4\n",
      "IIINSUR4\n",
      "OTHINS\n",
      "CELLNOTCL\n",
      "CELLWRKNG\n",
      "IRFAMSOC\n",
      "IIFAMSOC\n",
      "IRFAMSSI\n",
      "IIFAMSSI\n",
      "IRFSTAMP\n",
      "IIFSTAMP\n",
      "IRFAMPMT\n",
      "IIFAMPMT\n",
      "IRFAMSVC\n",
      "IIFAMSVC\n",
      "IIWELMOS\n",
      "IRPINC3\n",
      "IRFAMIN3\n",
      "IIPINC3\n",
      "IIFAMIN3\n",
      "GOVTPROG\n",
      "POVERTY3\n",
      "TOOLONG\n",
      "TROUBUND\n",
      "PDEN10\n",
      "COUTYP2\n",
      "MAIIN102\n",
      "AIIND102\n",
      "VESTR\n",
      "VEREP\n"
     ]
    }
   ],
   "source": [
    "# Converting to categorical and one hot encoding\n",
    "for col in cat_cols:\n",
    "    train[col] = train[col].astype('category',copy=False)\n",
    "    temp = get_dummies(train[col])\n",
    "    temp.columns = [col+'_'+str(i) for i in temp.columns]\n",
    "    train = train.join(temp)\n",
    "    train = train.drop(col,axis=1)\n",
    "    print(col)"
   ]
  },
  {
   "cell_type": "code",
   "execution_count": 33,
   "metadata": {},
   "outputs": [
    {
     "data": {
      "text/html": [
       "<div>\n",
       "<style>\n",
       "    .dataframe thead tr:only-child th {\n",
       "        text-align: right;\n",
       "    }\n",
       "\n",
       "    .dataframe thead th {\n",
       "        text-align: left;\n",
       "    }\n",
       "\n",
       "    .dataframe tbody tr th {\n",
       "        vertical-align: top;\n",
       "    }\n",
       "</style>\n",
       "<table border=\"1\" class=\"dataframe\">\n",
       "  <thead>\n",
       "    <tr style=\"text-align: right;\">\n",
       "      <th></th>\n",
       "      <th>NRCH17_2</th>\n",
       "      <th>IRHHSIZ2</th>\n",
       "      <th>IRKI17_2</th>\n",
       "      <th>IRHH65_2</th>\n",
       "      <th>HLCNOTMO</th>\n",
       "      <th>HLCLAST</th>\n",
       "      <th>IRWELMOS</th>\n",
       "      <th>ANALWT_C</th>\n",
       "      <th>Criminal</th>\n",
       "      <th>IFATHER_1.0</th>\n",
       "      <th>...</th>\n",
       "      <th>VESTR_40043.0</th>\n",
       "      <th>VESTR_40044.0</th>\n",
       "      <th>VESTR_40045.0</th>\n",
       "      <th>VESTR_40046.0</th>\n",
       "      <th>VESTR_40047.0</th>\n",
       "      <th>VESTR_40048.0</th>\n",
       "      <th>VESTR_40049.0</th>\n",
       "      <th>VESTR_40050.0</th>\n",
       "      <th>VEREP_1.0</th>\n",
       "      <th>VEREP_2.0</th>\n",
       "    </tr>\n",
       "  </thead>\n",
       "  <tbody>\n",
       "    <tr>\n",
       "      <th>0</th>\n",
       "      <td>2.0</td>\n",
       "      <td>4.0</td>\n",
       "      <td>3.0</td>\n",
       "      <td>1.0</td>\n",
       "      <td>99.0</td>\n",
       "      <td>99.0</td>\n",
       "      <td>99.0</td>\n",
       "      <td>3884.805998</td>\n",
       "      <td>0</td>\n",
       "      <td>0</td>\n",
       "      <td>...</td>\n",
       "      <td>0</td>\n",
       "      <td>0</td>\n",
       "      <td>0</td>\n",
       "      <td>0</td>\n",
       "      <td>0</td>\n",
       "      <td>0</td>\n",
       "      <td>0</td>\n",
       "      <td>0</td>\n",
       "      <td>1</td>\n",
       "      <td>0</td>\n",
       "    </tr>\n",
       "    <tr>\n",
       "      <th>1</th>\n",
       "      <td>1.0</td>\n",
       "      <td>3.0</td>\n",
       "      <td>2.0</td>\n",
       "      <td>1.0</td>\n",
       "      <td>99.0</td>\n",
       "      <td>99.0</td>\n",
       "      <td>99.0</td>\n",
       "      <td>1627.108106</td>\n",
       "      <td>1</td>\n",
       "      <td>0</td>\n",
       "      <td>...</td>\n",
       "      <td>0</td>\n",
       "      <td>0</td>\n",
       "      <td>0</td>\n",
       "      <td>0</td>\n",
       "      <td>0</td>\n",
       "      <td>0</td>\n",
       "      <td>0</td>\n",
       "      <td>0</td>\n",
       "      <td>0</td>\n",
       "      <td>1</td>\n",
       "    </tr>\n",
       "  </tbody>\n",
       "</table>\n",
       "<p>2 rows × 279 columns</p>\n",
       "</div>"
      ],
      "text/plain": [
       "   NRCH17_2  IRHHSIZ2  IRKI17_2  IRHH65_2  HLCNOTMO  HLCLAST  IRWELMOS  \\\n",
       "0       2.0       4.0       3.0       1.0      99.0     99.0      99.0   \n",
       "1       1.0       3.0       2.0       1.0      99.0     99.0      99.0   \n",
       "\n",
       "      ANALWT_C  Criminal  IFATHER_1.0    ...      VESTR_40043.0  \\\n",
       "0  3884.805998         0            0    ...                  0   \n",
       "1  1627.108106         1            0    ...                  0   \n",
       "\n",
       "   VESTR_40044.0  VESTR_40045.0  VESTR_40046.0  VESTR_40047.0  VESTR_40048.0  \\\n",
       "0              0              0              0              0              0   \n",
       "1              0              0              0              0              0   \n",
       "\n",
       "   VESTR_40049.0  VESTR_40050.0  VEREP_1.0  VEREP_2.0  \n",
       "0              0              0          1          0  \n",
       "1              0              0          0          1  \n",
       "\n",
       "[2 rows x 279 columns]"
      ]
     },
     "execution_count": 33,
     "metadata": {},
     "output_type": "execute_result"
    }
   ],
   "source": [
    "train.head(2)"
   ]
  },
  {
   "cell_type": "code",
   "execution_count": null,
   "metadata": {
    "collapsed": true
   },
   "outputs": [],
   "source": []
  },
  {
   "cell_type": "code",
   "execution_count": null,
   "metadata": {
    "collapsed": true
   },
   "outputs": [],
   "source": [
    "# Check for duplicate rows"
   ]
  },
  {
   "cell_type": "code",
   "execution_count": null,
   "metadata": {
    "collapsed": true,
    "scrolled": true
   },
   "outputs": [],
   "source": [
    "# Missing value check\n",
    "train.isnull().sum()"
   ]
  },
  {
   "cell_type": "code",
   "execution_count": null,
   "metadata": {
    "collapsed": true
   },
   "outputs": [],
   "source": [
    "# Outliers\n",
    "fig, ax = plt.subplots(figsize=(15,  15))\n",
    "# X_train.boxplot(by='target', ax=ax)"
   ]
  },
  {
   "cell_type": "code",
   "execution_count": null,
   "metadata": {
    "collapsed": true,
    "scrolled": false
   },
   "outputs": [],
   "source": [
    "# Bar plots\n",
    "train.iloc[:, :4].hist()"
   ]
  },
  {
   "cell_type": "code",
   "execution_count": null,
   "metadata": {
    "collapsed": true,
    "scrolled": true
   },
   "outputs": [],
   "source": [
    "# Finding best distribution for each feature\n",
    "\n",
    "cdfs = [\n",
    "    \"norm\",            #Normal (Gaussian)\n",
    "    \"alpha\",           #Alpha\n",
    "    \"beta\",            #Beta\n",
    "    \"expon\",           #Exponential\n",
    "    \"gamma\",           #Gamma\n",
    "    \"laplace\",         #Laplace\n",
    "    \"rayleigh\",        #Rayleigh\n",
    "    \"uniform\",         #Uniform\n",
    "       ]\n",
    "\n",
    "col_name=list(X_train.columns.values)\n",
    "X_train.fillna(0, inplace=True)\n",
    "trans = {}\n",
    "for i in range(X_train.shape[1]):\n",
    "    p_max = -100\n",
    "    dist = ''\n",
    "    temp = X_train[col_name[i]].transpose().values.tolist()\n",
    "    # fit our data set against every probability distribution\n",
    "    for cdf in cdfs:\n",
    "        parameters = eval(\"stats.\"+cdf+\".fit(temp)\")\n",
    "        #Applying the Kolmogorov-Smirnof one sided test\n",
    "        D, p = stats.kstest(temp, cdf, args=parameters)\n",
    "        if p > p_max:\n",
    "            p_max = p\n",
    "            dist = cdf\n",
    "            #pretty-print the results\n",
    "        #print cdf.ljust(16) + (\"p: \"+str(p)).ljust(25)+\"D: \"+str(D)\n",
    "    #trans.append(dist)\n",
    "    trans[col_name[i]]=dist\n",
    "    print(col_name[i], \":\", dist, \"distribution\")"
   ]
  },
  {
   "cell_type": "markdown",
   "metadata": {},
   "source": [
    "# Feature Engineering / Selection"
   ]
  },
  {
   "cell_type": "code",
   "execution_count": null,
   "metadata": {
    "collapsed": true
   },
   "outputs": [],
   "source": [
    "# Checking collinearity (using correlation)\n",
    "correl = train.corr()\n",
    "# train[\"feat_1\"].corr(train[\"feat_2\"])"
   ]
  },
  {
   "cell_type": "code",
   "execution_count": null,
   "metadata": {
    "collapsed": true,
    "scrolled": true
   },
   "outputs": [],
   "source": [
    "cols = train.columns.values\n",
    "for i in range(len(cols)):\n",
    "    for j in range(i+1, len(cols)):\n",
    "        curr_cor = correl.loc[cols[i], cols[j]]\n",
    "        if (curr_cor >= 0.9) and (curr_cor < 1):\n",
    "            print(cols[i], cols[j], curr_cor)"
   ]
  },
  {
   "cell_type": "markdown",
   "metadata": {},
   "source": [
    "### Variance Threshold Check"
   ]
  },
  {
   "cell_type": "code",
   "execution_count": null,
   "metadata": {
    "collapsed": true
   },
   "outputs": [],
   "source": [
    "vt = VarianceThreshold()\n",
    "vt_train = vt.fit(train)"
   ]
  },
  {
   "cell_type": "code",
   "execution_count": null,
   "metadata": {
    "collapsed": true,
    "scrolled": true
   },
   "outputs": [],
   "source": [
    "# vt.variances_\n",
    "vt_df = DataFrame({'feature': list(train.columns.values), 'variance': vt.variances_}).sort_values(by='variance', ascending=True)\n",
    "print(vt_df.tail(10))"
   ]
  },
  {
   "cell_type": "markdown",
   "metadata": {},
   "source": [
    "## Splitting data"
   ]
  },
  {
   "cell_type": "code",
   "execution_count": 34,
   "metadata": {
    "collapsed": true
   },
   "outputs": [],
   "source": [
    "y = train['Criminal']\n",
    "X = train[[col for col in train.columns.values if col not in ['PERID', 'Criminal']]]\n",
    "# X['download_time'].fillna(0, inplace=True)"
   ]
  },
  {
   "cell_type": "markdown",
   "metadata": {
    "collapsed": true
   },
   "source": [
    "### Removing Multicollinearity (using VIF)"
   ]
  },
  {
   "cell_type": "code",
   "execution_count": 41,
   "metadata": {
    "collapsed": true
   },
   "outputs": [],
   "source": [
    "from statsmodels.stats.outliers_influence import variance_inflation_factor    \n",
    "from numpy import arange, delete\n",
    "\n",
    "def calculate_vif(X, thresh=100):\n",
    "    cols = X.columns\n",
    "    variables = arange(X.shape[1])\n",
    "    dropped=True\n",
    "    while dropped:\n",
    "        dropped=False\n",
    "        c = X[cols[variables]].values\n",
    "        vif = [variance_inflation_factor(c, ix) for ix in arange(c.shape[1])]\n",
    "\n",
    "        maxloc = vif.index(max(vif))\n",
    "        if max(vif) > thresh:\n",
    "            print('dropping \\'' + X[cols[variables]].columns[maxloc] + '\\' at index: ' + str(maxloc))\n",
    "            variables = delete(variables, maxloc)\n",
    "            dropped=True\n",
    "\n",
    "    print('Remaining variables:')\n",
    "    print(X.columns[variables])\n",
    "    return X[cols[variables]]"
   ]
  },
  {
   "cell_type": "code",
   "execution_count": null,
   "metadata": {},
   "outputs": [],
   "source": [
    "X = calculate_vif(X, 10)\n",
    "print(X.head(2))"
   ]
  },
  {
   "cell_type": "code",
   "execution_count": 20,
   "metadata": {},
   "outputs": [
    {
     "name": "stdout",
     "output_type": "stream",
     "text": [
      "(31705, 278) (13588, 278)\n"
     ]
    }
   ],
   "source": [
    "# Splitting Train test\n",
    "X_train, X_test, y_train, y_test = train_test_split(X, y, stratify=y, test_size=0.3, random_state=15)\n",
    "print(X_train.shape, X_test.shape)"
   ]
  },
  {
   "cell_type": "markdown",
   "metadata": {},
   "source": [
    "### Normalization"
   ]
  },
  {
   "cell_type": "code",
   "execution_count": null,
   "metadata": {
    "collapsed": true
   },
   "outputs": [],
   "source": [
    "# Normalizing data\n",
    "norm_train = DataFrame(normalize(X_train))\n",
    "norm_train.columns = list(X_train.columns.values)\n",
    "norm_train.head(2)"
   ]
  },
  {
   "cell_type": "code",
   "execution_count": null,
   "metadata": {
    "collapsed": true
   },
   "outputs": [],
   "source": [
    "X_train = norm_train"
   ]
  },
  {
   "cell_type": "markdown",
   "metadata": {},
   "source": [
    "### PCA"
   ]
  },
  {
   "cell_type": "code",
   "execution_count": null,
   "metadata": {
    "collapsed": true
   },
   "outputs": [],
   "source": [
    "from sklearn.decomposition import PCA\n",
    "pca = PCA(n_components=len(X_train.columns.values))"
   ]
  },
  {
   "cell_type": "code",
   "execution_count": null,
   "metadata": {
    "collapsed": true
   },
   "outputs": [],
   "source": [
    "pca_train = DataFrame(pca.fit_transform(X_train))"
   ]
  },
  {
   "cell_type": "code",
   "execution_count": null,
   "metadata": {
    "collapsed": true
   },
   "outputs": [],
   "source": [
    "sum(pca.explained_variance_[:20])"
   ]
  },
  {
   "cell_type": "code",
   "execution_count": null,
   "metadata": {
    "collapsed": true
   },
   "outputs": [],
   "source": []
  },
  {
   "cell_type": "markdown",
   "metadata": {},
   "source": [
    "### Feature Importance"
   ]
  },
  {
   "cell_type": "code",
   "execution_count": 21,
   "metadata": {},
   "outputs": [
    {
     "data": {
      "text/plain": [
       "RandomForestClassifier(bootstrap=True, class_weight=None, criterion='gini',\n",
       "            max_depth=None, max_features='auto', max_leaf_nodes=None,\n",
       "            min_impurity_decrease=0.0, min_impurity_split=None,\n",
       "            min_samples_leaf=1, min_samples_split=2,\n",
       "            min_weight_fraction_leaf=0.0, n_estimators=100, n_jobs=1,\n",
       "            oob_score=False, random_state=None, verbose=0,\n",
       "            warm_start=False)"
      ]
     },
     "execution_count": 21,
     "metadata": {},
     "output_type": "execute_result"
    }
   ],
   "source": [
    "rf = RandomForestClassifier(n_estimators=100)\n",
    "rf.fit(X_train, y_train)"
   ]
  },
  {
   "cell_type": "code",
   "execution_count": 22,
   "metadata": {
    "collapsed": true
   },
   "outputs": [],
   "source": [
    "feat_imp = Series(rf.feature_importances_, index=X_train.columns.values).sort_values(ascending=False)"
   ]
  },
  {
   "cell_type": "code",
   "execution_count": 23,
   "metadata": {},
   "outputs": [
    {
     "data": {
      "image/png": "[encoded data removed]",
      "text/plain": [
       "<matplotlib.figure.Figure at 0x27885095f98>"
      ]
     },
     "metadata": {},
     "output_type": "display_data"
    }
   ],
   "source": [
    "feat_imp[:20].plot(kind='bar', title='Feature Importance with Random Forest', figsize=(12,8))\n",
    "plt.ylabel('Feature Importance values')\n",
    "#plt.subplots_adjust(bottom=0.25)\n",
    "#plt.savefig('FeatImportance.png')\n",
    "plt.show()"
   ]
  },
  {
   "cell_type": "code",
   "execution_count": 13,
   "metadata": {},
   "outputs": [
    {
     "name": "stdout",
     "output_type": "stream",
     "text": [
      "['IRFAMIN3', 'ANALWT_C', 'VESTR', 'POVERTY3', 'IRPINC3', 'GRPHLTIN', 'IRHHSIZ2', 'IFATHER', 'PRVHLTIN', 'IRPRVHLT', 'PRXYDATA', 'COUTYP2', 'IRKI17_2', 'VEREP', 'PDEN10', 'CELLNOTCL', 'IRMEDICR', 'IRHH65_2', 'MEDICARE', 'NRCH17_2']\n"
     ]
    }
   ],
   "source": [
    "imp_feats = list(feat_imp[:20].index)\n",
    "print(imp_feats)"
   ]
  },
  {
   "cell_type": "markdown",
   "metadata": {},
   "source": [
    "### Feature Selection"
   ]
  },
  {
   "cell_type": "code",
   "execution_count": null,
   "metadata": {
    "collapsed": true,
    "scrolled": true
   },
   "outputs": [],
   "source": [
    "# Select From Model\n",
    "feats = list(X_train.columns.values)\n",
    "\n",
    "rf = RandomForestClassifier(n_estimators=100, verbose=2, random_state=1, max_depth=20)\n",
    "\n",
    "# define Boruta feature selection method\n",
    "feat_selector = SelectFromModel(rf)\n",
    "\n",
    "# find all relevant features - 20 features should be selected\n",
    "feat_selector.fit(X_train, y_train)"
   ]
  },
  {
   "cell_type": "code",
   "execution_count": null,
   "metadata": {
    "collapsed": true
   },
   "outputs": [],
   "source": [
    "sfmodel_feats = [feats[i] for i in feat_selector.get_support(indices=True)]\n",
    "print(sfmodel_feats)"
   ]
  },
  {
   "cell_type": "code",
   "execution_count": null,
   "metadata": {
    "collapsed": true
   },
   "outputs": [],
   "source": []
  },
  {
   "cell_type": "code",
   "execution_count": null,
   "metadata": {
    "collapsed": true
   },
   "outputs": [],
   "source": []
  },
  {
   "cell_type": "markdown",
   "metadata": {},
   "source": [
    "# Model Training"
   ]
  },
  {
   "cell_type": "markdown",
   "metadata": {},
   "source": [
    "## Pipeline (AdaBoost, RF, SVM, ET, KNN)"
   ]
  },
  {
   "cell_type": "code",
   "execution_count": null,
   "metadata": {
    "collapsed": true
   },
   "outputs": [],
   "source": [
    "rf = RandomForestClassifier()\n",
    "et = ExtraTreesClassifier()\n",
    "ada = AdaBoostClassifier(base_estimator=et)\n",
    "gb = GradientBoostingClassifier()\n",
    "\n",
    "rfe = RFE(rf, step=0.2)\n",
    "select = SelectFromModel(rf)\n",
    "kbest = SelectKBest(chi2)\n",
    "\n",
    "pipe = Pipeline([('feat_sel', rfe), ('model', rf)])\n",
    "\n",
    "feat_sel_params = [\n",
    "    {\n",
    "        'feat_sel': [kbest],\n",
    "        'feat_sel__k': [20, 30]},\n",
    "    {\n",
    "        'feat_sel': [rfe],\n",
    "        'feat_sel__estimator': [gb], #rf, et, \n",
    "        'feat_sel__n_features_to_select': [20]},\n",
    "    {\n",
    "        'feat_sel': [select],\n",
    "        'feat_sel__estimator': [gb]} #rf, et, \n",
    "]\n",
    "\n",
    "model_params = [\n",
    "    {\n",
    "        'model': [gb],\n",
    "        'model__n_estimators': [10], #500, 1000, 2000, 4000\n",
    "        'model__learning_rate': [0.05]}, #0.01, 0.04, 0.1, 0.5, 1\n",
    "    {\n",
    "        'model': [ada],\n",
    "        'model__n_estimators': [10], #500, 1000, 2000, 4000\n",
    "        'model__learning_rate': [0.05], #0.01, 0.04, 0.1, 0.5, 1\n",
    "        'model__random_state': [2]},\n",
    "    {\n",
    "        'model': [rf],\n",
    "        'model__n_estimators': [10], #500, 1000, 2000, 4000\n",
    "        'model__criterion': ['gini', 'entropy'],\n",
    "        'model__max_features': ['sqrt'], #, 'log2'\n",
    "        'model__min_samples_leaf': [3], #3, 5, 7, 9\n",
    "        'model__max_depth': [9]}, #8, 10, 14\n",
    "    {\n",
    "        'model': [et],\n",
    "        'model__n_estimators': [10], #500, 1000, 2000, 4000\n",
    "        'model__criterion': ['gini', 'entropy'],\n",
    "        'model__max_features': ['sqrt'], #, 'log2'\n",
    "        'model__min_samples_leaf': [3], #3, 5, 7\n",
    "        'model__max_depth': [9]} #8, 10, 14\n",
    "]\n",
    "\n",
    "params = []\n",
    "for feat_sel in feat_sel_params:\n",
    "    for model in model_params:\n",
    "        # Merge dictionaries and append to list\n",
    "        params.append({**feat_sel, **model})"
   ]
  },
  {
   "cell_type": "code",
   "execution_count": null,
   "metadata": {
    "scrolled": true
   },
   "outputs": [],
   "source": [
    "grid = GridSearchCV(estimator=pipe, param_grid=params, scoring=make_scorer(matthews_corrcoef), verbose=20, n_jobs=-1)\n",
    "grid.fit(X_train, y_train)\n",
    "cv_result_pipe = DataFrame(grid.cv_results_).to_csv('cv_result_pipe.csv', index=False)"
   ]
  },
  {
   "cell_type": "code",
   "execution_count": null,
   "metadata": {},
   "outputs": [],
   "source": [
    "# CV results\n",
    "print(grid.best_score_)\n",
    "print(grid.best_estimator_)"
   ]
  },
  {
   "cell_type": "code",
   "execution_count": null,
   "metadata": {
    "collapsed": true
   },
   "outputs": [],
   "source": [
    "imp_feats = X_train.columns.values[grid.best_params_['feat_sel'].get_support(indices=True)]\n",
    "print(imp_feats)"
   ]
  },
  {
   "cell_type": "code",
   "execution_count": null,
   "metadata": {
    "collapsed": true
   },
   "outputs": [],
   "source": [
    "best_model = grid.best_estimator_.fit(X_train[imp_feats], y_train)\n",
    "y_pred = best_model.predict(X_test[imp_feats])\n",
    "# print(y_pred[:4])\n",
    "\n",
    "print('MCC:', matthews_corrcoef(y_test, y_pred))\n",
    "print('Acc:', accuracy_score(y_test, y_pred))\n",
    "print('Confusion Matrix\\n', confusion_matrix(y_test, y_pred))"
   ]
  },
  {
   "cell_type": "markdown",
   "metadata": {},
   "source": [
    "## Neural Network (sklearn)"
   ]
  },
  {
   "cell_type": "code",
   "execution_count": null,
   "metadata": {
    "collapsed": true
   },
   "outputs": [],
   "source": [
    "from sklearn.neural_network import MLPClassifier"
   ]
  },
  {
   "cell_type": "code",
   "execution_count": null,
   "metadata": {},
   "outputs": [],
   "source": [
    "nn = MLPClassifier((100, 25), max_iter=200,tol=0, verbose=10)\n",
    "nn.fit(X_train, y_train)"
   ]
  },
  {
   "cell_type": "code",
   "execution_count": null,
   "metadata": {},
   "outputs": [],
   "source": [
    "best_model = nn\n",
    "y_pred = best_model.predict(X_test)\n",
    "# print(y_pred[:4])\n",
    "\n",
    "print('MCC:', matthews_corrcoef(y_test, y_pred))\n",
    "print('Acc:', accuracy_score(y_test, y_pred))\n",
    "print('Confusion Matrix\\n', confusion_matrix(y_test, y_pred))"
   ]
  },
  {
   "cell_type": "code",
   "execution_count": null,
   "metadata": {
    "collapsed": true
   },
   "outputs": [],
   "source": []
  },
  {
   "cell_type": "code",
   "execution_count": null,
   "metadata": {
    "collapsed": true
   },
   "outputs": [],
   "source": []
  },
  {
   "cell_type": "code",
   "execution_count": null,
   "metadata": {
    "collapsed": true
   },
   "outputs": [],
   "source": []
  },
  {
   "cell_type": "markdown",
   "metadata": {},
   "source": [
    "### XGBoost"
   ]
  },
  {
   "cell_type": "code",
   "execution_count": null,
   "metadata": {
    "scrolled": true
   },
   "outputs": [],
   "source": [
    "import xgboost as xgb\n",
    "\n",
    "# Doing gridsearch to find best params configuration\n",
    "clf = xgb.XGBClassifier(objective='binary:logistic')\n",
    "\n",
    "params = {\n",
    "    'learning_rate': [0.03],   # Learning rate alpha\n",
    "    'max_depth': [8],   # maximum depth of the tree\n",
    "    'gamma': [0.1, 0.5],   # minimum eval_score deduction at each split\n",
    "    'min_child_weight': [3, 6],  # minimum number of datapoints in a split\n",
    "    'subsample': [0.9],  # sample size row-wise during bootstrap\n",
    "    'colsample_bytree': [0.5],  # column-wise sample size\n",
    "    'n_estimators': [100],   # number of trees to build\n",
    "    }\n",
    "\n",
    "grid = GridSearchCV(clf, params, cv=5, verbose=50, scoring=make_scorer(matthews_corrcoef), n_jobs=-1)\n",
    "\n",
    "grid.fit(X_train, y_train)\n",
    "\n",
    "# CV results\n",
    "cv_result = DataFrame(grid.cv_results_).to_csv('cv_results_xgb.csv', index=False)"
   ]
  },
  {
   "cell_type": "code",
   "execution_count": null,
   "metadata": {},
   "outputs": [],
   "source": [
    "print(grid.best_score_)\n",
    "print(grid.best_estimator_)"
   ]
  },
  {
   "cell_type": "code",
   "execution_count": null,
   "metadata": {
    "collapsed": true
   },
   "outputs": [],
   "source": [
    "# imp_feats = X_train.columns.values[grid.best_params_.get_support(indices=True)]\n",
    "# print(imp_feats)"
   ]
  },
  {
   "cell_type": "code",
   "execution_count": null,
   "metadata": {},
   "outputs": [],
   "source": [
    "# Testing on X_test\n",
    "xgb_model = grid.best_estimator_.fit(X_train, y_train) #[imp_feats]\n",
    "y_pred = xgb_model.predict(X_test) #[imp_feats]\n",
    "print('MCC:', matthews_corrcoef(y_test, y_pred))\n",
    "print('Acc:', accuracy_score(y_test, y_pred))\n",
    "print('Confusion Matrix\\n', confusion_matrix(y_test, y_pred))"
   ]
  },
  {
   "cell_type": "code",
   "execution_count": null,
   "metadata": {},
   "outputs": [],
   "source": [
    "# Using best params to find optimum number of iterations\n",
    "grid_output = grid.best_params_\n",
    "params = {\n",
    "    'objective': 'binary:logistic', \n",
    "    #'num_class': 2     # num_class not required with the Binary Logistic\n",
    "    }\n",
    "\n",
    "best_params = {**grid_output, **params}\n",
    "#best_params['learning_rate'] = 0.02\n",
    "print(best_params)"
   ]
  },
  {
   "cell_type": "code",
   "execution_count": null,
   "metadata": {
    "scrolled": true
   },
   "outputs": [],
   "source": [
    "train_xgb = xgb.DMatrix(X_train, y_train)\n",
    "\n",
    "from numpy import linspace, array\n",
    "def evalerror(preds, dtrain):\n",
    "    labels = dtrain.get_label()\n",
    "    thresholds = linspace(0.01, 0.99, 50)\n",
    "    mcc = array([matthews_corrcoef(labels, preds>thr) for thr in thresholds])\n",
    "    best_score = mcc.max()\n",
    "    return 'mcc', -best_score\n",
    "\n",
    "cv_results = xgb.cv(best_params, train_xgb, num_boost_round=10000, nfold=5, stratified=True, as_pandas=True, \n",
    "                    seed=1, shuffle=True, early_stopping_rounds=20, feval = evalerror, verbose_eval=True)"
   ]
  },
  {
   "cell_type": "code",
   "execution_count": null,
   "metadata": {
    "collapsed": true
   },
   "outputs": [],
   "source": [
    "nround = cv_results.shape[0]  # Where the best iteration happened\n",
    "print('Best Iteration:', nround)\n",
    "xgb_clf = xgb.train(best_params, train_xgb, num_boost_round=nround, verbose_eval=True)\n",
    "\n",
    "# Predicting on the test set\n",
    "test_xgb  = xgb.DMatrix(test_xgb_org)\n",
    "test_pred = xgb_clf.predict(test_xgb)\n",
    "Class_1, Class_2, Class_3, Class_4, Class_5, Class_6, Class_7, Class_8, Class_9 = map(list, zip(*test_pred))\n",
    "output = DataFrame({'id': test['id'],\n",
    "                    'Class_1': Class_1, \n",
    "                    'Class_2': Class_2, \n",
    "                    'Class_3': Class_3, \n",
    "                    'Class_4': Class_4, \n",
    "                    'Class_5': Class_5, \n",
    "                    'Class_6': Class_6, \n",
    "                    'Class_7': Class_7, \n",
    "                    'Class_8': Class_8, \n",
    "                    'Class_9': Class_9})\n",
    "output = output[['id', 'Class_1', 'Class_2', 'Class_3', 'Class_4', 'Class_5', 'Class_6', 'Class_7', 'Class_8', 'Class_9']]\n",
    "\n",
    "output.to_csv('output.csv', index=False)\n",
    "output.head(2)"
   ]
  },
  {
   "cell_type": "code",
   "execution_count": null,
   "metadata": {
    "collapsed": true
   },
   "outputs": [],
   "source": []
  },
  {
   "cell_type": "code",
   "execution_count": null,
   "metadata": {
    "collapsed": true
   },
   "outputs": [],
   "source": []
  },
  {
   "cell_type": "code",
   "execution_count": null,
   "metadata": {
    "collapsed": true
   },
   "outputs": [],
   "source": []
  },
  {
   "cell_type": "code",
   "execution_count": null,
   "metadata": {
    "collapsed": true
   },
   "outputs": [],
   "source": []
  },
  {
   "cell_type": "code",
   "execution_count": null,
   "metadata": {
    "collapsed": true
   },
   "outputs": [],
   "source": []
  }
 ],
 "metadata": {
  "anaconda-cloud": {},
  "kernelspec": {
   "display_name": "Python 3",
   "language": "python",
   "name": "python3"
  },
  "language_info": {
   "codemirror_mode": {
    "name": "ipython",
    "version": 3
   },
   "file_extension": ".py",
   "mimetype": "text/x-python",
   "name": "python",
   "nbconvert_exporter": "python",
   "pygments_lexer": "ipython3",
   "version": "3.6.3"
  }
 },
 "nbformat": 4,
 "nbformat_minor": 1
}
